{
 "cells": [
  {
   "cell_type": "code",
   "execution_count": null,
   "metadata": {},
   "outputs": [],
   "source": [
    "from datenguidepy.query_builder import Query\n",
    "from datenguidepy.query_execution import QueryExecutioner\n",
    "\n",
    "import pandas as pd\n",
    "from functools import partial"
   ]
  },
  {
   "cell_type": "code",
   "execution_count": null,
   "metadata": {},
   "outputs": [],
   "source": [
    "# from unittest.mock import Mock"
   ]
  },
  {
   "cell_type": "code",
   "execution_count": null,
   "metadata": {},
   "outputs": [],
   "source": [
    "%%time\n",
    "\n",
    "def get_all_regions():\n",
    "    def nuts_query(nuts_level):\n",
    "        q = Query.all_regions(nuts=nuts_level)\n",
    "        return q\n",
    "\n",
    "    def lau_query(lau_level):\n",
    "        q = Query.all_regions(lau = lau_level)\n",
    "        return q\n",
    "\n",
    "    qb_all = Query.all_regions()\n",
    "\n",
    "    qe = QueryExecutioner()\n",
    "    all_regions = qe.run_query(qb_all)\n",
    "    r_nuts1 = qe.run_query(nuts_query(1))\n",
    "    r_nuts2 = qe.run_query(nuts_query(2))\n",
    "    r_nuts3 = qe.run_query(nuts_query(3))\n",
    "    r_lau1 = qe.run_query(lau_query(1))\n",
    "    r_lau2 = qe.run_query(lau_query(2))\n",
    "\n",
    "    levels = {\n",
    "    'nuts1':r_nuts1,\n",
    "    'nuts2':r_nuts2,\n",
    "    'nuts3':r_nuts3,\n",
    "    'lau':r_lau1,\n",
    "    # 'lau2':r_lau2\n",
    "    }\n",
    "\n",
    "    def isAnscestor(region_id,candidate):\n",
    "        return region_id.startswith(candidate) and candidate != region_id\n",
    "\n",
    "\n",
    "    def parent(region_id,region_details):\n",
    "        desc =  region_details.assign(ansc = lambda df:df.index.map(lambda i: isAnscestor(region_id,i))).query('ansc')\n",
    "        max_lev = desc.level.max()\n",
    "        parent_frame = desc.query('level == @max_lev')\n",
    "        if not parent_frame.empty:\n",
    "            return parent_frame.iloc[0,:].name\n",
    "        else:\n",
    "            None\n",
    "\n",
    "    all_regions_df = pd.concat([pd.DataFrame(page['data']['allRegions']['regions']) for page in all_regions[0].query_results]).set_index('id')\n",
    "\n",
    "    level_df = pd.concat(pd.concat([pd.DataFrame(page['data']['allRegions']['regions']) for page in levels[k][0].query_results]).assign(level = k) for k in levels)\n",
    "\n",
    "    all_rg_parents= (all_regions_df.join(\n",
    "        level_df.set_index('id').loc[:,'level']\n",
    "        ).assign(parent = lambda df: df.index.map(partial(parent,region_details = all_regions_df.assign(level = lambda df:df.index.map(len)))))\n",
    "    )\n",
    "    all_rg_parents.loc[all_rg_parents.level == 'nuts1','parent'] = 'DG'\n",
    "    \n",
    "    return all_rg_parents"
   ]
  },
  {
   "cell_type": "code",
   "execution_count": null,
   "metadata": {},
   "outputs": [],
   "source": [
    "qb_all.get_graphql_query()"
   ]
  },
  {
   "cell_type": "code",
   "execution_count": null,
   "metadata": {},
   "outputs": [],
   "source": [
    "all_regions_df.head()"
   ]
  },
  {
   "cell_type": "code",
   "execution_count": null,
   "metadata": {},
   "outputs": [],
   "source": [
    "ar_detail.head()"
   ]
  },
  {
   "cell_type": "code",
   "execution_count": null,
   "metadata": {},
   "outputs": [],
   "source": [
    "all_rg_parents.head()"
   ]
  },
  {
   "cell_type": "code",
   "execution_count": null,
   "metadata": {},
   "outputs": [],
   "source": [
    "level_df.head()"
   ]
  },
  {
   "cell_type": "code",
   "execution_count": null,
   "metadata": {},
   "outputs": [],
   "source": [
    "    def isDescendent(region_id,candidate):\n",
    "        return candidate.startswith(region_id) and candidate != region_id\n",
    "\n",
    "    def children(region_id,region_details):\n",
    "        desc =  region_details.assign(desc = lambda df:df.index.map(lambda i: isDescendent(region_id,i))).query('desc')\n",
    "        min_lev = desc.level.min()\n",
    "        return desc.query('level == @min_lev')\n"
   ]
  },
  {
   "cell_type": "code",
   "execution_count": null,
   "metadata": {},
   "outputs": [],
   "source": [
    "all_regions_df.join(level_df.set_index('id').loc[:,'level']).to_csv('regions.csv')"
   ]
  },
  {
   "cell_type": "code",
   "execution_count": null,
   "metadata": {},
   "outputs": [],
   "source": [
    "level_df.level.value_counts(ascending=True)"
   ]
  },
  {
   "cell_type": "markdown",
   "metadata": {},
   "source": [
    "This does not correspond to the current german nuts. These changed in the past however. One shoudl try to make a query with statistics from 2018 or later and do the same analysis again, to see whether one gets an up to date view of the nuts."
   ]
  },
  {
   "cell_type": "code",
   "execution_count": null,
   "metadata": {},
   "outputs": [],
   "source": [
    "level_df.id.str.len().value_counts(ascending=True)"
   ]
  },
  {
   "cell_type": "code",
   "execution_count": null,
   "metadata": {},
   "outputs": [],
   "source": [
    "level_df.groupby('level').apply(lambda df: (df.id.str.len().min(),df.id.str.len().max()))"
   ]
  },
  {
   "cell_type": "code",
   "execution_count": null,
   "metadata": {},
   "outputs": [],
   "source": [
    "no_level = all_regions_df.merge(level_df,on='id',how='left').query('level.isna()')\n",
    "print(no_level.shape)\n",
    "no_level.head()"
   ]
  },
  {
   "cell_type": "code",
   "execution_count": null,
   "metadata": {},
   "outputs": [],
   "source": []
  },
  {
   "cell_type": "code",
   "execution_count": null,
   "metadata": {},
   "outputs": [],
   "source": [
    "\n"
   ]
  },
  {
   "cell_type": "code",
   "execution_count": null,
   "metadata": {},
   "outputs": [],
   "source": []
  },
  {
   "cell_type": "code",
   "execution_count": null,
   "metadata": {},
   "outputs": [],
   "source": [
    "all_rg_parents.to_csv('regions.csv')"
   ]
  },
  {
   "cell_type": "code",
   "execution_count": null,
   "metadata": {},
   "outputs": [],
   "source": [
    "def hirachy_up(lowestids,hirachy_frame = all_rg_parents):\n",
    "    anscestors = []\n",
    "    current_ids = lowestids\n",
    "    while len(current_ids)>0:\n",
    "        current_regions = hirachy_frame.query('index.isin(@current_ids)')\n",
    "        anscestors.append(current_regions)\n",
    "        current_ids = current_regions.dropna().parent.unique()\n",
    "    return pd.concat(anscestors).sort_index()\n",
    "\n",
    "def hirachy_down(highest_ids,lowest_level='lau',hirachy_frame = all_rg_parents):\n",
    "    descendents = [hirachy_frame.query('index.isin(@highest_ids)')]\n",
    "    current_ids = highest_ids\n",
    "    while len(current_ids)>0:\n",
    "        current_regions = hirachy_frame.query('parent.isin(@current_ids)')\n",
    "        descendents.append(current_regions)\n",
    "        current_ids = current_regions.dropna().index.unique()\n",
    "#         print(current_regions)\n",
    "#         print(current_regions.level.unique())\n",
    "        if lowest_level in current_regions.level.unique():\n",
    "            break\n",
    "    return pd.concat(descendents).sort_index()\n",
    "\n",
    "def siblings(region_id,hirachy_frame = all_rg_parents):\n",
    "    parent = hirachy_frame.query('index == @region_id').loc[:,'parent'].iloc[0]\n",
    "    return hirachy_frame.query('parent == @parent')"
   ]
  },
  {
   "cell_type": "code",
   "execution_count": null,
   "metadata": {},
   "outputs": [],
   "source": [
    "siblings('051')"
   ]
  },
  {
   "cell_type": "code",
   "execution_count": null,
   "metadata": {},
   "outputs": [],
   "source": [
    "hirachy_up(['051']).sort_values(['parent','level'])\n",
    "\n",
    "dg_map = lambda x: x if x != 'DG' else ''\n",
    "\n",
    "hu = hirachy_up(['051'])\n",
    "hu.assign(sort_col = lambda df: df.index.map(dg_map)).sort_values('sort_col').drop('sort_col',axis=1)"
   ]
  },
  {
   "cell_type": "code",
   "execution_count": null,
   "metadata": {},
   "outputs": [],
   "source": [
    "hirachy_down(['05'],None)"
   ]
  },
  {
   "cell_type": "code",
   "execution_count": null,
   "metadata": {},
   "outputs": [],
   "source": [
    "ar_detail.query('id == \"05911\"')"
   ]
  },
  {
   "cell_type": "code",
   "execution_count": null,
   "metadata": {},
   "outputs": [],
   "source": [
    "parent_rel = ar_detail.reset_index().assign(parent = lambda df: df.id.map(parent))"
   ]
  },
  {
   "cell_type": "code",
   "execution_count": null,
   "metadata": {},
   "outputs": [],
   "source": [
    "all_rg_parents.loc[all_rg_parents.level == 'nuts1','parent'] = 'DG'"
   ]
  },
  {
   "cell_type": "code",
   "execution_count": null,
   "metadata": {},
   "outputs": [],
   "source": [
    "def children(region_id):\n",
    "    return parent_rel.query('parent == @region_id')"
   ]
  },
  {
   "cell_type": "code",
   "execution_count": null,
   "metadata": {},
   "outputs": [],
   "source": [
    "children('16')"
   ]
  },
  {
   "cell_type": "code",
   "execution_count": null,
   "metadata": {},
   "outputs": [],
   "source": []
  },
  {
   "cell_type": "code",
   "execution_count": null,
   "metadata": {},
   "outputs": [],
   "source": []
  }
 ],
 "metadata": {
  "kernelspec": {
   "display_name": "Python 3",
   "language": "python",
   "name": "python3"
  },
  "language_info": {
   "codemirror_mode": {
    "name": "ipython",
    "version": 3
   },
   "file_extension": ".py",
   "mimetype": "text/x-python",
   "name": "python",
   "nbconvert_exporter": "python",
   "pygments_lexer": "ipython3",
   "version": "3.7.4"
  }
 },
 "nbformat": 4,
 "nbformat_minor": 2
}
