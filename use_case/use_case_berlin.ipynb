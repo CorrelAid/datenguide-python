{
 "cells": [
  {
   "cell_type": "markdown",
   "metadata": {},
   "source": [
    "# 1. Search for region id's \n",
    "#### Use of Berlin Bezirke *get_all_regions()* and get Berlin's region id at the nuts1 - Level"
   ]
  },
  {
   "cell_type": "code",
   "execution_count": null,
   "metadata": {
    "scrolled": true
   },
   "outputs": [],
   "source": [
    "from datenguidepy.query_helper import get_all_regions\n",
    "get_all_regions()\n",
    "get_all_regions().query(\"name == 'Berlin' and level == 'nuts1'\")"
   ]
  },
  {
   "cell_type": "markdown",
   "metadata": {},
   "source": [
    "# 2. Search for names of statistics\n",
    "#### Use *get_statistics()* to search for the variables you are interested in "
   ]
  },
  {
   "cell_type": "code",
   "execution_count": null,
   "metadata": {},
   "outputs": [],
   "source": [
    "from datenguidepy.query_helper import get_statistics"
   ]
  },
  {
   "cell_type": "code",
   "execution_count": null,
   "metadata": {},
   "outputs": [],
   "source": [
    "descr = get_statistics()\n",
    "descr[descr['short_description'].str.contains('Lebend Geborene', case = False)]"
   ]
  },
  {
   "cell_type": "code",
   "execution_count": null,
   "metadata": {},
   "outputs": [],
   "source": [
    "descr[descr['short_description'].str.contains('Bevölkerungsstand', case = False)]"
   ]
  },
  {
   "cell_type": "code",
   "execution_count": null,
   "metadata": {},
   "outputs": [],
   "source": [
    "descr[descr['short_description'].str.contains('Wohnfläche', case = False)]"
   ]
  },
  {
   "cell_type": "markdown",
   "metadata": {},
   "source": [
    "# 3. Get data\n",
    "\n",
    "#### Use *Query.region* to get data per Bezirk and append single dataframes"
   ]
  },
  {
   "cell_type": "code",
   "execution_count": null,
   "metadata": {},
   "outputs": [],
   "source": [
    "from datenguidepy import Query\n",
    "import pandas as pd\n",
    "districts = get_all_regions().query(\"parent == '11' and level == 'nuts3'\")\n",
    "\n",
    "data_ana = pd.DataFrame()\n",
    "for i, berlinid in enumerate(districts.index):\n",
    "    query = Query.region(str(berlinid))\n",
    "    query.add_field('BEVSTD')\n",
    "    query.add_field('FLCNW1')\n",
    "    query.add_field('BEV001')\n",
    "    globals()[f\"data_transformed_{str(i)}\"] = query.results()\n",
    "    temp = query.results()\n",
    "    if data_ana.empty:\n",
    "        data_ana = temp\n",
    "    else:\n",
    "        data_ana = data_ana.append(temp)\n",
    "    \n",
    "\n",
    "data_ana['AGS_G'] = data_ana['id'].astype('int64')\n",
    "\n",
    "cols = ['id','name','year','BEV001','BEVSTD','FLCNW1','AGS_G']\n",
    "data_ana = data_ana[cols]\n",
    "data_ana.sort_index(inplace = True)\n",
    "\n",
    "data_ana.head()"
   ]
  },
  {
   "cell_type": "markdown",
   "metadata": {},
   "source": [
    "# 4. Get shapefile of Berlin Bezirke and join with dataframe\n",
    "#### Use geopandas to open shapefile (downloaded from: https://data.technologiestiftung-berlin.de/dataset/bezirksgrenzen)\n"
   ]
  },
  {
   "cell_type": "code",
   "execution_count": null,
   "metadata": {
    "scrolled": true
   },
   "outputs": [],
   "source": [
    "import geopandas as gpd\n",
    "\n",
    "de = gpd.read_file('ADD YOUR PATH HERE/Bezirksgrenzen/Bezirksgrenzen.shp')\n",
    "\n",
    "de = de[['Land_schlu', 'Gemeinde_s', 'geometry']]\n",
    "de['AGS_G']=(de['Land_schlu'].astype(int)*1000)+de['Gemeinde_s'].astype(int)\n",
    "de['AGS_G']=de['AGS_G'].astype('int64')\n",
    "de.sort_index(inplace = True)\n",
    "de.head(4)"
   ]
  },
  {
   "cell_type": "markdown",
   "metadata": {},
   "source": [
    "#### Some data preparation"
   ]
  },
  {
   "cell_type": "code",
   "execution_count": null,
   "metadata": {
    "scrolled": true
   },
   "outputs": [],
   "source": [
    "df = gpd.GeoDataFrame(de.merge(data_ana.loc[:100], on = 'AGS_G'))[['geometry', 'BEV001', 'name', 'year', 'BEVSTD', 'FLCNW1']]\n",
    "df['births_per_inh'] = round(df['BEV001']/(df['BEVSTD']/1000),2)\n",
    "df['sq_per_inh'] = round((df['FLCNW1']*1000)/df['BEVSTD'],2)\n",
    "df.head(4)"
   ]
  },
  {
   "cell_type": "markdown",
   "metadata": {},
   "source": [
    "# 5. Visualisation"
   ]
  },
  {
   "cell_type": "code",
   "execution_count": null,
   "metadata": {},
   "outputs": [],
   "source": [
    "import param\n",
    "import holoviews as hv\n",
    "import panel as pn\n",
    "import geoviews as gv\n",
    "from bokeh.models import HoverTool\n",
    "from cartopy import crs as ccrs \n",
    "from holoviews import opts\n",
    "from bokeh.models import WMTSTileSource\n",
    "\n",
    "gv.extension('bokeh')\n",
    "pn.extension()\n",
    "\n",
    "years = list(data_ana[data_ana['year']<2011].year.drop_duplicates().astype(int).sort_values())\n",
    "\n",
    "varsv = ['births_per_inh', 'sq_per_inh']\n",
    "\n",
    "data_ana['year'] = data_ana['year'].astype(int)\n",
    "\n",
    "class BerlinStats(param.Parameterized):\n",
    "\n",
    "    year = param.ObjectSelector(default=years[-1], objects=years)\n",
    "    statistic =  param.ObjectSelector(default=varsv[-1], objects=varsv)\n",
    "    \n",
    "    @param.depends('year', 'statistic')\n",
    "    def load_statistic(self):\n",
    "        \n",
    "        hover = (HoverTool(tooltips = [ ( 'Ort',   '@{name}'),\n",
    "                                       ( 'year',   '@year'), \n",
    "                                       ( 'Births / 1.000 Inhabitants', '@births_per_inh{(0.00)}'), \n",
    "                                       ( 'Living space m2 / Inhabitant', '@sq_per_inh{(0.00)}'), \n",
    "                                      ]))\n",
    "        p = (gv.Polygons(df[df['year']==self.year], \n",
    "                                    vdims=['births_per_inh', 'sq_per_inh', 'name', 'year'])\n",
    "                                    .opts(color_index=self.statistic, colorbar=True, cmap='coolwarm'\n",
    "                                          ,  tools=[hover], fill_alpha=.5))\n",
    "        return p\n",
    "\n",
    "bstats = BerlinStats()\n",
    "\n",
    "base_map = gv.WMTS(WMTSTileSource(url='http://c.tile.openstreetmap.org/{Z}/{X}/{Y}.png'), \n",
    "                     crs=ccrs.PlateCarree())\n",
    "\n",
    "stock_dmap = (base_map * gv.DynamicMap(bstats.load_statistic)).opts(width=600, height=600)\n",
    "\n",
    "pn.Row(bstats.param, stock_dmap)"
   ]
  }
 ],
 "metadata": {
  "kernelspec": {
   "display_name": "Python 3",
   "language": "python",
   "name": "python3"
  },
  "language_info": {
   "codemirror_mode": {
    "name": "ipython",
    "version": 3
   },
   "file_extension": ".py",
   "mimetype": "text/x-python",
   "name": "python",
   "nbconvert_exporter": "python",
   "pygments_lexer": "ipython3",
   "version": "3.6.8"
  }
 },
 "nbformat": 4,
 "nbformat_minor": 2
}
