{
 "cells": [
  {
   "cell_type": "markdown",
   "metadata": {},
   "source": [
    "# Advenced data exploration dashboard\n",
    "\n",
    "\n",
    "### Set up requirements, import packages"
   ]
  },
  {
   "cell_type": "code",
   "execution_count": null,
   "metadata": {},
   "outputs": [],
   "source": [
    "%load_ext autoreload\n",
    "%autoreload\n",
    "\n",
    "import os\n",
    "if not os.path.basename(os.getcwd()) == \"datenguide-python\":\n",
    "    os.chdir(\"..\")\n",
    "    \n",
    "from datenguidepy.query_helper import get_all_regions, get_statistics\n",
    "from datenguidepy import Query\n",
    "import pandas as pd\n",
    "import ipywidgets as widgets\n",
    "from ipywidgets import interact, interactive\n",
    "%matplotlib inline\n",
    "\n",
    "pd.set_option('display.max_colwidth', 150)"
   ]
  },
  {
   "cell_type": "markdown",
   "metadata": {},
   "source": [
    "### Create dashboard\n",
    "\n",
    "Selecting statistics to to query later.\n",
    "\n",
    "#### Choosing statistic\n",
    "\n",
    "If any of the words are present from the search terms in the long description it will be selected.\n"
   ]
  },
  {
   "cell_type": "code",
   "execution_count": null,
   "metadata": {},
   "outputs": [],
   "source": [
    "df_statistics = get_statistics()\n",
    "\n",
    "\n",
    "df_search_long_desc = None\n",
    "\n",
    "@interact\n",
    "def search_long_description(long_description=\"weibliche männliche\"):\n",
    "    \n",
    "    search_term = '|'.join(long_description.split())\n",
    "    \n",
    "    df_search_long_desc = df_statistics[df_statistics[\"long_description\"].str.contains(search_term, case=False)]\n",
    "    \n",
    "    print(df_search_long_desc.reset_index()[[\"statistics\", \"short_description\"]])\n"
   ]
  }
 ],
 "metadata": {
  "kernelspec": {
   "display_name": "Python 3",
   "language": "python",
   "name": "python3"
  },
  "language_info": {
   "codemirror_mode": {
    "name": "ipython",
    "version": 3
   },
   "file_extension": ".py",
   "mimetype": "text/x-python",
   "name": "python",
   "nbconvert_exporter": "python",
   "pygments_lexer": "ipython3",
   "version": "3.8.2"
  }
 },
 "nbformat": 4,
 "nbformat_minor": 4
}
