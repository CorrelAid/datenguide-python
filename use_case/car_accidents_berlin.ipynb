{
 "cells": [
  {
   "cell_type": "code",
   "execution_count": 1,
   "metadata": {},
   "outputs": [
    {
     "name": "stdout",
     "output_type": "stream",
     "text": [
      "/home/konrad/programming/python/correlaid/datenguide-python\n"
     ]
    }
   ],
   "source": [
    "from datenguidepy.query_helper import get_all_regions, get_statistics\n",
    "from datenguidepy import Query\n",
    "import pandas as pd\n",
    "import matplotlib\n",
    "%matplotlib inline"
   ]
  },
  {
   "cell_type": "markdown",
   "metadata": {},
   "source": [
    "## How did the amount of car accidents develop over the years in Berlin?"
   ]
  },
  {
   "cell_type": "code",
   "execution_count": 2,
   "metadata": {},
   "outputs": [
    {
     "data": {
      "text/html": [
       "<div>\n",
       "<style scoped>\n",
       "    .dataframe tbody tr th:only-of-type {\n",
       "        vertical-align: middle;\n",
       "    }\n",
       "\n",
       "    .dataframe tbody tr th {\n",
       "        vertical-align: top;\n",
       "    }\n",
       "\n",
       "    .dataframe thead th {\n",
       "        text-align: right;\n",
       "    }\n",
       "</style>\n",
       "<table border=\"1\" class=\"dataframe\">\n",
       "  <thead>\n",
       "    <tr style=\"text-align: right;\">\n",
       "      <th></th>\n",
       "      <th>name</th>\n",
       "      <th>level</th>\n",
       "      <th>parent</th>\n",
       "    </tr>\n",
       "    <tr>\n",
       "      <th>id</th>\n",
       "      <th></th>\n",
       "      <th></th>\n",
       "      <th></th>\n",
       "    </tr>\n",
       "  </thead>\n",
       "  <tbody>\n",
       "    <tr>\n",
       "      <th>11</th>\n",
       "      <td>Berlin</td>\n",
       "      <td>nuts1</td>\n",
       "      <td>DG</td>\n",
       "    </tr>\n",
       "    <tr>\n",
       "      <th>11000000</th>\n",
       "      <td>Berlin</td>\n",
       "      <td>lau</td>\n",
       "      <td>11</td>\n",
       "    </tr>\n",
       "  </tbody>\n",
       "</table>\n",
       "</div>"
      ],
      "text/plain": [
       "            name  level parent\n",
       "id                            \n",
       "11        Berlin  nuts1     DG\n",
       "11000000  Berlin    lau     11"
      ]
     },
     "execution_count": 2,
     "metadata": {},
     "output_type": "execute_result"
    }
   ],
   "source": [
    "# get all states, which are nuts level 1\n",
    "get_all_regions().query(\"name == 'Berlin'\")"
   ]
  },
  {
   "cell_type": "code",
   "execution_count": 3,
   "metadata": {},
   "outputs": [
    {
     "data": {
      "text/html": [
       "<div>\n",
       "<style scoped>\n",
       "    .dataframe tbody tr th:only-of-type {\n",
       "        vertical-align: middle;\n",
       "    }\n",
       "\n",
       "    .dataframe tbody tr th {\n",
       "        vertical-align: top;\n",
       "    }\n",
       "\n",
       "    .dataframe thead th {\n",
       "        text-align: right;\n",
       "    }\n",
       "</style>\n",
       "<table border=\"1\" class=\"dataframe\">\n",
       "  <thead>\n",
       "    <tr style=\"text-align: right;\">\n",
       "      <th></th>\n",
       "      <th>statistics</th>\n",
       "      <th>short_description</th>\n",
       "      <th>long_description</th>\n",
       "    </tr>\n",
       "  </thead>\n",
       "  <tbody>\n",
       "    <tr>\n",
       "      <th>121</th>\n",
       "      <td>AI1302</td>\n",
       "      <td>Straßenverkehrsunfälle je 10.000 Einwohner</td>\n",
       "      <td>**Straßenverkehrsunfälle je 10.000 Einwohner**...</td>\n",
       "    </tr>\n",
       "    <tr>\n",
       "      <th>122</th>\n",
       "      <td>AI1303</td>\n",
       "      <td>Straßenverkehrsunfälle je 10.000 Kfz</td>\n",
       "      <td>**Straßenverkehrsunfälle je 10.000 Kfz**\\n*aus...</td>\n",
       "    </tr>\n",
       "    <tr>\n",
       "      <th>123</th>\n",
       "      <td>AI1304</td>\n",
       "      <td>Getötete bei Straßenverkehrsunfällen je 100.00...</td>\n",
       "      <td>**Getötete bei Straßenverkehrsunfällen je 100....</td>\n",
       "    </tr>\n",
       "    <tr>\n",
       "      <th>124</th>\n",
       "      <td>AI1305</td>\n",
       "      <td>Verletzte bei Straßenverkehrsunfällen je 100.0...</td>\n",
       "      <td>**Verletzte bei Straßenverkehrsunfällen je 100...</td>\n",
       "    </tr>\n",
       "  </tbody>\n",
       "</table>\n",
       "</div>"
      ],
      "text/plain": [
       "    statistics                                  short_description  \\\n",
       "121     AI1302         Straßenverkehrsunfälle je 10.000 Einwohner   \n",
       "122     AI1303               Straßenverkehrsunfälle je 10.000 Kfz   \n",
       "123     AI1304  Getötete bei Straßenverkehrsunfällen je 100.00...   \n",
       "124     AI1305  Verletzte bei Straßenverkehrsunfällen je 100.0...   \n",
       "\n",
       "                                      long_description  \n",
       "121  **Straßenverkehrsunfälle je 10.000 Einwohner**...  \n",
       "122  **Straßenverkehrsunfälle je 10.000 Kfz**\\n*aus...  \n",
       "123  **Getötete bei Straßenverkehrsunfällen je 100....  \n",
       "124  **Verletzte bei Straßenverkehrsunfällen je 100...  "
      ]
     },
     "execution_count": 3,
     "metadata": {},
     "output_type": "execute_result"
    }
   ],
   "source": [
    "# find out the name of the desired statistic\n",
    "get_statistics().query('short_description.str.contains(\"unfälle\")', engine='python')"
   ]
  },
  {
   "cell_type": "code",
   "execution_count": 4,
   "metadata": {},
   "outputs": [],
   "source": [
    "q = Query.region('11')"
   ]
  },
  {
   "cell_type": "code",
   "execution_count": 5,
   "metadata": {},
   "outputs": [],
   "source": [
    "f1 = q.add_field('AI1302')\n",
    "f2 = q.add_field('AI1304')"
   ]
  },
  {
   "cell_type": "code",
   "execution_count": 6,
   "metadata": {},
   "outputs": [
    {
     "name": "stdout",
     "output_type": "stream",
     "text": [
      "kind:\n",
      "OBJECT\n",
      "\n",
      "description:\n",
      "Straßenverkehrsunfälle je 10.000 Einwohner\n",
      "\n",
      "arguments:\n",
      "year('LIST', None, 'SCALAR', 'Int'), statistics('LIST', None, 'ENUM', 'AI1302Statistics')\n",
      "\n",
      "fields:\n",
      "id, year, value, source\n",
      "\n",
      "enum values:\n",
      "None\n"
     ]
    }
   ],
   "source": [
    "f1.get_info()"
   ]
  },
  {
   "cell_type": "code",
   "execution_count": 7,
   "metadata": {},
   "outputs": [
    {
     "name": "stdout",
     "output_type": "stream",
     "text": [
      "kind:\n",
      "OBJECT\n",
      "\n",
      "description:\n",
      "Getötete bei Straßenverkehrsunfällen je 100.000 EW\n",
      "\n",
      "arguments:\n",
      "year('LIST', None, 'SCALAR', 'Int'), statistics('LIST', None, 'ENUM', 'AI1304Statistics')\n",
      "\n",
      "fields:\n",
      "id, year, value, source\n",
      "\n",
      "enum values:\n",
      "None\n"
     ]
    }
   ],
   "source": [
    "f2.get_info()"
   ]
  },
  {
   "cell_type": "code",
   "execution_count": 8,
   "metadata": {},
   "outputs": [],
   "source": [
    "results = q.results()"
   ]
  },
  {
   "cell_type": "code",
   "execution_count": 9,
   "metadata": {},
   "outputs": [
    {
     "data": {
      "text/html": [
       "<div>\n",
       "<style scoped>\n",
       "    .dataframe tbody tr th:only-of-type {\n",
       "        vertical-align: middle;\n",
       "    }\n",
       "\n",
       "    .dataframe tbody tr th {\n",
       "        vertical-align: top;\n",
       "    }\n",
       "\n",
       "    .dataframe thead th {\n",
       "        text-align: right;\n",
       "    }\n",
       "</style>\n",
       "<table border=\"1\" class=\"dataframe\">\n",
       "  <thead>\n",
       "    <tr style=\"text-align: right;\">\n",
       "      <th></th>\n",
       "      <th>id</th>\n",
       "      <th>name</th>\n",
       "      <th>year</th>\n",
       "      <th>AI1302</th>\n",
       "      <th>AI1304</th>\n",
       "      <th>AI1302_source_title_de</th>\n",
       "      <th>AI1302_source_valid_from</th>\n",
       "      <th>AI1302_source_periodicity</th>\n",
       "      <th>AI1302_source_name</th>\n",
       "      <th>AI1302_source_url</th>\n",
       "      <th>AI1304_source_title_de</th>\n",
       "      <th>AI1304_source_valid_from</th>\n",
       "      <th>AI1304_source_periodicity</th>\n",
       "      <th>AI1304_source_name</th>\n",
       "      <th>AI1304_source_url</th>\n",
       "    </tr>\n",
       "  </thead>\n",
       "  <tbody>\n",
       "    <tr>\n",
       "      <th>0</th>\n",
       "      <td>11</td>\n",
       "      <td>Berlin</td>\n",
       "      <td>1995</td>\n",
       "      <td>67.0</td>\n",
       "      <td>4.1</td>\n",
       "      <td>Regionalatlas Deutschland</td>\n",
       "      <td>1995-01-01T00:00:00</td>\n",
       "      <td>JAEHRLICH</td>\n",
       "      <td>99910</td>\n",
       "      <td>None</td>\n",
       "      <td>Regionalatlas Deutschland</td>\n",
       "      <td>1995-01-01T00:00:00</td>\n",
       "      <td>JAEHRLICH</td>\n",
       "      <td>99910</td>\n",
       "      <td>None</td>\n",
       "    </tr>\n",
       "    <tr>\n",
       "      <th>1</th>\n",
       "      <td>11</td>\n",
       "      <td>Berlin</td>\n",
       "      <td>2000</td>\n",
       "      <td>57.1</td>\n",
       "      <td>2.6</td>\n",
       "      <td>Regionalatlas Deutschland</td>\n",
       "      <td>1995-01-01T00:00:00</td>\n",
       "      <td>JAEHRLICH</td>\n",
       "      <td>99910</td>\n",
       "      <td>None</td>\n",
       "      <td>Regionalatlas Deutschland</td>\n",
       "      <td>1995-01-01T00:00:00</td>\n",
       "      <td>JAEHRLICH</td>\n",
       "      <td>99910</td>\n",
       "      <td>None</td>\n",
       "    </tr>\n",
       "    <tr>\n",
       "      <th>2</th>\n",
       "      <td>11</td>\n",
       "      <td>Berlin</td>\n",
       "      <td>2005</td>\n",
       "      <td>47.0</td>\n",
       "      <td>2.0</td>\n",
       "      <td>Regionalatlas Deutschland</td>\n",
       "      <td>1995-01-01T00:00:00</td>\n",
       "      <td>JAEHRLICH</td>\n",
       "      <td>99910</td>\n",
       "      <td>None</td>\n",
       "      <td>Regionalatlas Deutschland</td>\n",
       "      <td>1995-01-01T00:00:00</td>\n",
       "      <td>JAEHRLICH</td>\n",
       "      <td>99910</td>\n",
       "      <td>None</td>\n",
       "    </tr>\n",
       "    <tr>\n",
       "      <th>3</th>\n",
       "      <td>11</td>\n",
       "      <td>Berlin</td>\n",
       "      <td>2006</td>\n",
       "      <td>47.7</td>\n",
       "      <td>2.2</td>\n",
       "      <td>Regionalatlas Deutschland</td>\n",
       "      <td>1995-01-01T00:00:00</td>\n",
       "      <td>JAEHRLICH</td>\n",
       "      <td>99910</td>\n",
       "      <td>None</td>\n",
       "      <td>Regionalatlas Deutschland</td>\n",
       "      <td>1995-01-01T00:00:00</td>\n",
       "      <td>JAEHRLICH</td>\n",
       "      <td>99910</td>\n",
       "      <td>None</td>\n",
       "    </tr>\n",
       "    <tr>\n",
       "      <th>4</th>\n",
       "      <td>11</td>\n",
       "      <td>Berlin</td>\n",
       "      <td>2007</td>\n",
       "      <td>49.2</td>\n",
       "      <td>1.6</td>\n",
       "      <td>Regionalatlas Deutschland</td>\n",
       "      <td>1995-01-01T00:00:00</td>\n",
       "      <td>JAEHRLICH</td>\n",
       "      <td>99910</td>\n",
       "      <td>None</td>\n",
       "      <td>Regionalatlas Deutschland</td>\n",
       "      <td>1995-01-01T00:00:00</td>\n",
       "      <td>JAEHRLICH</td>\n",
       "      <td>99910</td>\n",
       "      <td>None</td>\n",
       "    </tr>\n",
       "    <tr>\n",
       "      <th>5</th>\n",
       "      <td>11</td>\n",
       "      <td>Berlin</td>\n",
       "      <td>2008</td>\n",
       "      <td>49.9</td>\n",
       "      <td>1.6</td>\n",
       "      <td>Regionalatlas Deutschland</td>\n",
       "      <td>1995-01-01T00:00:00</td>\n",
       "      <td>JAEHRLICH</td>\n",
       "      <td>99910</td>\n",
       "      <td>None</td>\n",
       "      <td>Regionalatlas Deutschland</td>\n",
       "      <td>1995-01-01T00:00:00</td>\n",
       "      <td>JAEHRLICH</td>\n",
       "      <td>99910</td>\n",
       "      <td>None</td>\n",
       "    </tr>\n",
       "    <tr>\n",
       "      <th>6</th>\n",
       "      <td>11</td>\n",
       "      <td>Berlin</td>\n",
       "      <td>2009</td>\n",
       "      <td>45.8</td>\n",
       "      <td>1.4</td>\n",
       "      <td>Regionalatlas Deutschland</td>\n",
       "      <td>1995-01-01T00:00:00</td>\n",
       "      <td>JAEHRLICH</td>\n",
       "      <td>99910</td>\n",
       "      <td>None</td>\n",
       "      <td>Regionalatlas Deutschland</td>\n",
       "      <td>1995-01-01T00:00:00</td>\n",
       "      <td>JAEHRLICH</td>\n",
       "      <td>99910</td>\n",
       "      <td>None</td>\n",
       "    </tr>\n",
       "    <tr>\n",
       "      <th>7</th>\n",
       "      <td>11</td>\n",
       "      <td>Berlin</td>\n",
       "      <td>2010</td>\n",
       "      <td>41.9</td>\n",
       "      <td>1.3</td>\n",
       "      <td>Regionalatlas Deutschland</td>\n",
       "      <td>1995-01-01T00:00:00</td>\n",
       "      <td>JAEHRLICH</td>\n",
       "      <td>99910</td>\n",
       "      <td>None</td>\n",
       "      <td>Regionalatlas Deutschland</td>\n",
       "      <td>1995-01-01T00:00:00</td>\n",
       "      <td>JAEHRLICH</td>\n",
       "      <td>99910</td>\n",
       "      <td>None</td>\n",
       "    </tr>\n",
       "    <tr>\n",
       "      <th>8</th>\n",
       "      <td>11</td>\n",
       "      <td>Berlin</td>\n",
       "      <td>2011</td>\n",
       "      <td>48.9</td>\n",
       "      <td>1.6</td>\n",
       "      <td>Regionalatlas Deutschland</td>\n",
       "      <td>1995-01-01T00:00:00</td>\n",
       "      <td>JAEHRLICH</td>\n",
       "      <td>99910</td>\n",
       "      <td>None</td>\n",
       "      <td>Regionalatlas Deutschland</td>\n",
       "      <td>1995-01-01T00:00:00</td>\n",
       "      <td>JAEHRLICH</td>\n",
       "      <td>99910</td>\n",
       "      <td>None</td>\n",
       "    </tr>\n",
       "    <tr>\n",
       "      <th>9</th>\n",
       "      <td>11</td>\n",
       "      <td>Berlin</td>\n",
       "      <td>2012</td>\n",
       "      <td>48.1</td>\n",
       "      <td>1.3</td>\n",
       "      <td>Regionalatlas Deutschland</td>\n",
       "      <td>1995-01-01T00:00:00</td>\n",
       "      <td>JAEHRLICH</td>\n",
       "      <td>99910</td>\n",
       "      <td>None</td>\n",
       "      <td>Regionalatlas Deutschland</td>\n",
       "      <td>1995-01-01T00:00:00</td>\n",
       "      <td>JAEHRLICH</td>\n",
       "      <td>99910</td>\n",
       "      <td>None</td>\n",
       "    </tr>\n",
       "    <tr>\n",
       "      <th>10</th>\n",
       "      <td>11</td>\n",
       "      <td>Berlin</td>\n",
       "      <td>2013</td>\n",
       "      <td>45.7</td>\n",
       "      <td>1.1</td>\n",
       "      <td>Regionalatlas Deutschland</td>\n",
       "      <td>1995-01-01T00:00:00</td>\n",
       "      <td>JAEHRLICH</td>\n",
       "      <td>99910</td>\n",
       "      <td>None</td>\n",
       "      <td>Regionalatlas Deutschland</td>\n",
       "      <td>1995-01-01T00:00:00</td>\n",
       "      <td>JAEHRLICH</td>\n",
       "      <td>99910</td>\n",
       "      <td>None</td>\n",
       "    </tr>\n",
       "    <tr>\n",
       "      <th>11</th>\n",
       "      <td>11</td>\n",
       "      <td>Berlin</td>\n",
       "      <td>2014</td>\n",
       "      <td>47.7</td>\n",
       "      <td>1.5</td>\n",
       "      <td>Regionalatlas Deutschland</td>\n",
       "      <td>1995-01-01T00:00:00</td>\n",
       "      <td>JAEHRLICH</td>\n",
       "      <td>99910</td>\n",
       "      <td>None</td>\n",
       "      <td>Regionalatlas Deutschland</td>\n",
       "      <td>1995-01-01T00:00:00</td>\n",
       "      <td>JAEHRLICH</td>\n",
       "      <td>99910</td>\n",
       "      <td>None</td>\n",
       "    </tr>\n",
       "    <tr>\n",
       "      <th>12</th>\n",
       "      <td>11</td>\n",
       "      <td>Berlin</td>\n",
       "      <td>2015</td>\n",
       "      <td>48.0</td>\n",
       "      <td>1.4</td>\n",
       "      <td>Regionalatlas Deutschland</td>\n",
       "      <td>1995-01-01T00:00:00</td>\n",
       "      <td>JAEHRLICH</td>\n",
       "      <td>99910</td>\n",
       "      <td>None</td>\n",
       "      <td>Regionalatlas Deutschland</td>\n",
       "      <td>1995-01-01T00:00:00</td>\n",
       "      <td>JAEHRLICH</td>\n",
       "      <td>99910</td>\n",
       "      <td>None</td>\n",
       "    </tr>\n",
       "  </tbody>\n",
       "</table>\n",
       "</div>"
      ],
      "text/plain": [
       "    id    name  year  AI1302  AI1304     AI1302_source_title_de  \\\n",
       "0   11  Berlin  1995    67.0     4.1  Regionalatlas Deutschland   \n",
       "1   11  Berlin  2000    57.1     2.6  Regionalatlas Deutschland   \n",
       "2   11  Berlin  2005    47.0     2.0  Regionalatlas Deutschland   \n",
       "3   11  Berlin  2006    47.7     2.2  Regionalatlas Deutschland   \n",
       "4   11  Berlin  2007    49.2     1.6  Regionalatlas Deutschland   \n",
       "5   11  Berlin  2008    49.9     1.6  Regionalatlas Deutschland   \n",
       "6   11  Berlin  2009    45.8     1.4  Regionalatlas Deutschland   \n",
       "7   11  Berlin  2010    41.9     1.3  Regionalatlas Deutschland   \n",
       "8   11  Berlin  2011    48.9     1.6  Regionalatlas Deutschland   \n",
       "9   11  Berlin  2012    48.1     1.3  Regionalatlas Deutschland   \n",
       "10  11  Berlin  2013    45.7     1.1  Regionalatlas Deutschland   \n",
       "11  11  Berlin  2014    47.7     1.5  Regionalatlas Deutschland   \n",
       "12  11  Berlin  2015    48.0     1.4  Regionalatlas Deutschland   \n",
       "\n",
       "   AI1302_source_valid_from AI1302_source_periodicity AI1302_source_name  \\\n",
       "0       1995-01-01T00:00:00                 JAEHRLICH              99910   \n",
       "1       1995-01-01T00:00:00                 JAEHRLICH              99910   \n",
       "2       1995-01-01T00:00:00                 JAEHRLICH              99910   \n",
       "3       1995-01-01T00:00:00                 JAEHRLICH              99910   \n",
       "4       1995-01-01T00:00:00                 JAEHRLICH              99910   \n",
       "5       1995-01-01T00:00:00                 JAEHRLICH              99910   \n",
       "6       1995-01-01T00:00:00                 JAEHRLICH              99910   \n",
       "7       1995-01-01T00:00:00                 JAEHRLICH              99910   \n",
       "8       1995-01-01T00:00:00                 JAEHRLICH              99910   \n",
       "9       1995-01-01T00:00:00                 JAEHRLICH              99910   \n",
       "10      1995-01-01T00:00:00                 JAEHRLICH              99910   \n",
       "11      1995-01-01T00:00:00                 JAEHRLICH              99910   \n",
       "12      1995-01-01T00:00:00                 JAEHRLICH              99910   \n",
       "\n",
       "   AI1302_source_url     AI1304_source_title_de AI1304_source_valid_from  \\\n",
       "0               None  Regionalatlas Deutschland      1995-01-01T00:00:00   \n",
       "1               None  Regionalatlas Deutschland      1995-01-01T00:00:00   \n",
       "2               None  Regionalatlas Deutschland      1995-01-01T00:00:00   \n",
       "3               None  Regionalatlas Deutschland      1995-01-01T00:00:00   \n",
       "4               None  Regionalatlas Deutschland      1995-01-01T00:00:00   \n",
       "5               None  Regionalatlas Deutschland      1995-01-01T00:00:00   \n",
       "6               None  Regionalatlas Deutschland      1995-01-01T00:00:00   \n",
       "7               None  Regionalatlas Deutschland      1995-01-01T00:00:00   \n",
       "8               None  Regionalatlas Deutschland      1995-01-01T00:00:00   \n",
       "9               None  Regionalatlas Deutschland      1995-01-01T00:00:00   \n",
       "10              None  Regionalatlas Deutschland      1995-01-01T00:00:00   \n",
       "11              None  Regionalatlas Deutschland      1995-01-01T00:00:00   \n",
       "12              None  Regionalatlas Deutschland      1995-01-01T00:00:00   \n",
       "\n",
       "   AI1304_source_periodicity AI1304_source_name AI1304_source_url  \n",
       "0                  JAEHRLICH              99910              None  \n",
       "1                  JAEHRLICH              99910              None  \n",
       "2                  JAEHRLICH              99910              None  \n",
       "3                  JAEHRLICH              99910              None  \n",
       "4                  JAEHRLICH              99910              None  \n",
       "5                  JAEHRLICH              99910              None  \n",
       "6                  JAEHRLICH              99910              None  \n",
       "7                  JAEHRLICH              99910              None  \n",
       "8                  JAEHRLICH              99910              None  \n",
       "9                  JAEHRLICH              99910              None  \n",
       "10                 JAEHRLICH              99910              None  \n",
       "11                 JAEHRLICH              99910              None  \n",
       "12                 JAEHRLICH              99910              None  "
      ]
     },
     "execution_count": 9,
     "metadata": {},
     "output_type": "execute_result"
    }
   ],
   "source": [
    "results"
   ]
  },
  {
   "cell_type": "code",
   "execution_count": 10,
   "metadata": {},
   "outputs": [
    {
     "data": {
      "text/plain": [
       "<matplotlib.axes._subplots.AxesSubplot at 0x7f40e3577e10>"
      ]
     },
     "execution_count": 10,
     "metadata": {},
     "output_type": "execute_result"
    },
    {
     "data": {
      "image/png": "[encoded data removed]",
      "text/plain": [
       "<Figure size 432x288 with 1 Axes>"
      ]
     },
     "metadata": {
      "needs_background": "light"
     },
     "output_type": "display_data"
    }
   ],
   "source": [
    "results.set_index('year')[['AI1302']].plot()"
   ]
  },
  {
   "cell_type": "code",
   "execution_count": 11,
   "metadata": {},
   "outputs": [
    {
     "data": {
      "text/plain": [
       "<matplotlib.axes._subplots.AxesSubplot at 0x7f40e34ad890>"
      ]
     },
     "execution_count": 11,
     "metadata": {},
     "output_type": "execute_result"
    },
    {
     "data": {
      "image/png": "[encoded data removed]",
      "text/plain": [
       "<Figure size 432x288 with 1 Axes>"
      ]
     },
     "metadata": {
      "needs_background": "light"
     },
     "output_type": "display_data"
    }
   ],
   "source": [
    "results.set_index('year')[['AI1304']].plot()"
   ]
  },
  {
   "cell_type": "markdown",
   "metadata": {},
   "source": [
    "Both, accidents per 10.000 inhabitants (AI1302), as well as killed people per 100.000 inhabitants (AI1304) decreased significantly especially between 1995 and 2005."
   ]
  }
 ],
 "metadata": {
  "file_extension": ".py",
  "kernelspec": {
   "display_name": "datenguide",
   "language": "python",
   "name": "datenguide"
  },
  "language_info": {
   "codemirror_mode": {
    "name": "ipython",
    "version": 3
   },
   "file_extension": ".py",
   "mimetype": "text/x-python",
   "name": "python",
   "nbconvert_exporter": "python",
   "pygments_lexer": "ipython3",
   "version": "3.7.4+"
  },
  "mimetype": "text/x-python",
  "name": "python",
  "npconvert_exporter": "python",
  "pygments_lexer": "ipython3",
  "version": 3
 },
 "nbformat": 4,
 "nbformat_minor": 2
}
