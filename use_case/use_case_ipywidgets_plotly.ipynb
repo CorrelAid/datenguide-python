{
 "cells": [
  {
   "cell_type": "markdown",
   "metadata": {},
   "source": [
    "# Plotting interactive graphs with Plotly\n",
    "\n",
    "[Plotly](https://plot.ly/) is a powerful tool for creating interactive visualizations and dashboards. In this notebook we will query data with datenguide package and create some plots.\n",
    "\n",
    "### Set up requirements, import packages"
   ]
  },
  {
   "cell_type": "code",
   "execution_count": 3,
   "metadata": {},
   "outputs": [],
   "source": [
    "%load_ext autoreload\n",
    "%autoreload\n",
    "\n",
    "import os\n",
    "if not os.path.basename(os.getcwd()) == \"datenguide-python\":\n",
    "    os.chdir(\"..\")\n",
    "    \n",
    "    \n",
    "from datenguidepy.query_helper import get_all_regions, get_statistics\n",
    "from datenguidepy import Query\n",
    "import pandas as pd\n",
    "import matplotlib\n",
    "from datenguidepy.query_helper import get_all_regions, get_statistics\n",
    "from datenguidepy import Query\n",
    "import ipywidgets as widgets\n",
    "from ipywidgets import interact\n",
    "%matplotlib inline\n",
    "\n",
    "pd.set_option('display.max_colwidth', 150)"
   ]
  },
  {
   "cell_type": "markdown",
   "metadata": {},
   "source": [
    "### Load data with datenguide\n",
    "\n",
    "Using ipywidgets you can browse data types here.\n",
    "Opening the list of regions can take a few seconds."
   ]
  },
  {
   "cell_type": "code",
   "execution_count": 21,
   "metadata": {},
   "outputs": [
    {
     "data": {
      "application/vnd.jupyter.widget-view+json": {
       "model_id": "c7d6945232da4024bbe8688b220b920c",
       "version_major": 2,
       "version_minor": 0
      },
      "text/plain": [
       "interactive(children=(Dropdown(description='region', options=(('Aach', '08335001'), ('Aach b Trier', '07235070…"
      ]
     },
     "metadata": {},
     "output_type": "display_data"
    }
   ],
   "source": [
    "all_regions = get_all_regions().reset_index()[[\"name\", \"id\"]]\n",
    "all_regions = sorted([tuple(x) for x in all_regions.to_numpy()])\n",
    "\n",
    "all_statistics = get_statistics()[[\"short_description\", \"statistics\"]]\n",
    "all_statistics = [tuple(x) for x in all_statistics.to_numpy()]\n",
    "\n",
    "@interact\n",
    "def get_customer_id(region=all_regions, statistic=all_statistics):        \n",
    "        \n",
    "    q = Query.region(region)\n",
    "    q.add_field(statistic)\n",
    "          \n",
    "    return q.results()\n",
    "\n",
    "\n"
   ]
  }
 ],
 "metadata": {
  "kernelspec": {
   "display_name": "Python 3",
   "language": "python",
   "name": "python3"
  },
  "language_info": {
   "codemirror_mode": {
    "name": "ipython",
    "version": 3
   },
   "file_extension": ".py",
   "mimetype": "text/x-python",
   "name": "python",
   "nbconvert_exporter": "python",
   "pygments_lexer": "ipython3",
   "version": "3.7.4"
  }
 },
 "nbformat": 4,
 "nbformat_minor": 4
}
