{
 "cells": [
  {
   "cell_type": "markdown",
   "metadata": {},
   "source": [
    "# Advenced data exploration dashboard\n",
    "\n",
    "\n",
    "### Set up requirements, import packages"
   ]
  },
  {
   "cell_type": "code",
   "execution_count": null,
   "metadata": {},
   "outputs": [],
   "source": [
    "%load_ext autoreload\n",
    "%autoreload\n",
    "\n",
    "import os\n",
    "if not os.path.basename(os.getcwd()) == \"datenguide-python\":\n",
    "    os.chdir(\"..\")\n",
    "    \n",
    "from datenguidepy.query_helper import get_statistics, get_regions\n",
    "from datenguidepy import Query\n",
    "\n",
    "import pandas as pd\n",
    "import panel as pn\n",
    "pn.extension()\n",
    "\n",
    "pd.set_option('display.max_colwidth', 150)\n",
    "\n",
    "df_statistics = get_statistics(target_language='en')\n",
    "\n",
    "def create_dashboard(stat_search_input, region_search_input, region_level_input):\n",
    "    \n",
    "    stat_search_terms = '|'.join(stat_search_input.split())\n",
    "    df_search_long_desc = df_statistics[df_statistics[\"long_description\"].str.contains(stat_search_terms, case=False)]\n",
    "    \n",
    "    \n",
    "    stat_col = pn.Column(\n",
    "        pn.widgets.MultiSelect(name='Statistics with either word in long description. Select one or more.', options=dict(zip(df_search_long_desc[\"short_description\"].to_dict().values(), df_search_long_desc[\"short_description\"].to_dict().keys())))\n",
    "    )\n",
    "    \n",
    "    df_regions = get_regions().query(f\"level == '{region_level_input}'\")\n",
    "    region_search_terms = '|'.join(region_search_input.split())\n",
    "    df_regions = df_regions[df_regions[\"name\"].str.contains(region_search_terms, case=False)]\n",
    "\n",
    "    region_col = pn.Column(\n",
    "        pn.widgets.MultiSelect(name='Regions with name and set level. Select one or more.', options=dict(zip(df_regions[\"name\"].to_dict().values(), df_regions[\"name\"].to_dict().keys())))\n",
    "\n",
    "    )\n",
    "    \n",
    "    return pn.Row(stat_col, region_col)\n",
    "\n",
    "\n",
    "\n",
    "    "
   ]
  },
  {
   "cell_type": "markdown",
   "metadata": {},
   "source": [
    "### Create dashboard\n",
    "\n",
    "Selecting statistics to to query later.\n",
    "\n",
    "#### Choosing statistic\n",
    "\n",
    "If any of the words are present from the search terms in the long description it will be selected.\n"
   ]
  },
  {
   "cell_type": "code",
   "execution_count": null,
   "metadata": {
    "scrolled": true
   },
   "outputs": [],
   "source": [
    "  \n",
    "    \n",
    "dashboard = pn.interact(create_dashboard, \n",
    "                        stat_search_input = pn.widgets.TextInput(name='Search words in long description of statistic', value=\"bahn\"),\n",
    "                        region_search_input = pn.widgets.TextInput(name='Search region name', value=\"Berlin\"),\n",
    "                        region_level_input = pn.widgets.Select(name='Select region level', options=['nuts1', 'nuts2', 'nuts3']),\n",
    "                       ) \n",
    "\n",
    "display(dashboard)\n"
   ]
  },
  {
   "cell_type": "markdown",
   "metadata": {},
   "source": [
    "## Printing info about selected statistics\n",
    "\n",
    "Note: get_info() method will be refactored"
   ]
  },
  {
   "cell_type": "code",
   "execution_count": null,
   "metadata": {},
   "outputs": [],
   "source": [
    "# pn.widget.DataFrame would work with selecting rows sadly in a panel it does not.\n",
    "# df_selected_statistics.selected_dataframe\n",
    "\n",
    "# q = Query.region(\"01\")\n",
    "# df_selected_statistics = column[1][0].object\n",
    "# for idx in df_selected_statistics.index.unique():\n",
    "#     stat = q.add_field(idx)\n",
    "\n",
    "# stat.get_info()\n",
    "\n",
    "print(dashboard[1][0][0][1].value)"
   ]
  }
 ],
 "metadata": {
  "kernelspec": {
   "display_name": "Python 3",
   "language": "python",
   "name": "python3"
  },
  "language_info": {
   "codemirror_mode": {
    "name": "ipython",
    "version": 3
   },
   "file_extension": ".py",
   "mimetype": "text/x-python",
   "name": "python",
   "nbconvert_exporter": "python",
   "pygments_lexer": "ipython3",
   "version": "3.8.2"
  }
 },
 "nbformat": 4,
 "nbformat_minor": 4
}
