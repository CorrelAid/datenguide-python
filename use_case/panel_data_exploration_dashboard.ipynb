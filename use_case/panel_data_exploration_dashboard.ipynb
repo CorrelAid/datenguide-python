{
 "cells": [
  {
   "cell_type": "markdown",
   "metadata": {},
   "source": [
    "# Advenced data exploration dashboard\n",
    "\n",
    "\n",
    "### Set up requirements, import packages"
   ]
  },
  {
   "cell_type": "code",
   "execution_count": null,
   "metadata": {},
   "outputs": [],
   "source": [
    "%load_ext autoreload\n",
    "%autoreload\n",
    "\n",
    "import os\n",
    "if not os.path.basename(os.getcwd()) == \"datenguide-python\":\n",
    "    os.chdir(\"..\")\n",
    "    \n",
    "from datenguidepy.query_helper import get_statistics\n",
    "import pandas as pd\n",
    "import panel as pn\n",
    "pn.extension()\n",
    "\n",
    "pd.set_option('display.max_colwidth', 150)\n",
    "\n",
    "df_statistics = get_statistics()\n",
    "\n",
    "def search_long_description(long_description):\n",
    "    search_term = '|'.join(long_description.split())\n",
    "    df_search_long_desc = df_statistics[df_statistics[\"long_description\"].str.contains(search_term, case=False)]\n",
    "    df_widget = pn.pane.DataFrame(df_search_long_desc[[\"short_description\"]], name='Statistics with either word in long description')\n",
    "    \n",
    "    return df_widget\n",
    "\n",
    "\n",
    "    "
   ]
  },
  {
   "cell_type": "markdown",
   "metadata": {},
   "source": [
    "### Create dashboard\n",
    "\n",
    "Selecting statistics to to query later.\n",
    "\n",
    "#### Choosing statistic\n",
    "\n",
    "If any of the words are present from the search terms in the long description it will be selected.\n"
   ]
  },
  {
   "cell_type": "code",
   "execution_count": null,
   "metadata": {},
   "outputs": [],
   "source": [
    "column = pn.interact(search_long_description, long_description=pn.widgets.TextInput(name='Search words in long description', value=\"bahn\"))\n",
    "\n",
    "display(column)\n",
    "\n",
    "df_selected_statistics = column[1][0]"
   ]
  },
  {
   "cell_type": "code",
   "execution_count": null,
   "metadata": {},
   "outputs": [],
   "source": [
    "df_selected_statistics"
   ]
  }
 ],
 "metadata": {
  "kernelspec": {
   "display_name": "Python 3",
   "language": "python",
   "name": "python3"
  },
  "language_info": {
   "codemirror_mode": {
    "name": "ipython",
    "version": 3
   },
   "file_extension": ".py",
   "mimetype": "text/x-python",
   "name": "python",
   "nbconvert_exporter": "python",
   "pygments_lexer": "ipython3",
   "version": "3.8.2"
  }
 },
 "nbformat": 4,
 "nbformat_minor": 4
}
