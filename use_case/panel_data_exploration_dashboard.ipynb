{
 "cells": [
  {
   "cell_type": "markdown",
   "metadata": {},
   "source": [
    "# Advenced data exploration dashboard\n",
    "\n",
    "\n",
    "### Set up requirements, import packages"
   ]
  },
  {
   "cell_type": "code",
   "execution_count": null,
   "metadata": {},
   "outputs": [],
   "source": [
    "%load_ext autoreload\n",
    "%autoreload\n",
    "\n",
    "import os\n",
    "if not os.path.basename(os.getcwd()) == \"datenguide-python\":\n",
    "    os.chdir(\"..\")\n",
    "    \n",
    "from datenguidepy.query_helper import get_statistics\n",
    "from datenguidepy import Query\n",
    "\n",
    "import pandas as pd\n",
    "import panel as pn\n",
    "pn.extension()\n",
    "\n",
    "pd.set_option('display.max_colwidth', 150)\n",
    "\n",
    "df_statistics = get_statistics()\n",
    "\n",
    "def search_long_description(widgets):\n",
    "    search_term = '|'.join(stat_long_description.split())\n",
    "    df_search_long_desc = df_statistics[df_statistics[\"long_description\"].str.contains(search_term, case=False)]\n",
    "    \n",
    "    \n",
    "    \n",
    "    return \n",
    "\n",
    "\n",
    "\n",
    "    "
   ]
  },
  {
   "cell_type": "markdown",
   "metadata": {},
   "source": [
    "### Create dashboard\n",
    "\n",
    "Selecting statistics to to query later.\n",
    "\n",
    "#### Choosing statistic\n",
    "\n",
    "If any of the words are present from the search terms in the long description it will be selected.\n"
   ]
  },
  {
   "cell_type": "code",
   "execution_count": null,
   "metadata": {
    "scrolled": true
   },
   "outputs": [],
   "source": [
    "stat_widget_col = pn.Column(\n",
    "    pn.widgets.TextInput(name='Search words in long description', value=\"bahn\"),\n",
    "    pn.pane.DataFrame(df_search_long_desc[[\"short_description\"]], name='Statistics with either word in long description'),\n",
    "    pn.widgets.MultiSelect(name='Select statistic', value=['Apple', 'Pear'], options=['Apple', 'Banana', 'Pear', 'Strawberry'], size=8)\n",
    ")\n",
    "\n",
    "region_widget_col = pn.Column(\n",
    "    pn.widgets.TextInput(name='Search region name', value=\"Berlin\"),\n",
    "    pn.widgets.Select(name='Select region level', options=['NAT1', 'NAT2', 'NAT3']),         \n",
    ")\n",
    "    \n",
    "widgets = pn.Row(stat_widget_col, region_widget_col)\n",
    "\n",
    "dashboard = pn.interact(search_long_description, widgets) \n",
    "\n",
    "display(dashboard)"
   ]
  },
  {
   "cell_type": "markdown",
   "metadata": {},
   "source": [
    "## Printing info about selected statistics\n",
    "\n",
    "Note: get_info() method will be refactored"
   ]
  },
  {
   "cell_type": "code",
   "execution_count": null,
   "metadata": {},
   "outputs": [],
   "source": [
    "# pn.widget.DataFrame would work with selecting rows sadly in a panel it does not.\n",
    "# df_selected_statistics.selected_dataframe\n",
    "\n",
    "q = Query.region(\"01\")\n",
    "df_selected_statistics = column[1][0].object\n",
    "for idx in df_selected_statistics.index.unique():\n",
    "    stat = q.add_field(idx)\n",
    "\n",
    "stat.get_info()"
   ]
  }
 ],
 "metadata": {
  "kernelspec": {
   "display_name": "Python 3",
   "language": "python",
   "name": "python3"
  },
  "language_info": {
   "codemirror_mode": {
    "name": "ipython",
    "version": 3
   },
   "file_extension": ".py",
   "mimetype": "text/x-python",
   "name": "python",
   "nbconvert_exporter": "python",
   "pygments_lexer": "ipython3",
   "version": "3.8.2"
  }
 },
 "nbformat": 4,
 "nbformat_minor": 4
}
