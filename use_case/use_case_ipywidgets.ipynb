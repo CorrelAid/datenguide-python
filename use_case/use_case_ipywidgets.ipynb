{
 "cells": [
  {
   "cell_type": "markdown",
   "metadata": {},
   "source": [
    "# Dashboard to explore data with ipywidget controls\n",
    "\n",
    "\n",
    "### Set up requirements, import packages"
   ]
  },
  {
   "cell_type": "code",
   "execution_count": null,
   "metadata": {},
   "outputs": [],
   "source": [
    "%load_ext autoreload\n",
    "%autoreload\n",
    "\n",
    "import os\n",
    "if not os.path.basename(os.getcwd()) == \"datenguide-python\":\n",
    "    os.chdir(\"..\")\n",
    "    \n",
    "    \n",
    "from datenguidepy.query_helper import get_all_regions, get_statistics\n",
    "from datenguidepy import Query\n",
    "import pandas as pd\n",
    "import ipywidgets as widgets\n",
    "from ipywidgets import interact\n",
    "%matplotlib inline\n",
    "\n",
    "pd.set_option('display.max_colwidth', 150)"
   ]
  },
  {
   "cell_type": "markdown",
   "metadata": {},
   "source": [
    "### Create dashboard\n",
    "\n",
    "Using ipywidgets you can browse data types here. Opening the list of regions will take a few seconds.\n",
    "\n",
    "If the result remains empty the selected region have no corresponding data for the selected statistic."
   ]
  },
  {
   "cell_type": "code",
   "execution_count": null,
   "metadata": {},
   "outputs": [],
   "source": [
    "all_regions = get_all_regions().reset_index()[[\"name\", \"id\"]]\n",
    "all_regions = sorted([tuple(x) for x in all_regions.to_numpy()])\n",
    "\n",
    "all_statistics = get_statistics()[[\"short_description\", \"statistics\"]]\n",
    "all_statistics = [tuple(x) for x in all_statistics.to_numpy()]\n",
    "\n",
    "@interact\n",
    "def get_statistics_dashboard(region=all_regions, statistic=all_statistics):        \n",
    "        \n",
    "    q = Query.region(region)\n",
    "    q.add_field(statistic)\n",
    "          \n",
    "    return q.results()\n",
    "\n",
    "\n"
   ]
  }
 ],
 "metadata": {
  "kernelspec": {
   "display_name": "Python 3",
   "language": "python",
   "name": "python3"
  },
  "language_info": {
   "codemirror_mode": {
    "name": "ipython",
    "version": 3
   },
   "file_extension": ".py",
   "mimetype": "text/x-python",
   "name": "python",
   "nbconvert_exporter": "python",
   "pygments_lexer": "ipython3",
   "version": "3.7.4"
  }
 },
 "nbformat": 4,
 "nbformat_minor": 4
}
