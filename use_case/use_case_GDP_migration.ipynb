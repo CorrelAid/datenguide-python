{
 "cells": [
  {
   "cell_type": "markdown",
   "metadata": {},
   "source": [
    "# General Assumptions and Import Statements\n",
    "The aim of this use case is to analyse if there is a correlation between the economic welfare and migrational movement. The hypothesis is people are moving to places where welfare is higher."
   ]
  },
  {
   "cell_type": "code",
   "execution_count": null,
   "metadata": {},
   "outputs": [],
   "source": [
    "# Import necessary libraries\n",
    "\n",
    "import pandas as pd\n",
    "import seaborn as sns\n",
    "import numpy as np\n",
    "from matplotlib import pyplot as plt\n",
    "%matplotlib inline\n",
    "\n",
    "# Import datenguidepy package\n",
    "\n",
    "%cd ..\n",
    "from datenguidepy.query_builder import Query\n",
    "from datenguidepy.query_helper import get_all_regions"
   ]
  },
  {
   "cell_type": "markdown",
   "metadata": {},
   "source": [
    "# Fetch Data for the Bundesländer in Germany with Datenguidepy"
   ]
  },
  {
   "cell_type": "code",
   "execution_count": null,
   "metadata": {},
   "outputs": [],
   "source": [
    "# First get the region codes to query data from the Bundesländer.\n",
    "\n",
    "region_codes = get_all_regions().query('level == \"nuts1\"').name\n",
    "region_codes"
   ]
  },
  {
   "cell_type": "code",
   "execution_count": null,
   "metadata": {},
   "outputs": [],
   "source": [
    "# Create a query fpr the regions and variables of interest\n",
    "region_query = Query.region(list(region_codes.index))\n",
    "region_query.add_field('BEVSTD') # population\n",
    "region_query.add_field('BEV085') # moving in administrative districts\n",
    "region_query.add_field('BEV086') # moving out administrative districts\n",
    "region_query.add_field('BIP804') # GDP per capita\n",
    "\n",
    "# Get the results for the query\n",
    "results = region_query.results()\n",
    "\n",
    "# Preview the first data rows\n",
    "results.head()"
   ]
  },
  {
   "cell_type": "code",
   "execution_count": null,
   "metadata": {},
   "outputs": [],
   "source": [
    "# Calculate the net migration per 1000 inhabitants: (people movin in - people moving out) / population * 1000\n",
    "results['migration'] = (results.BEV085 - results.BEV086) / results.BEVSTD * 1000\n",
    "\n",
    "# Overview of the dataset:\n",
    "results.describe()"
   ]
  },
  {
   "cell_type": "markdown",
   "metadata": {},
   "source": [
    "# Create a Visualisation"
   ]
  },
  {
   "cell_type": "code",
   "execution_count": null,
   "metadata": {},
   "outputs": [],
   "source": [
    "# Determine plot size\n",
    "ax = plt.subplots(figsize=(25, 15))\n",
    "\n",
    "# Make a scatterplot with adjusted color and size mapping\n",
    "plt.scatter(results[\"BIP804\"], results[\"migration\"], c=results[\"year\"], s=(results[\"BEVSTD\"] / 10000), cmap='GnBu', alpha = 0.5)\n",
    "plt.colorbar(label='Year', ticks=range(min(results[\"year\"]), max(results[\"year\"])+1, 2))\n",
    "plt.clim(min(results[\"year\"]), max(results[\"year\"]))\n",
    "\n",
    "# Draw the regression line\n",
    "sns.regplot(x=\"BIP804\", y=\"migration\", data=results, scatter=False, color=\"red\")\n",
    "\n",
    "# Create a legend for the population size.\n",
    "for pop in np.linspace(min(results[\"BEVSTD\"]), max(results[\"BEVSTD\"]+1), num=4):\n",
    "    plt.scatter([], [], c='k', alpha=0.3, s=(pop/10000), label='     ' + str(int(pop/1000000)) + ' Million')\n",
    "plt.legend(scatterpoints=1, frameon=False, labelspacing=3, title='Population', title_fontsize=\"larger\", loc='best', bbox_to_anchor=(0.5, -0.25, 0.5, 0.5))\n",
    "\n",
    "# Add title and labels\n",
    "plt.title('Migration and GDP', fontweight=\"bold\")\n",
    "plt.xlabel('Gross Domestic Product per Capita', fontweight=\"bold\")\n",
    "plt.ylabel('Net Migartion per 1000 Inhabitants', fontweight=\"bold\");"
   ]
  },
  {
   "cell_type": "markdown",
   "metadata": {},
   "source": [
    "The analysis is based on data for all 16 Bundesländer in gemany from 1995 to 2017. Over the years GDP and migration increased. The plot shows a positive correlation between (net) migration and GDP in general."
   ]
  }
 ],
 "metadata": {
  "kernelspec": {
   "display_name": "Python 3",
   "language": "python",
   "name": "python3"
  },
  "language_info": {
   "codemirror_mode": {
    "name": "ipython",
    "version": 3
   },
   "file_extension": ".py",
   "mimetype": "text/x-python",
   "name": "python",
   "nbconvert_exporter": "python",
   "pygments_lexer": "ipython3",
   "version": "3.7.2"
  }
 },
 "nbformat": 4,
 "nbformat_minor": 4
}
