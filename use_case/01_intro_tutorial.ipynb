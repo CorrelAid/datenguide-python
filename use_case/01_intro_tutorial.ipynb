{
 "cells": [
  {
   "cell_type": "markdown",
   "metadata": {},
   "source": [
    "# Welcome to the Datenguide Python Package\n",
    "\n",
    "Within this notebook the functionality of the package will be explained and demonstrated with examples.\n",
    "\n",
    "### Topics\n",
    "\n",
    "- Import\n",
    "- get region IDs\n",
    "- get statstic IDs\n",
    "- get the data\n",
    "    - for single regions\n",
    "    - for multiple regions"
   ]
  },
  {
   "cell_type": "markdown",
   "metadata": {},
   "source": [
    "## 1. Import"
   ]
  },
  {
   "cell_type": "markdown",
   "metadata": {},
   "source": [
    "**Import the helper functions 'get_all_regions' and 'get_statistics'**\n",
    "\n",
    "**Import the module Query for the main functionality**"
   ]
  },
  {
   "cell_type": "code",
   "execution_count": null,
   "metadata": {},
   "outputs": [],
   "source": [
    "# ONLY FOR TESTING LOCAL PACKAGE\n",
    "# %cd ..\n",
    "\n",
    "from datenguidepy.query_helper import get_all_regions, get_statistics\n",
    "from datenguidepy import Query"
   ]
  },
  {
   "cell_type": "markdown",
   "metadata": {},
   "source": [
    "**Import pandas and matplotlib for the usual display of data as tables and graphs**"
   ]
  },
  {
   "cell_type": "code",
   "execution_count": null,
   "metadata": {},
   "outputs": [],
   "source": [
    "import pandas as pd\n",
    "import matplotlib\n",
    "%matplotlib inline\n",
    "\n",
    "pd.set_option('display.max_colwidth', 150)"
   ]
  },
  {
   "cell_type": "markdown",
   "metadata": {},
   "source": [
    "## 2. Get Region IDs\n",
    "### How to get the ID of the region I want to query"
   ]
  },
  {
   "cell_type": "markdown",
   "metadata": {},
   "source": [
    "Regionalstatistik - the database behind Datenguide - has data for differently granular levels of Germany. \n",
    "\n",
    "nuts:\n",
    "\n",
    "        1 – Bundesländer\n",
    "        2 – Regierungsbezirke / statistische Regionen\n",
    "        3 – Kreise / kreisfreie Städte.\n",
    "           \n",
    "lau:\n",
    "\n",
    "        1 - Verwaltungsgemeinschaften\n",
    "        2 - Gemeinden.\n",
    "\n",
    "the function `get_all_regions()` returns all IDs from all levels."
   ]
  },
  {
   "cell_type": "code",
   "execution_count": null,
   "metadata": {},
   "outputs": [],
   "source": [
    "# get_all_regions returns all ids\n",
    "get_all_regions()"
   ]
  },
  {
   "cell_type": "markdown",
   "metadata": {},
   "source": [
    "To get a specific ID, use the common pandas function `query()`\n"
   ]
  },
  {
   "cell_type": "code",
   "execution_count": null,
   "metadata": {},
   "outputs": [],
   "source": [
    "# e.g. get all \"Bundesländer\n",
    "get_all_regions().query(\"level == 'nuts1'\")"
   ]
  },
  {
   "cell_type": "code",
   "execution_count": null,
   "metadata": {},
   "outputs": [],
   "source": [
    "# e.g. get the ID of Havelland\n",
    "get_all_regions().query(\"name =='Havelland'\")"
   ]
  },
  {
   "cell_type": "markdown",
   "metadata": {},
   "source": [
    "## 3. Get statistic IDs\n",
    "### How to find statistics"
   ]
  },
  {
   "cell_type": "code",
   "execution_count": null,
   "metadata": {},
   "outputs": [],
   "source": [
    "# get all statistics\n",
    "get_statistics()"
   ]
  },
  {
   "cell_type": "markdown",
   "metadata": {},
   "source": [
    "If you already know the statsitic ID you are looking for - perfect. \n",
    "\n",
    "Otherwise you can use the pandas `query()` function so search e.g. for specific terms."
   ]
  },
  {
   "cell_type": "code",
   "execution_count": null,
   "metadata": {},
   "outputs": [],
   "source": [
    "# find out the name of the desired statistic about birth\n",
    "get_statistics().query('long_description.str.contains(\"Statistik der Geburten\")', engine='python')"
   ]
  },
  {
   "cell_type": "markdown",
   "metadata": {},
   "source": [
    "## 4. get the data"
   ]
  },
  {
   "cell_type": "markdown",
   "metadata": {},
   "source": [
    "The top level element is the Query. For each query fields can be added (usually statistics / measures) that you want to get information on."
   ]
  },
  {
   "cell_type": "markdown",
   "metadata": {},
   "source": [
    "A Query can either be done on a single region, or on multiple regions (e.g. all Bundesländer)."
   ]
  },
  {
   "cell_type": "markdown",
   "metadata": {},
   "source": [
    "### Single Region\n",
    "\n",
    "If I want information - e.g. all births for the past years in Berlin:"
   ]
  },
  {
   "cell_type": "code",
   "execution_count": null,
   "metadata": {},
   "outputs": [],
   "source": [
    "# create a query for the region 11\n",
    "query = Query.region('11')"
   ]
  },
  {
   "cell_type": "code",
   "execution_count": null,
   "metadata": {},
   "outputs": [],
   "source": [
    "# add a field (the statstic) to the query\n",
    "field_births = query.add_field('BEV001')"
   ]
  },
  {
   "cell_type": "code",
   "execution_count": null,
   "metadata": {},
   "outputs": [],
   "source": [
    "# get the data of this query\n",
    "query.results().head()"
   ]
  },
  {
   "cell_type": "markdown",
   "metadata": {},
   "source": [
    "To get the short description in the result data frame instead of the cryptic ID (e.g. \"Lebend Geborene\" instead of BEV001) set the argument \"verbose_statsitics\"=True in the resutls:"
   ]
  },
  {
   "cell_type": "code",
   "execution_count": null,
   "metadata": {},
   "outputs": [],
   "source": [
    "query.results(verbose_statistics =True).head()"
   ]
  },
  {
   "cell_type": "markdown",
   "metadata": {},
   "source": [
    "Now we only get the information about the count of births per year and the source of the data (year, value and source are default fields).\n",
    "But there is more information in the statistic that we can get information on.\n",
    "\n",
    "Let's look at the meta data of the statstic:"
   ]
  },
  {
   "cell_type": "code",
   "execution_count": null,
   "metadata": {},
   "outputs": [],
   "source": [
    "# get information on the field\n",
    "field_births.get_info()"
   ]
  },
  {
   "cell_type": "markdown",
   "metadata": {},
   "source": [
    "The arguments tell us what we can use for filtering (e.g. only data on baby girls (female)).\n",
    "\n",
    "The fields tell us what more information can be displayed in our results. "
   ]
  },
  {
   "cell_type": "code",
   "execution_count": null,
   "metadata": {},
   "outputs": [],
   "source": [
    "# add filter\n",
    "field_births.add_args({'GES': 'GESW'})"
   ]
  },
  {
   "cell_type": "code",
   "execution_count": null,
   "metadata": {},
   "outputs": [],
   "source": [
    "# now only about half the amount of births are returned as only the results for female babies are queried\n",
    "query.results().head()"
   ]
  },
  {
   "cell_type": "code",
   "execution_count": null,
   "metadata": {},
   "outputs": [],
   "source": [
    "# add the field NAT (nationality) to the results\n",
    "field_births.add_field('NAT')"
   ]
  },
  {
   "cell_type": "markdown",
   "metadata": {},
   "source": [
    "**CAREFUL**: The information for the fields (e.g. nationality) is by default returned as a total amount. Therefore - if no argument \"NAT\" is specified in addition to the field, then only \"None\" will be displayed.\n",
    "\n",
    "In order to get information on all possible values, the argument \"ALL\" needs to be added:\n",
    "(the rows with value \"None\" are the aggregated values of all options)"
   ]
  },
  {
   "cell_type": "code",
   "execution_count": null,
   "metadata": {},
   "outputs": [],
   "source": [
    "field_births.add_args({'NAT': 'ALL'})"
   ]
  },
  {
   "cell_type": "code",
   "execution_count": null,
   "metadata": {},
   "outputs": [],
   "source": [
    "query.results().head()"
   ]
  },
  {
   "cell_type": "markdown",
   "metadata": {},
   "source": [
    "To display the short description of the enum values instead of the cryptic IDs (e.g. Ausländer(innen) instead of NATA), set the argument \"verbose_enums = True\" on the results:"
   ]
  },
  {
   "cell_type": "code",
   "execution_count": null,
   "metadata": {},
   "outputs": [],
   "source": [
    "query.results(verbose_enums=True).head()"
   ]
  },
  {
   "cell_type": "markdown",
   "metadata": {},
   "source": [
    "## Multiple Regions"
   ]
  },
  {
   "cell_type": "markdown",
   "metadata": {},
   "source": [
    "To display data for multiple single regions, a list with region IDs can be used:"
   ]
  },
  {
   "cell_type": "code",
   "execution_count": null,
   "metadata": {},
   "outputs": [],
   "source": [
    "query_multiple = Query.region(['01', '02'])\n",
    "query_multiple.add_field('BEV001')\n",
    "query_multiple.results().sort_values('year').head()"
   ]
  },
  {
   "cell_type": "markdown",
   "metadata": {},
   "source": [
    "To display data for e.g. all 'Bundesländer' or for all regions within a Bundesland, you can use the function `all_regions()`:\n",
    "\n",
    "- specify nuts level\n",
    "- specify lau level\n",
    "- specify parent ID (Careful: not only the regions for the next lower level will be returned, but all levels - e.g. if you specify a parent on nuts level 1 then the \"children\" on nuts 2 but also the \"grandchildren\" on nuts 3, lau 1 and lau 2 will be returned)"
   ]
  },
  {
   "cell_type": "code",
   "execution_count": null,
   "metadata": {},
   "outputs": [],
   "source": [
    "# get data for all Bundesländer\n",
    "query_all = Query.all_regions(nuts=1)\n",
    "query_all.add_field('BEV001')\n",
    "query_all.results().sort_values('year').head(12)"
   ]
  },
  {
   "cell_type": "code",
   "execution_count": null,
   "metadata": {},
   "outputs": [],
   "source": [
    "# get data for all regions within Brandenburg\n",
    "query_all = Query.all_regions(parent='12')\n",
    "query_all.add_field('BEV001')\n",
    "query_all.results().head()"
   ]
  },
  {
   "cell_type": "code",
   "execution_count": null,
   "metadata": {},
   "outputs": [],
   "source": [
    "# get data for all nuts 3 regions within Brandenburg\n",
    "query_all = Query.all_regions(parent='12', nuts=3)\n",
    "query_all.add_field('BEV001')\n",
    "query_all.results().sort_values('year').head()"
   ]
  },
  {
   "cell_type": "code",
   "execution_count": null,
   "metadata": {},
   "outputs": [],
   "source": []
  }
 ],
 "metadata": {
  "file_extension": ".py",
  "kernelspec": {
   "display_name": "Python 3",
   "language": "python",
   "name": "python3"
  },
  "language_info": {
   "codemirror_mode": {
    "name": "ipython",
    "version": 3
   },
   "file_extension": ".py",
   "mimetype": "text/x-python",
   "name": "python",
   "nbconvert_exporter": "python",
   "pygments_lexer": "ipython3",
   "version": "3.7.4"
  },
  "mimetype": "text/x-python",
  "name": "python",
  "npconvert_exporter": "python",
  "pygments_lexer": "ipython3",
  "version": 3
 },
 "nbformat": 4,
 "nbformat_minor": 4
}
