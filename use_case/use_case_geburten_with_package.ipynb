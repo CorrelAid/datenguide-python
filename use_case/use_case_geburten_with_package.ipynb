{
 "cells": [
  {
   "cell_type": "code",
   "execution_count": null,
   "metadata": {},
   "outputs": [],
   "source": [
    "%cd ..\n",
    "\n",
    "from datenguidepy.query_builder import Query, Field\n",
    "from datenguidepy.query_execution import QueryExecutioner\n",
    "from datenguidepy.output_transformer import QueryOutputTransformer\n",
    "\n",
    "from datenguidepy.query_helper import (\n",
    "    get_statistics,\n",
    "    get_all_regions,\n",
    "    #siblings, #further functions to help with regions\n",
    "    #regions_to_config_helper, \n",
    "    #hirachy_down,federal_states,\n",
    "    #federal_states,\n",
    ")"
   ]
  },
  {
   "cell_type": "code",
   "execution_count": null,
   "metadata": {},
   "outputs": [],
   "source": [
    "q = Query.region('01')\n",
    "statistic = q.add_field('BEV001')\n",
    "statistic2 = q.add_field('BEVSTD')"
   ]
  },
  {
   "cell_type": "code",
   "execution_count": null,
   "metadata": {},
   "outputs": [],
   "source": [
    "results = q.results()"
   ]
  },
  {
   "cell_type": "code",
   "execution_count": null,
   "metadata": {},
   "outputs": [],
   "source": [
    "%matplotlib inline\n",
    "(\n",
    "    results\n",
    "    .assign(\n",
    "        birth_rate_1000 = lambda df: df.BEV001/df.BEVSTD\n",
    "    )\n",
    "    .set_index('year')\n",
    "    .loc[:,'birth_rate_1000']\n",
    "    .plot()\n",
    ")"
   ]
  },
  {
   "cell_type": "code",
   "execution_count": null,
   "metadata": {},
   "outputs": [],
   "source": [
    "reg = get_all_regions()\n",
    "reg.head()"
   ]
  },
  {
   "cell_type": "code",
   "execution_count": null,
   "metadata": {},
   "outputs": [],
   "source": [
    "relevant_region_subset = reg.query('level == \"nuts1\"').name\n",
    "relevant_region_subset"
   ]
  },
  {
   "cell_type": "code",
   "execution_count": null,
   "metadata": {},
   "outputs": [],
   "source": [
    "import matplotlib.pyplot as plt\n",
    "\n",
    "ax = plt.gca()\n",
    "\n",
    "for code,name in (relevant_region_subset.iteritems()):\n",
    "    q = Query.region(code)\n",
    "    statistic = q.add_field('BEV001')\n",
    "    statistic2 = q.add_field('BEVSTD')\n",
    "    results = q.results()\n",
    "    (\n",
    "    results\n",
    "    .assign(\n",
    "        birth_rate_1000 = lambda df: df.BEV001/df.BEVSTD\n",
    "    )\n",
    "    .set_index('year')\n",
    "    .loc[:,'birth_rate_1000']\n",
    "    .plot(axes = ax,label= name)\n",
    "    )\n",
    "plt.legend(loc='upper left', bbox_to_anchor=(1, 1))\n",
    "plt.gcf().set_size_inches(10,6)"
   ]
  },
  {
   "cell_type": "markdown",
   "metadata": {},
   "source": [
    "16 might already be too much to plot in one graph statically. I would suggest simpler examples or the use of an interactive plotting tool like bokeh or dash/plotly. The latter would help to distinguish lines on demand. Gridplots with shared axis might also work nicely as a 4x4."
   ]
  },
  {
   "cell_type": "code",
   "execution_count": null,
   "metadata": {},
   "outputs": [],
   "source": []
  }
 ],
 "metadata": {
  "kernelspec": {
   "display_name": "datenguide",
   "language": "python",
   "name": "datenguide"
  },
  "language_info": {
   "codemirror_mode": {
    "name": "ipython",
    "version": 3
   },
   "file_extension": ".py",
   "mimetype": "text/x-python",
   "name": "python",
   "nbconvert_exporter": "python",
   "pygments_lexer": "ipython3",
   "version": "3.7.4+"
  }
 },
 "nbformat": 4,
 "nbformat_minor": 2
}
