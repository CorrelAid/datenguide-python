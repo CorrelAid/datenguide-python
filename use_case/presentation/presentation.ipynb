{
 "cells": [
  {
   "cell_type": "markdown",
   "metadata": {
    "slideshow": {
     "slide_type": "slide"
    }
   },
   "source": [
    "# datenguide-python\n",
    "## Easy python access to German regional statistics\n",
    "(package teaser)"
   ]
  },
  {
   "cell_type": "markdown",
   "metadata": {
    "slideshow": {
     "slide_type": "slide"
    }
   },
   "source": [
    "![datenguide project](datenguidemain.png)"
   ]
  },
  {
   "cell_type": "markdown",
   "metadata": {
    "slideshow": {
     "slide_type": "subslide"
    }
   },
   "source": [
    "![datenguide project](datenguidemember.png)"
   ]
  },
  {
   "cell_type": "markdown",
   "metadata": {
    "slideshow": {
     "slide_type": "subslide"
    }
   },
   "source": [
    "# Datenguide goal\n",
    "\n",
    "## Make data that is officially public also public in practice\n",
    "Public data is often\n",
    " - hard to find\n",
    " - inconvenient to search\n",
    " - returned in inconvenient formats\n",
    " \n",
    "## Data Content\n",
    "<ul>\n",
    "    <li>data from <a href=\"https://www.regionalstatistik.de/genesis/online/\">\n",
    "    https://www.regionalstatistik.de/genesis/online/</a></li>\n",
    "    <li>data from German govermental statistics agencies</li>\n",
    "    <li>approx. 400 statistics</li>\n",
    "    <li>approx. 14,000 German regions of variing granularity</li>\n",
    "    <li>statistics cover a range of ares like economic, social, and enviromental</li>\n",
    "</ul>"
   ]
  },
  {
   "cell_type": "markdown",
   "metadata": {
    "slideshow": {
     "slide_type": "slide"
    }
   },
   "source": [
    "<h1> datenguide-python made by CorrelAid<img src=\"correlaid-icon.svg\" width=\"50\"/> </h1>\n",
    "\n",
    "We are a non-profit organisation for using data science for good\n",
    "- open data projects\n",
    "- pro bono data science consulting for other non-profit organisations/projects\n",
    "\n",
    "[https://correlaid.org/en/](https://correlaid.org/en/)\n",
    "\n",
    "Project team\n",
    "\n",
    " Alex|Kristian|Konrad|Barbara\n",
    " ----|--------|-------|------\n",
    " <img src=\"Alex\" width=\"100\">|<img src=\"Kristian\" width=\"100\">|<img src=\"Konrad\" width=\"100\">|"
   ]
  },
  {
   "cell_type": "markdown",
   "metadata": {
    "slideshow": {
     "slide_type": "slide"
    }
   },
   "source": [
    "# Pyhon package overview\n",
    "\n",
    "- Low entry threshold for package usage\n",
    "- Convenient access to data\n",
    "- Aims for good defaults in granularity of selected data\n",
    "- No data modifcation! (you have to clean and analyze yourself <span>&#128578;</span>)"
   ]
  },
  {
   "cell_type": "code",
   "execution_count": 1,
   "metadata": {
    "slideshow": {
     "slide_type": "skip"
    }
   },
   "outputs": [
    {
     "name": "stdout",
     "output_type": "stream",
     "text": [
      "/home/konrad/programming/python/correlaid/datenguide-python\n"
     ]
    }
   ],
   "source": [
    "%cd ../.."
   ]
  },
  {
   "cell_type": "code",
   "execution_count": 2,
   "metadata": {
    "slideshow": {
     "slide_type": "subslide"
    }
   },
   "outputs": [
    {
     "data": {
      "text/html": [
       "<div>\n",
       "<style scoped>\n",
       "    .dataframe tbody tr th:only-of-type {\n",
       "        vertical-align: middle;\n",
       "    }\n",
       "\n",
       "    .dataframe tbody tr th {\n",
       "        vertical-align: top;\n",
       "    }\n",
       "\n",
       "    .dataframe thead th {\n",
       "        text-align: right;\n",
       "    }\n",
       "</style>\n",
       "<table border=\"1\" class=\"dataframe\">\n",
       "  <thead>\n",
       "    <tr style=\"text-align: right;\">\n",
       "      <th></th>\n",
       "      <th>id</th>\n",
       "      <th>name</th>\n",
       "      <th>year</th>\n",
       "      <th>BEV001</th>\n",
       "      <th>BEV001_source_title_de</th>\n",
       "      <th>BEV001_source_valid_from</th>\n",
       "      <th>BEV001_source_periodicity</th>\n",
       "      <th>BEV001_source_name</th>\n",
       "      <th>BEV001_source_url</th>\n",
       "    </tr>\n",
       "  </thead>\n",
       "  <tbody>\n",
       "    <tr>\n",
       "      <th>0</th>\n",
       "      <td>01</td>\n",
       "      <td>Schleswig-Holstein</td>\n",
       "      <td>1995</td>\n",
       "      <td>27430</td>\n",
       "      <td>Statistik der Geburten</td>\n",
       "      <td>1995-01-01T00:00:00</td>\n",
       "      <td>JAEHRLICH</td>\n",
       "      <td>12612</td>\n",
       "      <td>None</td>\n",
       "    </tr>\n",
       "    <tr>\n",
       "      <th>1</th>\n",
       "      <td>01</td>\n",
       "      <td>Schleswig-Holstein</td>\n",
       "      <td>1996</td>\n",
       "      <td>28766</td>\n",
       "      <td>Statistik der Geburten</td>\n",
       "      <td>1995-01-01T00:00:00</td>\n",
       "      <td>JAEHRLICH</td>\n",
       "      <td>12612</td>\n",
       "      <td>None</td>\n",
       "    </tr>\n",
       "    <tr>\n",
       "      <th>2</th>\n",
       "      <td>01</td>\n",
       "      <td>Schleswig-Holstein</td>\n",
       "      <td>1997</td>\n",
       "      <td>29080</td>\n",
       "      <td>Statistik der Geburten</td>\n",
       "      <td>1995-01-01T00:00:00</td>\n",
       "      <td>JAEHRLICH</td>\n",
       "      <td>12612</td>\n",
       "      <td>None</td>\n",
       "    </tr>\n",
       "    <tr>\n",
       "      <th>3</th>\n",
       "      <td>01</td>\n",
       "      <td>Schleswig-Holstein</td>\n",
       "      <td>1998</td>\n",
       "      <td>27729</td>\n",
       "      <td>Statistik der Geburten</td>\n",
       "      <td>1995-01-01T00:00:00</td>\n",
       "      <td>JAEHRLICH</td>\n",
       "      <td>12612</td>\n",
       "      <td>None</td>\n",
       "    </tr>\n",
       "    <tr>\n",
       "      <th>4</th>\n",
       "      <td>01</td>\n",
       "      <td>Schleswig-Holstein</td>\n",
       "      <td>1999</td>\n",
       "      <td>27351</td>\n",
       "      <td>Statistik der Geburten</td>\n",
       "      <td>1995-01-01T00:00:00</td>\n",
       "      <td>JAEHRLICH</td>\n",
       "      <td>12612</td>\n",
       "      <td>None</td>\n",
       "    </tr>\n",
       "  </tbody>\n",
       "</table>\n",
       "</div>"
      ],
      "text/plain": [
       "   id                name  year  BEV001  BEV001_source_title_de  \\\n",
       "0  01  Schleswig-Holstein  1995   27430  Statistik der Geburten   \n",
       "1  01  Schleswig-Holstein  1996   28766  Statistik der Geburten   \n",
       "2  01  Schleswig-Holstein  1997   29080  Statistik der Geburten   \n",
       "3  01  Schleswig-Holstein  1998   27729  Statistik der Geburten   \n",
       "4  01  Schleswig-Holstein  1999   27351  Statistik der Geburten   \n",
       "\n",
       "  BEV001_source_valid_from BEV001_source_periodicity BEV001_source_name  \\\n",
       "0      1995-01-01T00:00:00                 JAEHRLICH              12612   \n",
       "1      1995-01-01T00:00:00                 JAEHRLICH              12612   \n",
       "2      1995-01-01T00:00:00                 JAEHRLICH              12612   \n",
       "3      1995-01-01T00:00:00                 JAEHRLICH              12612   \n",
       "4      1995-01-01T00:00:00                 JAEHRLICH              12612   \n",
       "\n",
       "  BEV001_source_url  \n",
       "0              None  \n",
       "1              None  \n",
       "2              None  \n",
       "3              None  \n",
       "4              None  "
      ]
     },
     "execution_count": 2,
     "metadata": {},
     "output_type": "execute_result"
    }
   ],
   "source": [
    "from datenguide_python.query_builder import Query\n",
    "\n",
    "q = Query.region('01')\n",
    "statistic = q.add_field('BEV001')\n",
    "\n",
    "q.results().head()"
   ]
  },
  {
   "cell_type": "code",
   "execution_count": 3,
   "metadata": {
    "slideshow": {
     "slide_type": "fragment"
    }
   },
   "outputs": [
    {
     "data": {
      "text/html": [
       "<div>\n",
       "<style scoped>\n",
       "    .dataframe tbody tr th:only-of-type {\n",
       "        vertical-align: middle;\n",
       "    }\n",
       "\n",
       "    .dataframe tbody tr th {\n",
       "        vertical-align: top;\n",
       "    }\n",
       "\n",
       "    .dataframe thead th {\n",
       "        text-align: right;\n",
       "    }\n",
       "</style>\n",
       "<table border=\"1\" class=\"dataframe\">\n",
       "  <thead>\n",
       "    <tr style=\"text-align: right;\">\n",
       "      <th></th>\n",
       "      <th>id</th>\n",
       "      <th>name</th>\n",
       "      <th>year</th>\n",
       "      <th>BEV001</th>\n",
       "    </tr>\n",
       "  </thead>\n",
       "  <tbody>\n",
       "    <tr>\n",
       "      <th>0</th>\n",
       "      <td>01</td>\n",
       "      <td>Schleswig-Holstein</td>\n",
       "      <td>1995</td>\n",
       "      <td>27430</td>\n",
       "    </tr>\n",
       "    <tr>\n",
       "      <th>1</th>\n",
       "      <td>01</td>\n",
       "      <td>Schleswig-Holstein</td>\n",
       "      <td>1996</td>\n",
       "      <td>28766</td>\n",
       "    </tr>\n",
       "    <tr>\n",
       "      <th>2</th>\n",
       "      <td>01</td>\n",
       "      <td>Schleswig-Holstein</td>\n",
       "      <td>1997</td>\n",
       "      <td>29080</td>\n",
       "    </tr>\n",
       "    <tr>\n",
       "      <th>3</th>\n",
       "      <td>01</td>\n",
       "      <td>Schleswig-Holstein</td>\n",
       "      <td>1998</td>\n",
       "      <td>27729</td>\n",
       "    </tr>\n",
       "    <tr>\n",
       "      <th>4</th>\n",
       "      <td>01</td>\n",
       "      <td>Schleswig-Holstein</td>\n",
       "      <td>1999</td>\n",
       "      <td>27351</td>\n",
       "    </tr>\n",
       "  </tbody>\n",
       "</table>\n",
       "</div>"
      ],
      "text/plain": [
       "   id                name  year  BEV001\n",
       "0  01  Schleswig-Holstein  1995   27430\n",
       "1  01  Schleswig-Holstein  1996   28766\n",
       "2  01  Schleswig-Holstein  1997   29080\n",
       "3  01  Schleswig-Holstein  1998   27729\n",
       "4  01  Schleswig-Holstein  1999   27351"
      ]
     },
     "execution_count": 3,
     "metadata": {},
     "output_type": "execute_result"
    }
   ],
   "source": [
    "q.results().head().iloc[:,:4]"
   ]
  },
  {
   "cell_type": "markdown",
   "metadata": {
    "slideshow": {
     "slide_type": "subslide"
    }
   },
   "source": [
    "# Wait how do I know the weird codes like \"01\" and \"BEV001\""
   ]
  },
  {
   "cell_type": "code",
   "execution_count": 4,
   "metadata": {
    "slideshow": {
     "slide_type": "fragment"
    }
   },
   "outputs": [
    {
     "data": {
      "text/html": [
       "<div>\n",
       "<style scoped>\n",
       "    .dataframe tbody tr th:only-of-type {\n",
       "        vertical-align: middle;\n",
       "    }\n",
       "\n",
       "    .dataframe tbody tr th {\n",
       "        vertical-align: top;\n",
       "    }\n",
       "\n",
       "    .dataframe thead th {\n",
       "        text-align: right;\n",
       "    }\n",
       "</style>\n",
       "<table border=\"1\" class=\"dataframe\">\n",
       "  <thead>\n",
       "    <tr style=\"text-align: right;\">\n",
       "      <th></th>\n",
       "      <th>name</th>\n",
       "      <th>level</th>\n",
       "      <th>parent</th>\n",
       "    </tr>\n",
       "    <tr>\n",
       "      <th>id</th>\n",
       "      <th></th>\n",
       "      <th></th>\n",
       "      <th></th>\n",
       "    </tr>\n",
       "  </thead>\n",
       "  <tbody>\n",
       "    <tr>\n",
       "      <th>10</th>\n",
       "      <td>Saarland</td>\n",
       "      <td>nuts1</td>\n",
       "      <td>DG</td>\n",
       "    </tr>\n",
       "    <tr>\n",
       "      <th>11</th>\n",
       "      <td>Berlin</td>\n",
       "      <td>nuts1</td>\n",
       "      <td>DG</td>\n",
       "    </tr>\n",
       "    <tr>\n",
       "      <th>12</th>\n",
       "      <td>Brandenburg</td>\n",
       "      <td>nuts1</td>\n",
       "      <td>DG</td>\n",
       "    </tr>\n",
       "    <tr>\n",
       "      <th>13</th>\n",
       "      <td>Mecklenburg-Vorpommern</td>\n",
       "      <td>nuts1</td>\n",
       "      <td>DG</td>\n",
       "    </tr>\n",
       "    <tr>\n",
       "      <th>14</th>\n",
       "      <td>Sachsen</td>\n",
       "      <td>nuts1</td>\n",
       "      <td>DG</td>\n",
       "    </tr>\n",
       "  </tbody>\n",
       "</table>\n",
       "</div>"
      ],
      "text/plain": [
       "                      name  level parent\n",
       "id                                      \n",
       "10                Saarland  nuts1     DG\n",
       "11                  Berlin  nuts1     DG\n",
       "12             Brandenburg  nuts1     DG\n",
       "13  Mecklenburg-Vorpommern  nuts1     DG\n",
       "14                 Sachsen  nuts1     DG"
      ]
     },
     "execution_count": 4,
     "metadata": {},
     "output_type": "execute_result"
    }
   ],
   "source": [
    "from datenguide_python.query_helper import get_all_regions\n",
    "\n",
    "regions = get_all_regions()\n",
    "regions.head()"
   ]
  },
  {
   "cell_type": "code",
   "execution_count": 5,
   "metadata": {
    "slideshow": {
     "slide_type": "fragment"
    }
   },
   "outputs": [
    {
     "data": {
      "text/plain": [
       "id\n",
       "11001                         Berlin-Mitte\n",
       "11002      Berlin-Friedrichshain-Kreuzberg\n",
       "11003                        Berlin-Pankow\n",
       "11004    Berlin-Charlottenburg-Wilmersdorf\n",
       "11005                       Berlin-Spandau\n",
       "Name: name, dtype: object"
      ]
     },
     "execution_count": 5,
     "metadata": {},
     "output_type": "execute_result"
    }
   ],
   "source": [
    "berlin_districts = regions.query('parent == \"11\" and level == \"nuts3\"').loc[:,'name']\n",
    "berlin_districts.head()"
   ]
  },
  {
   "cell_type": "code",
   "execution_count": 6,
   "metadata": {
    "slideshow": {
     "slide_type": "subslide"
    }
   },
   "outputs": [
    {
     "data": {
      "text/html": [
       "<div>\n",
       "<style scoped>\n",
       "    .dataframe tbody tr th:only-of-type {\n",
       "        vertical-align: middle;\n",
       "    }\n",
       "\n",
       "    .dataframe tbody tr th {\n",
       "        vertical-align: top;\n",
       "    }\n",
       "\n",
       "    .dataframe thead th {\n",
       "        text-align: right;\n",
       "    }\n",
       "</style>\n",
       "<table border=\"1\" class=\"dataframe\">\n",
       "  <thead>\n",
       "    <tr style=\"text-align: right;\">\n",
       "      <th></th>\n",
       "      <th>statistics</th>\n",
       "      <th>short_description</th>\n",
       "      <th>long_description</th>\n",
       "    </tr>\n",
       "  </thead>\n",
       "  <tbody>\n",
       "    <tr>\n",
       "      <th>0</th>\n",
       "      <td>AENW01</td>\n",
       "      <td>Entsorgte/behandelte Abfallmenge a.d. eig. BL</td>\n",
       "      <td>**Entsorgte/behandelte Abfallmenge a.d. eig. B...</td>\n",
       "    </tr>\n",
       "    <tr>\n",
       "      <th>1</th>\n",
       "      <td>AENW02</td>\n",
       "      <td>Abgelagerte Abfallmenge in Deponien</td>\n",
       "      <td>**Abgelagerte Abfallmenge in Deponien**\\n  *...</td>\n",
       "    </tr>\n",
       "    <tr>\n",
       "      <th>2</th>\n",
       "      <td>AENW03</td>\n",
       "      <td>Entsorg.u.Behandlungsanl.(o.Sortier.u.Zerlege.)</td>\n",
       "      <td>**Entsorg.u.Behandlungsanl.(o.Sortier.u.Zerleg...</td>\n",
       "    </tr>\n",
       "    <tr>\n",
       "      <th>3</th>\n",
       "      <td>AENW04</td>\n",
       "      <td>Entsorgte/behandelte Abfallmenge a.d. eig. BL</td>\n",
       "      <td>**Entsorgte/behandelte Abfallmenge a.d. eig. B...</td>\n",
       "    </tr>\n",
       "    <tr>\n",
       "      <th>4</th>\n",
       "      <td>AENW05</td>\n",
       "      <td>Abgelagerte Abfallmenge in Deponien</td>\n",
       "      <td>**Abgelagerte Abfallmenge in Deponien**\\n  *...</td>\n",
       "    </tr>\n",
       "  </tbody>\n",
       "</table>\n",
       "</div>"
      ],
      "text/plain": [
       "  statistics                                short_description  \\\n",
       "0     AENW01    Entsorgte/behandelte Abfallmenge a.d. eig. BL   \n",
       "1     AENW02              Abgelagerte Abfallmenge in Deponien   \n",
       "2     AENW03  Entsorg.u.Behandlungsanl.(o.Sortier.u.Zerlege.)   \n",
       "3     AENW04    Entsorgte/behandelte Abfallmenge a.d. eig. BL   \n",
       "4     AENW05              Abgelagerte Abfallmenge in Deponien   \n",
       "\n",
       "                                    long_description  \n",
       "0  **Entsorgte/behandelte Abfallmenge a.d. eig. B...  \n",
       "1    **Abgelagerte Abfallmenge in Deponien**\\n  *...  \n",
       "2  **Entsorg.u.Behandlungsanl.(o.Sortier.u.Zerleg...  \n",
       "3  **Entsorgte/behandelte Abfallmenge a.d. eig. B...  \n",
       "4    **Abgelagerte Abfallmenge in Deponien**\\n  *...  "
      ]
     },
     "execution_count": 6,
     "metadata": {},
     "output_type": "execute_result"
    }
   ],
   "source": [
    "from datenguide_python.query_helper import get_statistics\n",
    "\n",
    "stats = get_statistics()\n",
    "stats.head()"
   ]
  },
  {
   "cell_type": "code",
   "execution_count": 7,
   "metadata": {
    "slideshow": {
     "slide_type": "fragment"
    }
   },
   "outputs": [
    {
     "data": {
      "text/html": [
       "<div>\n",
       "<style scoped>\n",
       "    .dataframe tbody tr th:only-of-type {\n",
       "        vertical-align: middle;\n",
       "    }\n",
       "\n",
       "    .dataframe tbody tr th {\n",
       "        vertical-align: top;\n",
       "    }\n",
       "\n",
       "    .dataframe thead th {\n",
       "        text-align: right;\n",
       "    }\n",
       "</style>\n",
       "<table border=\"1\" class=\"dataframe\">\n",
       "  <thead>\n",
       "    <tr style=\"text-align: right;\">\n",
       "      <th></th>\n",
       "      <th>statistics</th>\n",
       "      <th>short_description</th>\n",
       "      <th>long_description</th>\n",
       "    </tr>\n",
       "  </thead>\n",
       "  <tbody>\n",
       "    <tr>\n",
       "      <th>29</th>\n",
       "      <td>AI_Z15</td>\n",
       "      <td>Wohnungen je Wohngebäude</td>\n",
       "      <td>**Wohnungen je Wohngebäude**\\n*aus GENESIS-Sta...</td>\n",
       "    </tr>\n",
       "    <tr>\n",
       "      <th>117</th>\n",
       "      <td>AI1101</td>\n",
       "      <td>Anteil neue Wohngebäude mit 1 oder 2 Wohnungen</td>\n",
       "      <td>**Anteil neue Wohngebäude mit 1 oder 2 Wohnung...</td>\n",
       "    </tr>\n",
       "    <tr>\n",
       "      <th>388</th>\n",
       "      <td>RME009</td>\n",
       "      <td>Räume in Wohnungen mit 7 oder mehr Räumen</td>\n",
       "      <td>**Räume in Wohnungen mit 7 oder mehr Räumen*...</td>\n",
       "    </tr>\n",
       "    <tr>\n",
       "      <th>389</th>\n",
       "      <td>RMENW9</td>\n",
       "      <td>Räume in Wohnungen mit 7 und mehr Räumen</td>\n",
       "      <td>**Räume in Wohnungen mit 7 und mehr Räumen**...</td>\n",
       "    </tr>\n",
       "    <tr>\n",
       "      <th>465</th>\n",
       "      <td>WOGWZ1</td>\n",
       "      <td>Wohnungen in Gebäuden mit Wohnraum</td>\n",
       "      <td>**Wohnungen in Gebäuden mit Wohnraum**\\n  *a...</td>\n",
       "    </tr>\n",
       "    <tr>\n",
       "      <th>466</th>\n",
       "      <td>WOH016</td>\n",
       "      <td>Wohnungen in neuen Nichtwohngebäuden</td>\n",
       "      <td>**Wohnungen in neuen Nichtwohngebäuden**\\n  ...</td>\n",
       "    </tr>\n",
       "    <tr>\n",
       "      <th>467</th>\n",
       "      <td>WOHN01</td>\n",
       "      <td>Wohnungen</td>\n",
       "      <td>**Wohnungen**\\n  *aus GENESIS-Statistik \"For...</td>\n",
       "    </tr>\n",
       "    <tr>\n",
       "      <th>468</th>\n",
       "      <td>WOHN02</td>\n",
       "      <td>Wohnungen</td>\n",
       "      <td>**Wohnungen**\\n  *aus GENESIS-Statistik \"Sta...</td>\n",
       "    </tr>\n",
       "    <tr>\n",
       "      <th>469</th>\n",
       "      <td>WOHN03</td>\n",
       "      <td>Wohnungen in Wohngebäuden</td>\n",
       "      <td>**Wohnungen in Wohngebäuden**\\n  *aus GENESI...</td>\n",
       "    </tr>\n",
       "    <tr>\n",
       "      <th>470</th>\n",
       "      <td>WOHN04</td>\n",
       "      <td>Wohnungen in Wohngebäuden (ohne Wohnheime)</td>\n",
       "      <td>**Wohnungen in Wohngebäuden (ohne Wohnheime)...</td>\n",
       "    </tr>\n",
       "    <tr>\n",
       "      <th>472</th>\n",
       "      <td>WOHNY1</td>\n",
       "      <td>Wohnungen in Wohn- und Nichtwohngebäuden</td>\n",
       "      <td>**Wohnungen in Wohn- und Nichtwohngebäuden**...</td>\n",
       "    </tr>\n",
       "  </tbody>\n",
       "</table>\n",
       "</div>"
      ],
      "text/plain": [
       "    statistics                               short_description  \\\n",
       "29      AI_Z15                        Wohnungen je Wohngebäude   \n",
       "117     AI1101  Anteil neue Wohngebäude mit 1 oder 2 Wohnungen   \n",
       "388     RME009       Räume in Wohnungen mit 7 oder mehr Räumen   \n",
       "389     RMENW9        Räume in Wohnungen mit 7 und mehr Räumen   \n",
       "465     WOGWZ1              Wohnungen in Gebäuden mit Wohnraum   \n",
       "466     WOH016            Wohnungen in neuen Nichtwohngebäuden   \n",
       "467     WOHN01                                       Wohnungen   \n",
       "468     WOHN02                                       Wohnungen   \n",
       "469     WOHN03                       Wohnungen in Wohngebäuden   \n",
       "470     WOHN04      Wohnungen in Wohngebäuden (ohne Wohnheime)   \n",
       "472     WOHNY1        Wohnungen in Wohn- und Nichtwohngebäuden   \n",
       "\n",
       "                                      long_description  \n",
       "29   **Wohnungen je Wohngebäude**\\n*aus GENESIS-Sta...  \n",
       "117  **Anteil neue Wohngebäude mit 1 oder 2 Wohnung...  \n",
       "388    **Räume in Wohnungen mit 7 oder mehr Räumen*...  \n",
       "389    **Räume in Wohnungen mit 7 und mehr Räumen**...  \n",
       "465    **Wohnungen in Gebäuden mit Wohnraum**\\n  *a...  \n",
       "466    **Wohnungen in neuen Nichtwohngebäuden**\\n  ...  \n",
       "467    **Wohnungen**\\n  *aus GENESIS-Statistik \"For...  \n",
       "468    **Wohnungen**\\n  *aus GENESIS-Statistik \"Sta...  \n",
       "469    **Wohnungen in Wohngebäuden**\\n  *aus GENESI...  \n",
       "470    **Wohnungen in Wohngebäuden (ohne Wohnheime)...  \n",
       "472    **Wohnungen in Wohn- und Nichtwohngebäuden**...  "
      ]
     },
     "execution_count": 7,
     "metadata": {},
     "output_type": "execute_result"
    }
   ],
   "source": [
    "stats[stats.short_description.str.contains('wohnungen',case=False)]"
   ]
  },
  {
   "cell_type": "code",
   "execution_count": 8,
   "metadata": {
    "slideshow": {
     "slide_type": "subslide"
    }
   },
   "outputs": [
    {
     "data": {
      "image/png": "[encoded data removed]",
      "text/plain": [
       "<Figure size 720x432 with 1 Axes>"
      ]
     },
     "metadata": {
      "needs_background": "light"
     },
     "output_type": "display_data"
    }
   ],
   "source": [
    "%matplotlib inline\n",
    "import matplotlib.pyplot as plt\n",
    "\n",
    "ax = plt.gca()\n",
    "for region_code,region_name in berlin_districts.iteritems():\n",
    "    q = Query.region(region_code)\n",
    "    statistic = q.add_field('WOHN02')\n",
    "    results = (\n",
    "        q.results()\n",
    "        .query('WOHN02_source_title_de  == \"Statistik der Baufertigstellungen\"')\n",
    "    )\n",
    "    ax.plot(results.year,results.WOHN02,label=region_name)\n",
    "\n",
    "plt.legend(loc='upper left', bbox_to_anchor=(1, 1))\n",
    "plt.gcf().set_size_inches(10,6)\n"
   ]
  },
  {
   "cell_type": "markdown",
   "metadata": {
    "slideshow": {
     "slide_type": "slide"
    }
   },
   "source": [
    "# Whats next\n",
    "\n",
    "## For the audience we hope \n",
    "`pip install datenguide-python`\n",
    "\n",
    "## For us \n",
    " - more convenience functionality for users\n",
    " - gather interesting use cases"
   ]
  },
  {
   "cell_type": "markdown",
   "metadata": {
    "slideshow": {
     "slide_type": "slide"
    }
   },
   "source": [
    "# Thank you for your attention"
   ]
  }
 ],
 "metadata": {
  "kernelspec": {
   "display_name": "datenguide",
   "language": "python",
   "name": "datenguide"
  },
  "language_info": {
   "codemirror_mode": {
    "name": "ipython",
    "version": 3
   },
   "file_extension": ".py",
   "mimetype": "text/x-python",
   "name": "python",
   "nbconvert_exporter": "python",
   "pygments_lexer": "ipython3",
   "version": "3.7.4+"
  }
 },
 "nbformat": 4,
 "nbformat_minor": 2
}
