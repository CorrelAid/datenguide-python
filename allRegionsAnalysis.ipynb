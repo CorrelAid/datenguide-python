{
 "cells": [
  {
   "cell_type": "code",
   "execution_count": 1,
   "metadata": {},
   "outputs": [],
   "source": [
    "from datenguide_python.query_builder import QueryBuilder\n",
    "from datenguide_python.query_execution import QueryExecutioner"
   ]
  },
  {
   "cell_type": "code",
   "execution_count": 2,
   "metadata": {},
   "outputs": [],
   "source": [
    "from unittest.mock import Mock"
   ]
  },
  {
   "cell_type": "code",
   "execution_count": 85,
   "metadata": {},
   "outputs": [],
   "source": [
    "def nuts_query(nuts_level):\n",
    "    q = Mock()\n",
    "    q.get_fields.return_value = ['allRegions','id','name']\n",
    "    q.get_graphql_query.return_value =  \"\"\"\n",
    "    query AR($page: Int!,$itemsPerPage: Int!){\n",
    "        allRegions(page: $page, itemsPerPage:$itemsPerPage) {\n",
    "        regions (nuts : \"\"\" +str(nuts_level) + \"\"\") {\n",
    "        id\n",
    "        name\n",
    "        }\n",
    "        page\n",
    "        itemsPerPage\n",
    "        total\n",
    "        }\n",
    "    }\n",
    "    \"\"\"\n",
    "    return q\n",
    "\n",
    "def lau_query(lau_level):\n",
    "    q = Mock()\n",
    "    q.get_fields.return_value = ['allRegions','id','name']\n",
    "    q.get_graphql_query.return_value =  \"\"\"\n",
    "    query AR($page: Int!,$itemsPerPage: Int!){\n",
    "        allRegions(page: $page, itemsPerPage:$itemsPerPage) {\n",
    "        regions (lau : \"\"\" +str(lau_level) + \"\"\") {\n",
    "        id\n",
    "        name\n",
    "        }\n",
    "        page\n",
    "        itemsPerPage\n",
    "        total\n",
    "        }\n",
    "    }\n",
    "    \"\"\"\n",
    "    return q"
   ]
  },
  {
   "cell_type": "code",
   "execution_count": 86,
   "metadata": {},
   "outputs": [],
   "source": [
    "qb_all = Mock()\n",
    "qb_all.get_graphql_query.return_value = \"\"\"\n",
    "query AR($page: Int!,$itemsPerPage: Int!){\n",
    "    allRegions(page: $page, itemsPerPage:$itemsPerPage) {\n",
    "    regions {\n",
    "    id\n",
    "    name\n",
    "    }\n",
    "    page\n",
    "    itemsPerPage\n",
    "    total\n",
    "    }\n",
    "}\n",
    "\"\"\"\n",
    "qb_all.get_fields.return_value = ['allRegions','id','name']\n",
    "\n"
   ]
  },
  {
   "cell_type": "code",
   "execution_count": 87,
   "metadata": {},
   "outputs": [],
   "source": [
    "qe = QueryExecutioner()\n",
    "all_regions = qe.run_query(qb_all)\n",
    "r_nuts1 = qe.run_query(nuts_query(1))\n",
    "r_nuts2 = qe.run_query(nuts_query(2))\n",
    "r_nuts3 = qe.run_query(nuts_query(3))\n",
    "r_lau1 = qe.run_query(lau_query(1))\n",
    "r_lau2 = qe.run_query(lau_query(2))"
   ]
  },
  {
   "cell_type": "code",
   "execution_count": 92,
   "metadata": {},
   "outputs": [],
   "source": [
    "levels = {'nuts1':r_nuts1,\n",
    "'nuts2':r_nuts2,\n",
    "'nuts3':r_nuts3,\n",
    "'lau1':r_lau1,\n",
    "'lau2':r_lau2}"
   ]
  },
  {
   "cell_type": "code",
   "execution_count": null,
   "metadata": {},
   "outputs": [],
   "source": []
  },
  {
   "cell_type": "code",
   "execution_count": 9,
   "metadata": {},
   "outputs": [],
   "source": [
    "import pandas as pd"
   ]
  },
  {
   "cell_type": "code",
   "execution_count": 93,
   "metadata": {},
   "outputs": [],
   "source": [
    "all_regions_df = pd.concat([pd.DataFrame(page['data']['allRegions']['regions']) for page in all_regions.query_results])"
   ]
  },
  {
   "cell_type": "code",
   "execution_count": 122,
   "metadata": {},
   "outputs": [],
   "source": [
    "level_df = pd.concat(pd.concat([pd.DataFrame(page['data']['allRegions']['regions']) for page in levels[k].query_results]).assign(level = k) for k in levels)"
   ]
  },
  {
   "cell_type": "code",
   "execution_count": 141,
   "metadata": {},
   "outputs": [
    {
     "data": {
      "text/plain": [
       "nuts1       16\n",
       "nuts2       35\n",
       "nuts3      483\n",
       "lau2     13963\n",
       "lau1     13963\n",
       "Name: level, dtype: int64"
      ]
     },
     "execution_count": 141,
     "metadata": {},
     "output_type": "execute_result"
    }
   ],
   "source": [
    "level_df.level.value_counts(ascending=True)"
   ]
  },
  {
   "cell_type": "code",
   "execution_count": 138,
   "metadata": {},
   "outputs": [
    {
     "data": {
      "text/plain": [
       "2        16\n",
       "3        35\n",
       "5       483\n",
       "11     1734\n",
       "10     5476\n",
       "8     20716\n",
       "Name: id, dtype: int64"
      ]
     },
     "execution_count": 138,
     "metadata": {},
     "output_type": "execute_result"
    }
   ],
   "source": [
    "level_df.id.str.len().value_counts(ascending=True)"
   ]
  },
  {
   "cell_type": "code",
   "execution_count": 137,
   "metadata": {},
   "outputs": [
    {
     "data": {
      "text/plain": [
       "level\n",
       "lau1     (8, 11)\n",
       "lau2     (8, 11)\n",
       "nuts1     (2, 2)\n",
       "nuts2     (3, 3)\n",
       "nuts3     (5, 5)\n",
       "dtype: object"
      ]
     },
     "execution_count": 137,
     "metadata": {},
     "output_type": "execute_result"
    }
   ],
   "source": [
    "level_df.groupby('level').apply(lambda df: (df.id.str.len().min(),df.id.str.len().max()))"
   ]
  },
  {
   "cell_type": "code",
   "execution_count": 144,
   "metadata": {},
   "outputs": [
    {
     "name": "stdout",
     "output_type": "stream",
     "text": [
      "(180, 4)\n"
     ]
    },
    {
     "data": {
      "text/html": [
       "<div>\n",
       "<style scoped>\n",
       "    .dataframe tbody tr th:only-of-type {\n",
       "        vertical-align: middle;\n",
       "    }\n",
       "\n",
       "    .dataframe tbody tr th {\n",
       "        vertical-align: top;\n",
       "    }\n",
       "\n",
       "    .dataframe thead th {\n",
       "        text-align: right;\n",
       "    }\n",
       "</style>\n",
       "<table border=\"1\" class=\"dataframe\">\n",
       "  <thead>\n",
       "    <tr style=\"text-align: right;\">\n",
       "      <th></th>\n",
       "      <th>id</th>\n",
       "      <th>name_x</th>\n",
       "      <th>name_y</th>\n",
       "      <th>level</th>\n",
       "    </tr>\n",
       "  </thead>\n",
       "  <tbody>\n",
       "    <tr>\n",
       "      <th>9561</th>\n",
       "      <td>DG</td>\n",
       "      <td>Deutschland</td>\n",
       "      <td>NaN</td>\n",
       "      <td>NaN</td>\n",
       "    </tr>\n",
       "    <tr>\n",
       "      <th>16316</th>\n",
       "      <td>0713101</td>\n",
       "      <td>Adenau</td>\n",
       "      <td>NaN</td>\n",
       "      <td>NaN</td>\n",
       "    </tr>\n",
       "    <tr>\n",
       "      <th>16391</th>\n",
       "      <td>0713102</td>\n",
       "      <td>Altenahr</td>\n",
       "      <td>NaN</td>\n",
       "      <td>NaN</td>\n",
       "    </tr>\n",
       "    <tr>\n",
       "      <th>16416</th>\n",
       "      <td>0713103</td>\n",
       "      <td>Bad Breisig</td>\n",
       "      <td>NaN</td>\n",
       "      <td>NaN</td>\n",
       "    </tr>\n",
       "    <tr>\n",
       "      <th>16425</th>\n",
       "      <td>0713104</td>\n",
       "      <td>Brohltal</td>\n",
       "      <td>NaN</td>\n",
       "      <td>NaN</td>\n",
       "    </tr>\n",
       "  </tbody>\n",
       "</table>\n",
       "</div>"
      ],
      "text/plain": [
       "            id       name_x name_y level\n",
       "9561        DG  Deutschland    NaN   NaN\n",
       "16316  0713101       Adenau    NaN   NaN\n",
       "16391  0713102     Altenahr    NaN   NaN\n",
       "16416  0713103  Bad Breisig    NaN   NaN\n",
       "16425  0713104     Brohltal    NaN   NaN"
      ]
     },
     "execution_count": 144,
     "metadata": {},
     "output_type": "execute_result"
    }
   ],
   "source": [
    "no_level = all_regions_df.merge(level_df,on='id',how='left').query('level.isna()')\n",
    "print(no_level.shape)\n",
    "no_level.head()"
   ]
  },
  {
   "cell_type": "code",
   "execution_count": 15,
   "metadata": {},
   "outputs": [],
   "source": [
    "ar_detail = all_regions.assign(level = lambda df:df.id.map(len))"
   ]
  },
  {
   "cell_type": "code",
   "execution_count": 67,
   "metadata": {},
   "outputs": [],
   "source": [
    "def isAnscestor(region_id,candidate):\n",
    "    return region_id.startswith(candidate) and candidate != region_id\n",
    "\n",
    "def isDescendent(region_id,candidate):\n",
    "    return candidate.startswith(region_id) and candidate != region_id\n",
    "\n",
    "def children(region_id):\n",
    "    desc =  ar_detail.assign(desc = lambda df:df.id.map(lambda i: isDescendent(region_id,i))).query('desc')\n",
    "    min_lev = desc.level.min()\n",
    "    return desc.query('level == @min_lev')\n",
    "\n",
    "def parent(region_id):\n",
    "    desc =  ar_detail.assign(ansc = lambda df:df.id.map(lambda i: isAnscestor(region_id,i))).query('ansc')\n",
    "    max_lev = desc.level.max()\n",
    "    parent_frame = desc.query('level == @max_lev')\n",
    "    if not parent_frame.empty:\n",
    "        return parent_frame.iloc[0,:].loc['id']\n",
    "    else:\n",
    "        None\n"
   ]
  },
  {
   "cell_type": "code",
   "execution_count": 44,
   "metadata": {},
   "outputs": [
    {
     "data": {
      "text/html": [
       "<div>\n",
       "<style scoped>\n",
       "    .dataframe tbody tr th:only-of-type {\n",
       "        vertical-align: middle;\n",
       "    }\n",
       "\n",
       "    .dataframe tbody tr th {\n",
       "        vertical-align: top;\n",
       "    }\n",
       "\n",
       "    .dataframe thead th {\n",
       "        text-align: right;\n",
       "    }\n",
       "</style>\n",
       "<table border=\"1\" class=\"dataframe\">\n",
       "  <thead>\n",
       "    <tr style=\"text-align: right;\">\n",
       "      <th></th>\n",
       "      <th>id</th>\n",
       "      <th>name</th>\n",
       "      <th>level</th>\n",
       "    </tr>\n",
       "  </thead>\n",
       "  <tbody>\n",
       "    <tr>\n",
       "      <th>36</th>\n",
       "      <td>12053</td>\n",
       "      <td>Frankfurt (Oder)</td>\n",
       "      <td>5</td>\n",
       "    </tr>\n",
       "    <tr>\n",
       "      <th>234</th>\n",
       "      <td>12053000</td>\n",
       "      <td>Frankfurt (Oder)</td>\n",
       "      <td>8</td>\n",
       "    </tr>\n",
       "    <tr>\n",
       "      <th>870</th>\n",
       "      <td>06412</td>\n",
       "      <td>Frankfurt am Main</td>\n",
       "      <td>5</td>\n",
       "    </tr>\n",
       "    <tr>\n",
       "      <th>649</th>\n",
       "      <td>06412000</td>\n",
       "      <td>Frankfurt am Main</td>\n",
       "      <td>8</td>\n",
       "    </tr>\n",
       "  </tbody>\n",
       "</table>\n",
       "</div>"
      ],
      "text/plain": [
       "           id               name  level\n",
       "36      12053   Frankfurt (Oder)      5\n",
       "234  12053000   Frankfurt (Oder)      8\n",
       "870     06412  Frankfurt am Main      5\n",
       "649  06412000  Frankfurt am Main      8"
      ]
     },
     "execution_count": 44,
     "metadata": {},
     "output_type": "execute_result"
    }
   ],
   "source": [
    "ar_detail[ar_detail.name.str.contains('Frankfurt')]"
   ]
  },
  {
   "cell_type": "code",
   "execution_count": 99,
   "metadata": {},
   "outputs": [
    {
     "data": {
      "text/html": [
       "<div>\n",
       "<style scoped>\n",
       "    .dataframe tbody tr th:only-of-type {\n",
       "        vertical-align: middle;\n",
       "    }\n",
       "\n",
       "    .dataframe tbody tr th {\n",
       "        vertical-align: top;\n",
       "    }\n",
       "\n",
       "    .dataframe thead th {\n",
       "        text-align: right;\n",
       "    }\n",
       "</style>\n",
       "<table border=\"1\" class=\"dataframe\">\n",
       "  <thead>\n",
       "    <tr style=\"text-align: right;\">\n",
       "      <th></th>\n",
       "      <th>id</th>\n",
       "      <th>name</th>\n",
       "      <th>level</th>\n",
       "    </tr>\n",
       "  </thead>\n",
       "  <tbody>\n",
       "    <tr>\n",
       "      <th>777</th>\n",
       "      <td>05911</td>\n",
       "      <td>Bochum</td>\n",
       "      <td>5</td>\n",
       "    </tr>\n",
       "  </tbody>\n",
       "</table>\n",
       "</div>"
      ],
      "text/plain": [
       "        id    name  level\n",
       "777  05911  Bochum      5"
      ]
     },
     "execution_count": 99,
     "metadata": {},
     "output_type": "execute_result"
    }
   ],
   "source": [
    "ar_detail.query('id == \"05911\"')"
   ]
  },
  {
   "cell_type": "code",
   "execution_count": 70,
   "metadata": {},
   "outputs": [],
   "source": [
    "parent_rel = ar_detail.assign(parent = lambda df: df.id.map(parent))"
   ]
  },
  {
   "cell_type": "code",
   "execution_count": 73,
   "metadata": {},
   "outputs": [],
   "source": [
    "def children(region_id):\n",
    "    return parent_rel.query('parent == @region_id')"
   ]
  },
  {
   "cell_type": "code",
   "execution_count": 79,
   "metadata": {},
   "outputs": [
    {
     "data": {
      "text/html": [
       "<div>\n",
       "<style scoped>\n",
       "    .dataframe tbody tr th:only-of-type {\n",
       "        vertical-align: middle;\n",
       "    }\n",
       "\n",
       "    .dataframe tbody tr th {\n",
       "        vertical-align: top;\n",
       "    }\n",
       "\n",
       "    .dataframe thead th {\n",
       "        text-align: right;\n",
       "    }\n",
       "</style>\n",
       "<table border=\"1\" class=\"dataframe\">\n",
       "  <thead>\n",
       "    <tr style=\"text-align: right;\">\n",
       "      <th></th>\n",
       "      <th>id</th>\n",
       "      <th>name</th>\n",
       "      <th>level</th>\n",
       "      <th>parent</th>\n",
       "    </tr>\n",
       "  </thead>\n",
       "  <tbody>\n",
       "    <tr>\n",
       "      <th>156</th>\n",
       "      <td>16051</td>\n",
       "      <td>Erfurt</td>\n",
       "      <td>5</td>\n",
       "      <td>16</td>\n",
       "    </tr>\n",
       "    <tr>\n",
       "      <th>157</th>\n",
       "      <td>16052</td>\n",
       "      <td>Gera</td>\n",
       "      <td>5</td>\n",
       "      <td>16</td>\n",
       "    </tr>\n",
       "    <tr>\n",
       "      <th>158</th>\n",
       "      <td>16053</td>\n",
       "      <td>Jena</td>\n",
       "      <td>5</td>\n",
       "      <td>16</td>\n",
       "    </tr>\n",
       "    <tr>\n",
       "      <th>159</th>\n",
       "      <td>16054</td>\n",
       "      <td>Suhl</td>\n",
       "      <td>5</td>\n",
       "      <td>16</td>\n",
       "    </tr>\n",
       "    <tr>\n",
       "      <th>160</th>\n",
       "      <td>16055</td>\n",
       "      <td>Weimar</td>\n",
       "      <td>5</td>\n",
       "      <td>16</td>\n",
       "    </tr>\n",
       "    <tr>\n",
       "      <th>161</th>\n",
       "      <td>16056</td>\n",
       "      <td>Eisenach</td>\n",
       "      <td>5</td>\n",
       "      <td>16</td>\n",
       "    </tr>\n",
       "    <tr>\n",
       "      <th>162</th>\n",
       "      <td>16061</td>\n",
       "      <td>Eichsfeld</td>\n",
       "      <td>5</td>\n",
       "      <td>16</td>\n",
       "    </tr>\n",
       "    <tr>\n",
       "      <th>163</th>\n",
       "      <td>16062</td>\n",
       "      <td>Nordhausen</td>\n",
       "      <td>5</td>\n",
       "      <td>16</td>\n",
       "    </tr>\n",
       "    <tr>\n",
       "      <th>164</th>\n",
       "      <td>16063</td>\n",
       "      <td>Wartburgkreis</td>\n",
       "      <td>5</td>\n",
       "      <td>16</td>\n",
       "    </tr>\n",
       "    <tr>\n",
       "      <th>165</th>\n",
       "      <td>16064</td>\n",
       "      <td>Unstrut-Hainich-Kreis</td>\n",
       "      <td>5</td>\n",
       "      <td>16</td>\n",
       "    </tr>\n",
       "    <tr>\n",
       "      <th>166</th>\n",
       "      <td>16065</td>\n",
       "      <td>Kyffhäuserkreis</td>\n",
       "      <td>5</td>\n",
       "      <td>16</td>\n",
       "    </tr>\n",
       "    <tr>\n",
       "      <th>167</th>\n",
       "      <td>16066</td>\n",
       "      <td>Schmalkalden-Meiningen</td>\n",
       "      <td>5</td>\n",
       "      <td>16</td>\n",
       "    </tr>\n",
       "    <tr>\n",
       "      <th>168</th>\n",
       "      <td>16067</td>\n",
       "      <td>Gotha</td>\n",
       "      <td>5</td>\n",
       "      <td>16</td>\n",
       "    </tr>\n",
       "    <tr>\n",
       "      <th>169</th>\n",
       "      <td>16068</td>\n",
       "      <td>Sömmerda</td>\n",
       "      <td>5</td>\n",
       "      <td>16</td>\n",
       "    </tr>\n",
       "    <tr>\n",
       "      <th>170</th>\n",
       "      <td>16069</td>\n",
       "      <td>Hildburghausen</td>\n",
       "      <td>5</td>\n",
       "      <td>16</td>\n",
       "    </tr>\n",
       "    <tr>\n",
       "      <th>171</th>\n",
       "      <td>16070</td>\n",
       "      <td>Ilm-Kreis</td>\n",
       "      <td>5</td>\n",
       "      <td>16</td>\n",
       "    </tr>\n",
       "    <tr>\n",
       "      <th>172</th>\n",
       "      <td>16071</td>\n",
       "      <td>Weimarer Land</td>\n",
       "      <td>5</td>\n",
       "      <td>16</td>\n",
       "    </tr>\n",
       "    <tr>\n",
       "      <th>173</th>\n",
       "      <td>16072</td>\n",
       "      <td>Sonneberg</td>\n",
       "      <td>5</td>\n",
       "      <td>16</td>\n",
       "    </tr>\n",
       "    <tr>\n",
       "      <th>174</th>\n",
       "      <td>16073</td>\n",
       "      <td>Saalfeld-Rudolstadt</td>\n",
       "      <td>5</td>\n",
       "      <td>16</td>\n",
       "    </tr>\n",
       "    <tr>\n",
       "      <th>175</th>\n",
       "      <td>16074</td>\n",
       "      <td>Saale-Holzland-Kreis</td>\n",
       "      <td>5</td>\n",
       "      <td>16</td>\n",
       "    </tr>\n",
       "    <tr>\n",
       "      <th>176</th>\n",
       "      <td>16075</td>\n",
       "      <td>Saale-Orla-Kreis</td>\n",
       "      <td>5</td>\n",
       "      <td>16</td>\n",
       "    </tr>\n",
       "    <tr>\n",
       "      <th>177</th>\n",
       "      <td>16076</td>\n",
       "      <td>Greiz</td>\n",
       "      <td>5</td>\n",
       "      <td>16</td>\n",
       "    </tr>\n",
       "    <tr>\n",
       "      <th>178</th>\n",
       "      <td>16077</td>\n",
       "      <td>Altenburger Land</td>\n",
       "      <td>5</td>\n",
       "      <td>16</td>\n",
       "    </tr>\n",
       "  </tbody>\n",
       "</table>\n",
       "</div>"
      ],
      "text/plain": [
       "        id                    name  level parent\n",
       "156  16051                  Erfurt      5     16\n",
       "157  16052                    Gera      5     16\n",
       "158  16053                    Jena      5     16\n",
       "159  16054                    Suhl      5     16\n",
       "160  16055                  Weimar      5     16\n",
       "161  16056                Eisenach      5     16\n",
       "162  16061               Eichsfeld      5     16\n",
       "163  16062              Nordhausen      5     16\n",
       "164  16063           Wartburgkreis      5     16\n",
       "165  16064   Unstrut-Hainich-Kreis      5     16\n",
       "166  16065         Kyffhäuserkreis      5     16\n",
       "167  16066  Schmalkalden-Meiningen      5     16\n",
       "168  16067                   Gotha      5     16\n",
       "169  16068                Sömmerda      5     16\n",
       "170  16069          Hildburghausen      5     16\n",
       "171  16070               Ilm-Kreis      5     16\n",
       "172  16071           Weimarer Land      5     16\n",
       "173  16072               Sonneberg      5     16\n",
       "174  16073     Saalfeld-Rudolstadt      5     16\n",
       "175  16074    Saale-Holzland-Kreis      5     16\n",
       "176  16075        Saale-Orla-Kreis      5     16\n",
       "177  16076                   Greiz      5     16\n",
       "178  16077        Altenburger Land      5     16"
      ]
     },
     "execution_count": 79,
     "metadata": {},
     "output_type": "execute_result"
    }
   ],
   "source": [
    "children('16')"
   ]
  },
  {
   "cell_type": "code",
   "execution_count": null,
   "metadata": {},
   "outputs": [],
   "source": []
  }
 ],
 "metadata": {
  "kernelspec": {
   "display_name": "datenguide",
   "language": "python",
   "name": "datenguide"
  },
  "language_info": {
   "codemirror_mode": {
    "name": "ipython",
    "version": 3
   },
   "file_extension": ".py",
   "mimetype": "text/x-python",
   "name": "python",
   "nbconvert_exporter": "python",
   "pygments_lexer": "ipython3",
   "version": "3.7.3"
  }
 },
 "nbformat": 4,
 "nbformat_minor": 2
}
