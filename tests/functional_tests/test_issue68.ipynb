{
 "nbformat": 4,
 "nbformat_minor": 2,
 "metadata": {
  "language_info": {
   "name": "python",
   "codemirror_mode": {
    "name": "ipython",
    "version": 3
   },
   "version": "3.7.7-final"
  },
  "orig_nbformat": 2,
  "file_extension": ".py",
  "mimetype": "text/x-python",
  "name": "python",
  "npconvert_exporter": "python",
  "pygments_lexer": "ipython3",
  "version": 3,
  "kernelspec": {
   "name": "datenguide",
   "display_name": "venv datenguide"
  }
 },
 "cells": [
  {
   "cell_type": "markdown",
   "metadata": {},
   "source": [
    "# Add Units of statitics to query results"
   ],
   "execution_count": null,
   "outputs": []
  },
  {
   "cell_type": "markdown",
   "metadata": {},
   "source": [
    "## One Statistic several enums"
   ],
   "execution_count": null,
   "outputs": []
  },
  {
   "cell_type": "code",
   "execution_count": 1,
   "metadata": {},
   "outputs": [
    {
     "output_type": "execute_result",
     "data": {
      "text/plain": "Empty DataFrame\nColumns: [id, name]\nIndex: []",
      "text/html": "<div>\n<style scoped>\n    .dataframe tbody tr th:only-of-type {\n        vertical-align: middle;\n    }\n\n    .dataframe tbody tr th {\n        vertical-align: top;\n    }\n\n    .dataframe thead th {\n        text-align: right;\n    }\n</style>\n<table border=\"1\" class=\"dataframe\">\n  <thead>\n    <tr style=\"text-align: right;\">\n      <th></th>\n      <th>id</th>\n      <th>name</th>\n    </tr>\n  </thead>\n  <tbody>\n  </tbody>\n</table>\n</div>"
     },
     "metadata": {},
     "execution_count": 1
    }
   ],
   "source": [
    "from datenguidepy import Query\n",
    "q = Query.region(\"01\")\n",
    "field = q.add_field(\"TIE003\")\n",
    "q.results()"
   ]
  },
  {
   "cell_type": "code",
   "execution_count": 2,
   "metadata": {},
   "outputs": [
    {
     "output_type": "execute_result",
     "data": {
      "text/plain": "Empty DataFrame\nColumns: [id, name]\nIndex: []",
      "text/html": "<div>\n<style scoped>\n    .dataframe tbody tr th:only-of-type {\n        vertical-align: middle;\n    }\n\n    .dataframe tbody tr th {\n        vertical-align: top;\n    }\n\n    .dataframe thead th {\n        text-align: right;\n    }\n</style>\n<table border=\"1\" class=\"dataframe\">\n  <thead>\n    <tr style=\"text-align: right;\">\n      <th></th>\n      <th>id</th>\n      <th>name</th>\n    </tr>\n  </thead>\n  <tbody>\n  </tbody>\n</table>\n</div>"
     },
     "metadata": {},
     "execution_count": 2
    }
   ],
   "source": [
    "field.add_field('TIEA05')\n",
    "q.results()"
   ]
  },
  {
   "cell_type": "code",
   "execution_count": 3,
   "metadata": {},
   "outputs": [
    {
     "output_type": "execute_result",
     "data": {
      "text/plain": "     id                name  year           TIEA05   TIE003  \\\n0    01  Schleswig-Holstein  2009   TIERART204141W   126776   \n1    01  Schleswig-Holstein  2009        AGRVART01  1166022   \n2    01  Schleswig-Holstein  2009    TIERART20412M   112161   \n3    01  Schleswig-Holstein  2009   TIERART204141M   106534   \n4    01  Schleswig-Holstein  2009  TIERART204141RM    46616   \n..   ..                 ...   ...              ...      ...   \n116  01  Schleswig-Holstein  2019        AGRVART11   376902   \n117  01  Schleswig-Holstein  2019   TIERART204141M    72270   \n118  01  Schleswig-Holstein  2019  TIERART204141RW    56989   \n119  01  Schleswig-Holstein  2019  TIERART204141RM    27685   \n120  01  Schleswig-Holstein  2019   TIERART204141W   118951   \n\n               TIE003_source_title_de TIE003_source_valid_from  \\\n0    Erhebung über die Rinderbestände      2000-05-03T00:00:00   \n1    Erhebung über die Rinderbestände      2000-05-03T00:00:00   \n2    Erhebung über die Rinderbestände      2000-05-03T00:00:00   \n3    Erhebung über die Rinderbestände      2000-05-03T00:00:00   \n4    Erhebung über die Rinderbestände      2000-05-03T00:00:00   \n..                                ...                      ...   \n116  Erhebung über die Rinderbestände      2000-05-03T00:00:00   \n117  Erhebung über die Rinderbestände      2000-05-03T00:00:00   \n118  Erhebung über die Rinderbestände      2000-05-03T00:00:00   \n119  Erhebung über die Rinderbestände      2000-05-03T00:00:00   \n120  Erhebung über die Rinderbestände      2000-05-03T00:00:00   \n\n    TIE003_source_periodicity TIE003_source_name TIE003_source_url  \n0               HALBJAEHRLICH              41312              None  \n1               HALBJAEHRLICH              41312              None  \n2               HALBJAEHRLICH              41312              None  \n3               HALBJAEHRLICH              41312              None  \n4               HALBJAEHRLICH              41312              None  \n..                        ...                ...               ...  \n116             HALBJAEHRLICH              41312              None  \n117             HALBJAEHRLICH              41312              None  \n118             HALBJAEHRLICH              41312              None  \n119             HALBJAEHRLICH              41312              None  \n120             HALBJAEHRLICH              41312              None  \n\n[121 rows x 10 columns]",
      "text/html": "<div>\n<style scoped>\n    .dataframe tbody tr th:only-of-type {\n        vertical-align: middle;\n    }\n\n    .dataframe tbody tr th {\n        vertical-align: top;\n    }\n\n    .dataframe thead th {\n        text-align: right;\n    }\n</style>\n<table border=\"1\" class=\"dataframe\">\n  <thead>\n    <tr style=\"text-align: right;\">\n      <th></th>\n      <th>id</th>\n      <th>name</th>\n      <th>year</th>\n      <th>TIEA05</th>\n      <th>TIE003</th>\n      <th>TIE003_source_title_de</th>\n      <th>TIE003_source_valid_from</th>\n      <th>TIE003_source_periodicity</th>\n      <th>TIE003_source_name</th>\n      <th>TIE003_source_url</th>\n    </tr>\n  </thead>\n  <tbody>\n    <tr>\n      <th>0</th>\n      <td>01</td>\n      <td>Schleswig-Holstein</td>\n      <td>2009</td>\n      <td>TIERART204141W</td>\n      <td>126776</td>\n      <td>Erhebung über die Rinderbestände</td>\n      <td>2000-05-03T00:00:00</td>\n      <td>HALBJAEHRLICH</td>\n      <td>41312</td>\n      <td>None</td>\n    </tr>\n    <tr>\n      <th>1</th>\n      <td>01</td>\n      <td>Schleswig-Holstein</td>\n      <td>2009</td>\n      <td>AGRVART01</td>\n      <td>1166022</td>\n      <td>Erhebung über die Rinderbestände</td>\n      <td>2000-05-03T00:00:00</td>\n      <td>HALBJAEHRLICH</td>\n      <td>41312</td>\n      <td>None</td>\n    </tr>\n    <tr>\n      <th>2</th>\n      <td>01</td>\n      <td>Schleswig-Holstein</td>\n      <td>2009</td>\n      <td>TIERART20412M</td>\n      <td>112161</td>\n      <td>Erhebung über die Rinderbestände</td>\n      <td>2000-05-03T00:00:00</td>\n      <td>HALBJAEHRLICH</td>\n      <td>41312</td>\n      <td>None</td>\n    </tr>\n    <tr>\n      <th>3</th>\n      <td>01</td>\n      <td>Schleswig-Holstein</td>\n      <td>2009</td>\n      <td>TIERART204141M</td>\n      <td>106534</td>\n      <td>Erhebung über die Rinderbestände</td>\n      <td>2000-05-03T00:00:00</td>\n      <td>HALBJAEHRLICH</td>\n      <td>41312</td>\n      <td>None</td>\n    </tr>\n    <tr>\n      <th>4</th>\n      <td>01</td>\n      <td>Schleswig-Holstein</td>\n      <td>2009</td>\n      <td>TIERART204141RM</td>\n      <td>46616</td>\n      <td>Erhebung über die Rinderbestände</td>\n      <td>2000-05-03T00:00:00</td>\n      <td>HALBJAEHRLICH</td>\n      <td>41312</td>\n      <td>None</td>\n    </tr>\n    <tr>\n      <th>...</th>\n      <td>...</td>\n      <td>...</td>\n      <td>...</td>\n      <td>...</td>\n      <td>...</td>\n      <td>...</td>\n      <td>...</td>\n      <td>...</td>\n      <td>...</td>\n      <td>...</td>\n    </tr>\n    <tr>\n      <th>116</th>\n      <td>01</td>\n      <td>Schleswig-Holstein</td>\n      <td>2019</td>\n      <td>AGRVART11</td>\n      <td>376902</td>\n      <td>Erhebung über die Rinderbestände</td>\n      <td>2000-05-03T00:00:00</td>\n      <td>HALBJAEHRLICH</td>\n      <td>41312</td>\n      <td>None</td>\n    </tr>\n    <tr>\n      <th>117</th>\n      <td>01</td>\n      <td>Schleswig-Holstein</td>\n      <td>2019</td>\n      <td>TIERART204141M</td>\n      <td>72270</td>\n      <td>Erhebung über die Rinderbestände</td>\n      <td>2000-05-03T00:00:00</td>\n      <td>HALBJAEHRLICH</td>\n      <td>41312</td>\n      <td>None</td>\n    </tr>\n    <tr>\n      <th>118</th>\n      <td>01</td>\n      <td>Schleswig-Holstein</td>\n      <td>2019</td>\n      <td>TIERART204141RW</td>\n      <td>56989</td>\n      <td>Erhebung über die Rinderbestände</td>\n      <td>2000-05-03T00:00:00</td>\n      <td>HALBJAEHRLICH</td>\n      <td>41312</td>\n      <td>None</td>\n    </tr>\n    <tr>\n      <th>119</th>\n      <td>01</td>\n      <td>Schleswig-Holstein</td>\n      <td>2019</td>\n      <td>TIERART204141RM</td>\n      <td>27685</td>\n      <td>Erhebung über die Rinderbestände</td>\n      <td>2000-05-03T00:00:00</td>\n      <td>HALBJAEHRLICH</td>\n      <td>41312</td>\n      <td>None</td>\n    </tr>\n    <tr>\n      <th>120</th>\n      <td>01</td>\n      <td>Schleswig-Holstein</td>\n      <td>2019</td>\n      <td>TIERART204141W</td>\n      <td>118951</td>\n      <td>Erhebung über die Rinderbestände</td>\n      <td>2000-05-03T00:00:00</td>\n      <td>HALBJAEHRLICH</td>\n      <td>41312</td>\n      <td>None</td>\n    </tr>\n  </tbody>\n</table>\n<p>121 rows × 10 columns</p>\n</div>"
     },
     "metadata": {},
     "execution_count": 3
    }
   ],
   "source": [
    "field.add_args({'TIEA05' : 'ALL'})\n",
    "q.results()"
   ]
  },
  {
   "cell_type": "code",
   "execution_count": 4,
   "metadata": {},
   "outputs": [
    {
     "output_type": "execute_result",
     "data": {
      "text/plain": "     id                name  year           TIEA05   TIE003  \\\n0    01  Schleswig-Holstein  2009   TIERART204141W   126776   \n1    01  Schleswig-Holstein  2009        AGRVART01  1166022   \n2    01  Schleswig-Holstein  2009    TIERART20412M   112161   \n3    01  Schleswig-Holstein  2009   TIERART204141M   106534   \n4    01  Schleswig-Holstein  2009  TIERART204141RM    46616   \n..   ..                 ...   ...              ...      ...   \n116  01  Schleswig-Holstein  2019        AGRVART11   376902   \n117  01  Schleswig-Holstein  2019   TIERART204141M    72270   \n118  01  Schleswig-Holstein  2019  TIERART204141RW    56989   \n119  01  Schleswig-Holstein  2019  TIERART204141RM    27685   \n120  01  Schleswig-Holstein  2019   TIERART204141W   118951   \n\n               TIE003_source_title_de TIE003_source_valid_from  \\\n0    Erhebung über die Rinderbestände      2000-05-03T00:00:00   \n1    Erhebung über die Rinderbestände      2000-05-03T00:00:00   \n2    Erhebung über die Rinderbestände      2000-05-03T00:00:00   \n3    Erhebung über die Rinderbestände      2000-05-03T00:00:00   \n4    Erhebung über die Rinderbestände      2000-05-03T00:00:00   \n..                                ...                      ...   \n116  Erhebung über die Rinderbestände      2000-05-03T00:00:00   \n117  Erhebung über die Rinderbestände      2000-05-03T00:00:00   \n118  Erhebung über die Rinderbestände      2000-05-03T00:00:00   \n119  Erhebung über die Rinderbestände      2000-05-03T00:00:00   \n120  Erhebung über die Rinderbestände      2000-05-03T00:00:00   \n\n    TIE003_source_periodicity TIE003_source_name TIE003_source_url  \n0               HALBJAEHRLICH              41312              None  \n1               HALBJAEHRLICH              41312              None  \n2               HALBJAEHRLICH              41312              None  \n3               HALBJAEHRLICH              41312              None  \n4               HALBJAEHRLICH              41312              None  \n..                        ...                ...               ...  \n116             HALBJAEHRLICH              41312              None  \n117             HALBJAEHRLICH              41312              None  \n118             HALBJAEHRLICH              41312              None  \n119             HALBJAEHRLICH              41312              None  \n120             HALBJAEHRLICH              41312              None  \n\n[121 rows x 10 columns]",
      "text/html": "<div>\n<style scoped>\n    .dataframe tbody tr th:only-of-type {\n        vertical-align: middle;\n    }\n\n    .dataframe tbody tr th {\n        vertical-align: top;\n    }\n\n    .dataframe thead th {\n        text-align: right;\n    }\n</style>\n<table border=\"1\" class=\"dataframe\">\n  <thead>\n    <tr style=\"text-align: right;\">\n      <th></th>\n      <th>id</th>\n      <th>name</th>\n      <th>year</th>\n      <th>TIEA05</th>\n      <th>TIE003</th>\n      <th>TIE003_source_title_de</th>\n      <th>TIE003_source_valid_from</th>\n      <th>TIE003_source_periodicity</th>\n      <th>TIE003_source_name</th>\n      <th>TIE003_source_url</th>\n    </tr>\n  </thead>\n  <tbody>\n    <tr>\n      <th>0</th>\n      <td>01</td>\n      <td>Schleswig-Holstein</td>\n      <td>2009</td>\n      <td>TIERART204141W</td>\n      <td>126776</td>\n      <td>Erhebung über die Rinderbestände</td>\n      <td>2000-05-03T00:00:00</td>\n      <td>HALBJAEHRLICH</td>\n      <td>41312</td>\n      <td>None</td>\n    </tr>\n    <tr>\n      <th>1</th>\n      <td>01</td>\n      <td>Schleswig-Holstein</td>\n      <td>2009</td>\n      <td>AGRVART01</td>\n      <td>1166022</td>\n      <td>Erhebung über die Rinderbestände</td>\n      <td>2000-05-03T00:00:00</td>\n      <td>HALBJAEHRLICH</td>\n      <td>41312</td>\n      <td>None</td>\n    </tr>\n    <tr>\n      <th>2</th>\n      <td>01</td>\n      <td>Schleswig-Holstein</td>\n      <td>2009</td>\n      <td>TIERART20412M</td>\n      <td>112161</td>\n      <td>Erhebung über die Rinderbestände</td>\n      <td>2000-05-03T00:00:00</td>\n      <td>HALBJAEHRLICH</td>\n      <td>41312</td>\n      <td>None</td>\n    </tr>\n    <tr>\n      <th>3</th>\n      <td>01</td>\n      <td>Schleswig-Holstein</td>\n      <td>2009</td>\n      <td>TIERART204141M</td>\n      <td>106534</td>\n      <td>Erhebung über die Rinderbestände</td>\n      <td>2000-05-03T00:00:00</td>\n      <td>HALBJAEHRLICH</td>\n      <td>41312</td>\n      <td>None</td>\n    </tr>\n    <tr>\n      <th>4</th>\n      <td>01</td>\n      <td>Schleswig-Holstein</td>\n      <td>2009</td>\n      <td>TIERART204141RM</td>\n      <td>46616</td>\n      <td>Erhebung über die Rinderbestände</td>\n      <td>2000-05-03T00:00:00</td>\n      <td>HALBJAEHRLICH</td>\n      <td>41312</td>\n      <td>None</td>\n    </tr>\n    <tr>\n      <th>...</th>\n      <td>...</td>\n      <td>...</td>\n      <td>...</td>\n      <td>...</td>\n      <td>...</td>\n      <td>...</td>\n      <td>...</td>\n      <td>...</td>\n      <td>...</td>\n      <td>...</td>\n    </tr>\n    <tr>\n      <th>116</th>\n      <td>01</td>\n      <td>Schleswig-Holstein</td>\n      <td>2019</td>\n      <td>AGRVART11</td>\n      <td>376902</td>\n      <td>Erhebung über die Rinderbestände</td>\n      <td>2000-05-03T00:00:00</td>\n      <td>HALBJAEHRLICH</td>\n      <td>41312</td>\n      <td>None</td>\n    </tr>\n    <tr>\n      <th>117</th>\n      <td>01</td>\n      <td>Schleswig-Holstein</td>\n      <td>2019</td>\n      <td>TIERART204141M</td>\n      <td>72270</td>\n      <td>Erhebung über die Rinderbestände</td>\n      <td>2000-05-03T00:00:00</td>\n      <td>HALBJAEHRLICH</td>\n      <td>41312</td>\n      <td>None</td>\n    </tr>\n    <tr>\n      <th>118</th>\n      <td>01</td>\n      <td>Schleswig-Holstein</td>\n      <td>2019</td>\n      <td>TIERART204141RW</td>\n      <td>56989</td>\n      <td>Erhebung über die Rinderbestände</td>\n      <td>2000-05-03T00:00:00</td>\n      <td>HALBJAEHRLICH</td>\n      <td>41312</td>\n      <td>None</td>\n    </tr>\n    <tr>\n      <th>119</th>\n      <td>01</td>\n      <td>Schleswig-Holstein</td>\n      <td>2019</td>\n      <td>TIERART204141RM</td>\n      <td>27685</td>\n      <td>Erhebung über die Rinderbestände</td>\n      <td>2000-05-03T00:00:00</td>\n      <td>HALBJAEHRLICH</td>\n      <td>41312</td>\n      <td>None</td>\n    </tr>\n    <tr>\n      <th>120</th>\n      <td>01</td>\n      <td>Schleswig-Holstein</td>\n      <td>2019</td>\n      <td>TIERART204141W</td>\n      <td>118951</td>\n      <td>Erhebung über die Rinderbestände</td>\n      <td>2000-05-03T00:00:00</td>\n      <td>HALBJAEHRLICH</td>\n      <td>41312</td>\n      <td>None</td>\n    </tr>\n  </tbody>\n</table>\n<p>121 rows × 10 columns</p>\n</div>"
     },
     "metadata": {},
     "execution_count": 4
    }
   ],
   "source": [
    "from datenguidepy import Query\n",
    "q = Query.region(\"01\")\n",
    "field = q.add_field(\"TIE003\") # active field returned.\n",
    "field.add_field('TIEA05')\n",
    "field.add_args({'TIEA05' : 'ALL'})\n",
    "q.results()"
   ]
  },
  {
   "cell_type": "code",
   "execution_count": 5,
   "metadata": {},
   "outputs": [
    {
     "output_type": "execute_result",
     "data": {
      "text/plain": "     id                name  year  \\\n0    01  Schleswig-Holstein  2009   \n1    01  Schleswig-Holstein  2009   \n2    01  Schleswig-Holstein  2009   \n3    01  Schleswig-Holstein  2009   \n4    01  Schleswig-Holstein  2009   \n..   ..                 ...   ...   \n116  01  Schleswig-Holstein  2019   \n117  01  Schleswig-Holstein  2019   \n118  01  Schleswig-Holstein  2019   \n119  01  Schleswig-Holstein  2019   \n120  01  Schleswig-Holstein  2019   \n\n                                                TIEA05   TIE003  \\\n0               Weibliche Kälber bis einschl. 8 Monate   126776   \n1                                     Rinder insgesamt  1166022   \n2                Männliche Rinder 1 bis unter 2 Jahren   112161   \n3               Männliche Kälber bis einschl. 8 Monate   106534   \n4    Männl. Jungrinder m. als 8 Mon. b. einschl. 1 ...    46616   \n..                                                 ...      ...   \n116                                          Milchkühe   376902   \n117             Männliche Kälber bis einschl. 8 Monate    72270   \n118  Weibl. Jungrinder m. als 8 Mon. b. einschl. 1 ...    56989   \n119  Männl. Jungrinder m. als 8 Mon. b. einschl. 1 ...    27685   \n120             Weibliche Kälber bis einschl. 8 Monate   118951   \n\n               TIE003_source_title_de TIE003_source_valid_from  \\\n0    Erhebung über die Rinderbestände      2000-05-03T00:00:00   \n1    Erhebung über die Rinderbestände      2000-05-03T00:00:00   \n2    Erhebung über die Rinderbestände      2000-05-03T00:00:00   \n3    Erhebung über die Rinderbestände      2000-05-03T00:00:00   \n4    Erhebung über die Rinderbestände      2000-05-03T00:00:00   \n..                                ...                      ...   \n116  Erhebung über die Rinderbestände      2000-05-03T00:00:00   \n117  Erhebung über die Rinderbestände      2000-05-03T00:00:00   \n118  Erhebung über die Rinderbestände      2000-05-03T00:00:00   \n119  Erhebung über die Rinderbestände      2000-05-03T00:00:00   \n120  Erhebung über die Rinderbestände      2000-05-03T00:00:00   \n\n    TIE003_source_periodicity TIE003_source_name TIE003_source_url  \n0               HALBJAEHRLICH              41312              None  \n1               HALBJAEHRLICH              41312              None  \n2               HALBJAEHRLICH              41312              None  \n3               HALBJAEHRLICH              41312              None  \n4               HALBJAEHRLICH              41312              None  \n..                        ...                ...               ...  \n116             HALBJAEHRLICH              41312              None  \n117             HALBJAEHRLICH              41312              None  \n118             HALBJAEHRLICH              41312              None  \n119             HALBJAEHRLICH              41312              None  \n120             HALBJAEHRLICH              41312              None  \n\n[121 rows x 10 columns]",
      "text/html": "<div>\n<style scoped>\n    .dataframe tbody tr th:only-of-type {\n        vertical-align: middle;\n    }\n\n    .dataframe tbody tr th {\n        vertical-align: top;\n    }\n\n    .dataframe thead th {\n        text-align: right;\n    }\n</style>\n<table border=\"1\" class=\"dataframe\">\n  <thead>\n    <tr style=\"text-align: right;\">\n      <th></th>\n      <th>id</th>\n      <th>name</th>\n      <th>year</th>\n      <th>TIEA05</th>\n      <th>TIE003</th>\n      <th>TIE003_source_title_de</th>\n      <th>TIE003_source_valid_from</th>\n      <th>TIE003_source_periodicity</th>\n      <th>TIE003_source_name</th>\n      <th>TIE003_source_url</th>\n    </tr>\n  </thead>\n  <tbody>\n    <tr>\n      <th>0</th>\n      <td>01</td>\n      <td>Schleswig-Holstein</td>\n      <td>2009</td>\n      <td>Weibliche Kälber bis einschl. 8 Monate</td>\n      <td>126776</td>\n      <td>Erhebung über die Rinderbestände</td>\n      <td>2000-05-03T00:00:00</td>\n      <td>HALBJAEHRLICH</td>\n      <td>41312</td>\n      <td>None</td>\n    </tr>\n    <tr>\n      <th>1</th>\n      <td>01</td>\n      <td>Schleswig-Holstein</td>\n      <td>2009</td>\n      <td>Rinder insgesamt</td>\n      <td>1166022</td>\n      <td>Erhebung über die Rinderbestände</td>\n      <td>2000-05-03T00:00:00</td>\n      <td>HALBJAEHRLICH</td>\n      <td>41312</td>\n      <td>None</td>\n    </tr>\n    <tr>\n      <th>2</th>\n      <td>01</td>\n      <td>Schleswig-Holstein</td>\n      <td>2009</td>\n      <td>Männliche Rinder 1 bis unter 2 Jahren</td>\n      <td>112161</td>\n      <td>Erhebung über die Rinderbestände</td>\n      <td>2000-05-03T00:00:00</td>\n      <td>HALBJAEHRLICH</td>\n      <td>41312</td>\n      <td>None</td>\n    </tr>\n    <tr>\n      <th>3</th>\n      <td>01</td>\n      <td>Schleswig-Holstein</td>\n      <td>2009</td>\n      <td>Männliche Kälber bis einschl. 8 Monate</td>\n      <td>106534</td>\n      <td>Erhebung über die Rinderbestände</td>\n      <td>2000-05-03T00:00:00</td>\n      <td>HALBJAEHRLICH</td>\n      <td>41312</td>\n      <td>None</td>\n    </tr>\n    <tr>\n      <th>4</th>\n      <td>01</td>\n      <td>Schleswig-Holstein</td>\n      <td>2009</td>\n      <td>Männl. Jungrinder m. als 8 Mon. b. einschl. 1 ...</td>\n      <td>46616</td>\n      <td>Erhebung über die Rinderbestände</td>\n      <td>2000-05-03T00:00:00</td>\n      <td>HALBJAEHRLICH</td>\n      <td>41312</td>\n      <td>None</td>\n    </tr>\n    <tr>\n      <th>...</th>\n      <td>...</td>\n      <td>...</td>\n      <td>...</td>\n      <td>...</td>\n      <td>...</td>\n      <td>...</td>\n      <td>...</td>\n      <td>...</td>\n      <td>...</td>\n      <td>...</td>\n    </tr>\n    <tr>\n      <th>116</th>\n      <td>01</td>\n      <td>Schleswig-Holstein</td>\n      <td>2019</td>\n      <td>Milchkühe</td>\n      <td>376902</td>\n      <td>Erhebung über die Rinderbestände</td>\n      <td>2000-05-03T00:00:00</td>\n      <td>HALBJAEHRLICH</td>\n      <td>41312</td>\n      <td>None</td>\n    </tr>\n    <tr>\n      <th>117</th>\n      <td>01</td>\n      <td>Schleswig-Holstein</td>\n      <td>2019</td>\n      <td>Männliche Kälber bis einschl. 8 Monate</td>\n      <td>72270</td>\n      <td>Erhebung über die Rinderbestände</td>\n      <td>2000-05-03T00:00:00</td>\n      <td>HALBJAEHRLICH</td>\n      <td>41312</td>\n      <td>None</td>\n    </tr>\n    <tr>\n      <th>118</th>\n      <td>01</td>\n      <td>Schleswig-Holstein</td>\n      <td>2019</td>\n      <td>Weibl. Jungrinder m. als 8 Mon. b. einschl. 1 ...</td>\n      <td>56989</td>\n      <td>Erhebung über die Rinderbestände</td>\n      <td>2000-05-03T00:00:00</td>\n      <td>HALBJAEHRLICH</td>\n      <td>41312</td>\n      <td>None</td>\n    </tr>\n    <tr>\n      <th>119</th>\n      <td>01</td>\n      <td>Schleswig-Holstein</td>\n      <td>2019</td>\n      <td>Männl. Jungrinder m. als 8 Mon. b. einschl. 1 ...</td>\n      <td>27685</td>\n      <td>Erhebung über die Rinderbestände</td>\n      <td>2000-05-03T00:00:00</td>\n      <td>HALBJAEHRLICH</td>\n      <td>41312</td>\n      <td>None</td>\n    </tr>\n    <tr>\n      <th>120</th>\n      <td>01</td>\n      <td>Schleswig-Holstein</td>\n      <td>2019</td>\n      <td>Weibliche Kälber bis einschl. 8 Monate</td>\n      <td>118951</td>\n      <td>Erhebung über die Rinderbestände</td>\n      <td>2000-05-03T00:00:00</td>\n      <td>HALBJAEHRLICH</td>\n      <td>41312</td>\n      <td>None</td>\n    </tr>\n  </tbody>\n</table>\n<p>121 rows × 10 columns</p>\n</div>"
     },
     "metadata": {},
     "execution_count": 5
    }
   ],
   "source": [
    "q.results(verbose_enums=True)"
   ]
  },
  {
   "cell_type": "code",
   "execution_count": 6,
   "metadata": {},
   "outputs": [
    {
     "output_type": "execute_result",
     "data": {
      "text/plain": "     id                name  year           TIEA05  Tiere (TIE003)  \\\n0    01  Schleswig-Holstein  2009   TIERART204141W          126776   \n1    01  Schleswig-Holstein  2009        AGRVART01         1166022   \n2    01  Schleswig-Holstein  2009    TIERART20412M          112161   \n3    01  Schleswig-Holstein  2009   TIERART204141M          106534   \n4    01  Schleswig-Holstein  2009  TIERART204141RM           46616   \n..   ..                 ...   ...              ...             ...   \n116  01  Schleswig-Holstein  2019        AGRVART11          376902   \n117  01  Schleswig-Holstein  2019   TIERART204141M           72270   \n118  01  Schleswig-Holstein  2019  TIERART204141RW           56989   \n119  01  Schleswig-Holstein  2019  TIERART204141RM           27685   \n120  01  Schleswig-Holstein  2019   TIERART204141W          118951   \n\n               TIE003_source_title_de TIE003_source_valid_from  \\\n0    Erhebung über die Rinderbestände      2000-05-03T00:00:00   \n1    Erhebung über die Rinderbestände      2000-05-03T00:00:00   \n2    Erhebung über die Rinderbestände      2000-05-03T00:00:00   \n3    Erhebung über die Rinderbestände      2000-05-03T00:00:00   \n4    Erhebung über die Rinderbestände      2000-05-03T00:00:00   \n..                                ...                      ...   \n116  Erhebung über die Rinderbestände      2000-05-03T00:00:00   \n117  Erhebung über die Rinderbestände      2000-05-03T00:00:00   \n118  Erhebung über die Rinderbestände      2000-05-03T00:00:00   \n119  Erhebung über die Rinderbestände      2000-05-03T00:00:00   \n120  Erhebung über die Rinderbestände      2000-05-03T00:00:00   \n\n    TIE003_source_periodicity TIE003_source_name TIE003_source_url  \n0               HALBJAEHRLICH              41312              None  \n1               HALBJAEHRLICH              41312              None  \n2               HALBJAEHRLICH              41312              None  \n3               HALBJAEHRLICH              41312              None  \n4               HALBJAEHRLICH              41312              None  \n..                        ...                ...               ...  \n116             HALBJAEHRLICH              41312              None  \n117             HALBJAEHRLICH              41312              None  \n118             HALBJAEHRLICH              41312              None  \n119             HALBJAEHRLICH              41312              None  \n120             HALBJAEHRLICH              41312              None  \n\n[121 rows x 10 columns]",
      "text/html": "<div>\n<style scoped>\n    .dataframe tbody tr th:only-of-type {\n        vertical-align: middle;\n    }\n\n    .dataframe tbody tr th {\n        vertical-align: top;\n    }\n\n    .dataframe thead th {\n        text-align: right;\n    }\n</style>\n<table border=\"1\" class=\"dataframe\">\n  <thead>\n    <tr style=\"text-align: right;\">\n      <th></th>\n      <th>id</th>\n      <th>name</th>\n      <th>year</th>\n      <th>TIEA05</th>\n      <th>Tiere (TIE003)</th>\n      <th>TIE003_source_title_de</th>\n      <th>TIE003_source_valid_from</th>\n      <th>TIE003_source_periodicity</th>\n      <th>TIE003_source_name</th>\n      <th>TIE003_source_url</th>\n    </tr>\n  </thead>\n  <tbody>\n    <tr>\n      <th>0</th>\n      <td>01</td>\n      <td>Schleswig-Holstein</td>\n      <td>2009</td>\n      <td>TIERART204141W</td>\n      <td>126776</td>\n      <td>Erhebung über die Rinderbestände</td>\n      <td>2000-05-03T00:00:00</td>\n      <td>HALBJAEHRLICH</td>\n      <td>41312</td>\n      <td>None</td>\n    </tr>\n    <tr>\n      <th>1</th>\n      <td>01</td>\n      <td>Schleswig-Holstein</td>\n      <td>2009</td>\n      <td>AGRVART01</td>\n      <td>1166022</td>\n      <td>Erhebung über die Rinderbestände</td>\n      <td>2000-05-03T00:00:00</td>\n      <td>HALBJAEHRLICH</td>\n      <td>41312</td>\n      <td>None</td>\n    </tr>\n    <tr>\n      <th>2</th>\n      <td>01</td>\n      <td>Schleswig-Holstein</td>\n      <td>2009</td>\n      <td>TIERART20412M</td>\n      <td>112161</td>\n      <td>Erhebung über die Rinderbestände</td>\n      <td>2000-05-03T00:00:00</td>\n      <td>HALBJAEHRLICH</td>\n      <td>41312</td>\n      <td>None</td>\n    </tr>\n    <tr>\n      <th>3</th>\n      <td>01</td>\n      <td>Schleswig-Holstein</td>\n      <td>2009</td>\n      <td>TIERART204141M</td>\n      <td>106534</td>\n      <td>Erhebung über die Rinderbestände</td>\n      <td>2000-05-03T00:00:00</td>\n      <td>HALBJAEHRLICH</td>\n      <td>41312</td>\n      <td>None</td>\n    </tr>\n    <tr>\n      <th>4</th>\n      <td>01</td>\n      <td>Schleswig-Holstein</td>\n      <td>2009</td>\n      <td>TIERART204141RM</td>\n      <td>46616</td>\n      <td>Erhebung über die Rinderbestände</td>\n      <td>2000-05-03T00:00:00</td>\n      <td>HALBJAEHRLICH</td>\n      <td>41312</td>\n      <td>None</td>\n    </tr>\n    <tr>\n      <th>...</th>\n      <td>...</td>\n      <td>...</td>\n      <td>...</td>\n      <td>...</td>\n      <td>...</td>\n      <td>...</td>\n      <td>...</td>\n      <td>...</td>\n      <td>...</td>\n      <td>...</td>\n    </tr>\n    <tr>\n      <th>116</th>\n      <td>01</td>\n      <td>Schleswig-Holstein</td>\n      <td>2019</td>\n      <td>AGRVART11</td>\n      <td>376902</td>\n      <td>Erhebung über die Rinderbestände</td>\n      <td>2000-05-03T00:00:00</td>\n      <td>HALBJAEHRLICH</td>\n      <td>41312</td>\n      <td>None</td>\n    </tr>\n    <tr>\n      <th>117</th>\n      <td>01</td>\n      <td>Schleswig-Holstein</td>\n      <td>2019</td>\n      <td>TIERART204141M</td>\n      <td>72270</td>\n      <td>Erhebung über die Rinderbestände</td>\n      <td>2000-05-03T00:00:00</td>\n      <td>HALBJAEHRLICH</td>\n      <td>41312</td>\n      <td>None</td>\n    </tr>\n    <tr>\n      <th>118</th>\n      <td>01</td>\n      <td>Schleswig-Holstein</td>\n      <td>2019</td>\n      <td>TIERART204141RW</td>\n      <td>56989</td>\n      <td>Erhebung über die Rinderbestände</td>\n      <td>2000-05-03T00:00:00</td>\n      <td>HALBJAEHRLICH</td>\n      <td>41312</td>\n      <td>None</td>\n    </tr>\n    <tr>\n      <th>119</th>\n      <td>01</td>\n      <td>Schleswig-Holstein</td>\n      <td>2019</td>\n      <td>TIERART204141RM</td>\n      <td>27685</td>\n      <td>Erhebung über die Rinderbestände</td>\n      <td>2000-05-03T00:00:00</td>\n      <td>HALBJAEHRLICH</td>\n      <td>41312</td>\n      <td>None</td>\n    </tr>\n    <tr>\n      <th>120</th>\n      <td>01</td>\n      <td>Schleswig-Holstein</td>\n      <td>2019</td>\n      <td>TIERART204141W</td>\n      <td>118951</td>\n      <td>Erhebung über die Rinderbestände</td>\n      <td>2000-05-03T00:00:00</td>\n      <td>HALBJAEHRLICH</td>\n      <td>41312</td>\n      <td>None</td>\n    </tr>\n  </tbody>\n</table>\n<p>121 rows × 10 columns</p>\n</div>"
     },
     "metadata": {},
     "execution_count": 6
    }
   ],
   "source": [
    "results = q.results(verbose_statistics=True)\n",
    "results"
   ]
  },
  {
   "cell_type": "code",
   "execution_count": 7,
   "metadata": {},
   "outputs": [
    {
     "output_type": "execute_result",
     "data": {
      "text/plain": "{'statistics': {'stat1': 'name1', 'stat2': 'name2'},\n 'enums': {'TIEA05': {'AGRVART01': 'Rinder insgesamt',\n   'AGRVART11': 'Milchkühe',\n   'TIERART03A': 'sonstige Kühe',\n   'TIERART20412M': 'Männliche Rinder 1 bis unter 2 Jahren',\n   'TIERART20412W': 'Weibl. Rinder 1 bis unter 2 J. (nicht abgekalbt)',\n   'TIERART20413M': 'Männliche Rinder 2 Jahre und älter',\n   'TIERART20413W': 'Weibl. Rinder 2 J. und älter (nicht abgekalbt)',\n   'TIERART204141M': 'Männliche Kälber bis einschl. 8 Monate',\n   'TIERART204141RM': 'Männl. Jungrinder m. als 8 Mon. b. einschl. 1 Jahr',\n   'TIERART204141RW': 'Weibl. Jungrinder m. als 8 Mon. b. einschl. 1 Jahr',\n   'TIERART204141W': 'Weibliche Kälber bis einschl. 8 Monate',\n   'GESAMT': 'Gesamt'}},\n 'units': {'TIE003': 'Anzahl'}}"
     },
     "metadata": {},
     "execution_count": 7
    }
   ],
   "source": [
    "_meta_data = q.meta_data()\n",
    "_meta_data['statistics'] = {'stat1': 'name1', 'stat2': 'name2'}\n",
    "_meta_data"
   ]
  },
  {
   "cell_type": "code",
   "execution_count": 8,
   "metadata": {},
   "outputs": [
    {
     "output_type": "error",
     "ename": "NotImplementedError",
     "evalue": "More than one statistic is not supported. Provided statisitcs: stat1, stat2",
     "traceback": [
      "\u001b[1;31m---------------------------------------------------------------------------\u001b[0m",
      "\u001b[1;31mNotImplementedError\u001b[0m                       Traceback (most recent call last)",
      "\u001b[1;32m<ipython-input-8-c2959f7b526d>\u001b[0m in \u001b[0;36m<module>\u001b[1;34m\u001b[0m\n\u001b[0;32m      3\u001b[0m     \u001b[1;33m[\u001b[0m\u001b[0mvalue\u001b[0m\u001b[1;33m]\u001b[0m \u001b[1;33m=\u001b[0m \u001b[0m_statistics\u001b[0m\u001b[1;33m\u001b[0m\u001b[1;33m\u001b[0m\u001b[0m\n\u001b[0;32m      4\u001b[0m \u001b[1;32melse\u001b[0m\u001b[1;33m:\u001b[0m\u001b[1;33m\u001b[0m\u001b[1;33m\u001b[0m\u001b[0m\n\u001b[1;32m----> 5\u001b[1;33m     \u001b[1;32mraise\u001b[0m \u001b[0mNotImplementedError\u001b[0m\u001b[1;33m(\u001b[0m\u001b[1;34m'More than one statistic is not supported. Provided statisitcs: {}'\u001b[0m\u001b[1;33m.\u001b[0m\u001b[0mformat\u001b[0m\u001b[1;33m(\u001b[0m\u001b[1;34m', '\u001b[0m\u001b[1;33m.\u001b[0m\u001b[0mjoin\u001b[0m\u001b[1;33m(\u001b[0m\u001b[0m_statistics\u001b[0m\u001b[1;33m)\u001b[0m\u001b[1;33m)\u001b[0m\u001b[1;33m)\u001b[0m\u001b[1;33m\u001b[0m\u001b[1;33m\u001b[0m\u001b[0m\n\u001b[0m",
      "\u001b[1;31mNotImplementedError\u001b[0m: More than one statistic is not supported. Provided statisitcs: stat1, stat2"
     ]
    }
   ],
   "source": [
    "_statistics = _meta_data['statistics'].keys()\n",
    "if len(_statistics)==1:\n",
    "    [value] = _statistics\n",
    "else: \n",
    "    raise NotImplementedError('More than one statistic is not supported. Provided statisitcs: {}'.format(', '.join(_statistics)))"
   ]
  },
  {
   "cell_type": "code",
   "execution_count": 9,
   "metadata": {},
   "outputs": [],
   "source": [
    "_meta_data = q.meta_data()\n",
    "_statistics = _meta_data['statistics'].keys()\n",
    "if len(_statistics)==1:\n",
    "    [statistic] = _statistics\n",
    "else: \n",
    "    raise NotImplementedError('More than one statistic is not supported. Provided statisitcs: {}'.format(', '.join(_statistics)))"
   ]
  },
  {
   "cell_type": "code",
   "execution_count": 10,
   "metadata": {},
   "outputs": [
    {
     "output_type": "execute_result",
     "data": {
      "text/plain": "'TIE003'"
     },
     "metadata": {},
     "execution_count": 10
    }
   ],
   "source": [
    "statistic"
   ]
  },
  {
   "cell_type": "code",
   "execution_count": 11,
   "metadata": {},
   "outputs": [
    {
     "output_type": "execute_result",
     "data": {
      "text/plain": "4"
     },
     "metadata": {},
     "execution_count": 11
    }
   ],
   "source": [
    "mask = results.columns.str.contains(statistic)\n",
    "import numpy\n",
    "position = int(numpy.argmax(mask))\n",
    "position"
   ]
  },
  {
   "cell_type": "code",
   "execution_count": 12,
   "metadata": {},
   "outputs": [
    {
     "output_type": "execute_result",
     "data": {
      "text/plain": "'Anzahl'"
     },
     "metadata": {},
     "execution_count": 12
    }
   ],
   "source": [
    "_meta_data['units'][statistic]"
   ]
  },
  {
   "cell_type": "code",
   "execution_count": 13,
   "metadata": {},
   "outputs": [],
   "source": [
    "results.insert(loc=position+1, column=f'{statistic}_unit', value=_meta_data['units'][statistic])"
   ]
  },
  {
   "cell_type": "code",
   "execution_count": 14,
   "metadata": {},
   "outputs": [
    {
     "output_type": "execute_result",
     "data": {
      "text/plain": "     id                name  year           TIEA05  Tiere (TIE003)  \\\n0    01  Schleswig-Holstein  2009   TIERART204141W          126776   \n1    01  Schleswig-Holstein  2009        AGRVART01         1166022   \n2    01  Schleswig-Holstein  2009    TIERART20412M          112161   \n3    01  Schleswig-Holstein  2009   TIERART204141M          106534   \n4    01  Schleswig-Holstein  2009  TIERART204141RM           46616   \n..   ..                 ...   ...              ...             ...   \n116  01  Schleswig-Holstein  2019        AGRVART11          376902   \n117  01  Schleswig-Holstein  2019   TIERART204141M           72270   \n118  01  Schleswig-Holstein  2019  TIERART204141RW           56989   \n119  01  Schleswig-Holstein  2019  TIERART204141RM           27685   \n120  01  Schleswig-Holstein  2019   TIERART204141W          118951   \n\n    TIE003_unit            TIE003_source_title_de TIE003_source_valid_from  \\\n0        Anzahl  Erhebung über die Rinderbestände      2000-05-03T00:00:00   \n1        Anzahl  Erhebung über die Rinderbestände      2000-05-03T00:00:00   \n2        Anzahl  Erhebung über die Rinderbestände      2000-05-03T00:00:00   \n3        Anzahl  Erhebung über die Rinderbestände      2000-05-03T00:00:00   \n4        Anzahl  Erhebung über die Rinderbestände      2000-05-03T00:00:00   \n..          ...                               ...                      ...   \n116      Anzahl  Erhebung über die Rinderbestände      2000-05-03T00:00:00   \n117      Anzahl  Erhebung über die Rinderbestände      2000-05-03T00:00:00   \n118      Anzahl  Erhebung über die Rinderbestände      2000-05-03T00:00:00   \n119      Anzahl  Erhebung über die Rinderbestände      2000-05-03T00:00:00   \n120      Anzahl  Erhebung über die Rinderbestände      2000-05-03T00:00:00   \n\n    TIE003_source_periodicity TIE003_source_name TIE003_source_url  \n0               HALBJAEHRLICH              41312              None  \n1               HALBJAEHRLICH              41312              None  \n2               HALBJAEHRLICH              41312              None  \n3               HALBJAEHRLICH              41312              None  \n4               HALBJAEHRLICH              41312              None  \n..                        ...                ...               ...  \n116             HALBJAEHRLICH              41312              None  \n117             HALBJAEHRLICH              41312              None  \n118             HALBJAEHRLICH              41312              None  \n119             HALBJAEHRLICH              41312              None  \n120             HALBJAEHRLICH              41312              None  \n\n[121 rows x 11 columns]",
      "text/html": "<div>\n<style scoped>\n    .dataframe tbody tr th:only-of-type {\n        vertical-align: middle;\n    }\n\n    .dataframe tbody tr th {\n        vertical-align: top;\n    }\n\n    .dataframe thead th {\n        text-align: right;\n    }\n</style>\n<table border=\"1\" class=\"dataframe\">\n  <thead>\n    <tr style=\"text-align: right;\">\n      <th></th>\n      <th>id</th>\n      <th>name</th>\n      <th>year</th>\n      <th>TIEA05</th>\n      <th>Tiere (TIE003)</th>\n      <th>TIE003_unit</th>\n      <th>TIE003_source_title_de</th>\n      <th>TIE003_source_valid_from</th>\n      <th>TIE003_source_periodicity</th>\n      <th>TIE003_source_name</th>\n      <th>TIE003_source_url</th>\n    </tr>\n  </thead>\n  <tbody>\n    <tr>\n      <th>0</th>\n      <td>01</td>\n      <td>Schleswig-Holstein</td>\n      <td>2009</td>\n      <td>TIERART204141W</td>\n      <td>126776</td>\n      <td>Anzahl</td>\n      <td>Erhebung über die Rinderbestände</td>\n      <td>2000-05-03T00:00:00</td>\n      <td>HALBJAEHRLICH</td>\n      <td>41312</td>\n      <td>None</td>\n    </tr>\n    <tr>\n      <th>1</th>\n      <td>01</td>\n      <td>Schleswig-Holstein</td>\n      <td>2009</td>\n      <td>AGRVART01</td>\n      <td>1166022</td>\n      <td>Anzahl</td>\n      <td>Erhebung über die Rinderbestände</td>\n      <td>2000-05-03T00:00:00</td>\n      <td>HALBJAEHRLICH</td>\n      <td>41312</td>\n      <td>None</td>\n    </tr>\n    <tr>\n      <th>2</th>\n      <td>01</td>\n      <td>Schleswig-Holstein</td>\n      <td>2009</td>\n      <td>TIERART20412M</td>\n      <td>112161</td>\n      <td>Anzahl</td>\n      <td>Erhebung über die Rinderbestände</td>\n      <td>2000-05-03T00:00:00</td>\n      <td>HALBJAEHRLICH</td>\n      <td>41312</td>\n      <td>None</td>\n    </tr>\n    <tr>\n      <th>3</th>\n      <td>01</td>\n      <td>Schleswig-Holstein</td>\n      <td>2009</td>\n      <td>TIERART204141M</td>\n      <td>106534</td>\n      <td>Anzahl</td>\n      <td>Erhebung über die Rinderbestände</td>\n      <td>2000-05-03T00:00:00</td>\n      <td>HALBJAEHRLICH</td>\n      <td>41312</td>\n      <td>None</td>\n    </tr>\n    <tr>\n      <th>4</th>\n      <td>01</td>\n      <td>Schleswig-Holstein</td>\n      <td>2009</td>\n      <td>TIERART204141RM</td>\n      <td>46616</td>\n      <td>Anzahl</td>\n      <td>Erhebung über die Rinderbestände</td>\n      <td>2000-05-03T00:00:00</td>\n      <td>HALBJAEHRLICH</td>\n      <td>41312</td>\n      <td>None</td>\n    </tr>\n    <tr>\n      <th>...</th>\n      <td>...</td>\n      <td>...</td>\n      <td>...</td>\n      <td>...</td>\n      <td>...</td>\n      <td>...</td>\n      <td>...</td>\n      <td>...</td>\n      <td>...</td>\n      <td>...</td>\n      <td>...</td>\n    </tr>\n    <tr>\n      <th>116</th>\n      <td>01</td>\n      <td>Schleswig-Holstein</td>\n      <td>2019</td>\n      <td>AGRVART11</td>\n      <td>376902</td>\n      <td>Anzahl</td>\n      <td>Erhebung über die Rinderbestände</td>\n      <td>2000-05-03T00:00:00</td>\n      <td>HALBJAEHRLICH</td>\n      <td>41312</td>\n      <td>None</td>\n    </tr>\n    <tr>\n      <th>117</th>\n      <td>01</td>\n      <td>Schleswig-Holstein</td>\n      <td>2019</td>\n      <td>TIERART204141M</td>\n      <td>72270</td>\n      <td>Anzahl</td>\n      <td>Erhebung über die Rinderbestände</td>\n      <td>2000-05-03T00:00:00</td>\n      <td>HALBJAEHRLICH</td>\n      <td>41312</td>\n      <td>None</td>\n    </tr>\n    <tr>\n      <th>118</th>\n      <td>01</td>\n      <td>Schleswig-Holstein</td>\n      <td>2019</td>\n      <td>TIERART204141RW</td>\n      <td>56989</td>\n      <td>Anzahl</td>\n      <td>Erhebung über die Rinderbestände</td>\n      <td>2000-05-03T00:00:00</td>\n      <td>HALBJAEHRLICH</td>\n      <td>41312</td>\n      <td>None</td>\n    </tr>\n    <tr>\n      <th>119</th>\n      <td>01</td>\n      <td>Schleswig-Holstein</td>\n      <td>2019</td>\n      <td>TIERART204141RM</td>\n      <td>27685</td>\n      <td>Anzahl</td>\n      <td>Erhebung über die Rinderbestände</td>\n      <td>2000-05-03T00:00:00</td>\n      <td>HALBJAEHRLICH</td>\n      <td>41312</td>\n      <td>None</td>\n    </tr>\n    <tr>\n      <th>120</th>\n      <td>01</td>\n      <td>Schleswig-Holstein</td>\n      <td>2019</td>\n      <td>TIERART204141W</td>\n      <td>118951</td>\n      <td>Anzahl</td>\n      <td>Erhebung über die Rinderbestände</td>\n      <td>2000-05-03T00:00:00</td>\n      <td>HALBJAEHRLICH</td>\n      <td>41312</td>\n      <td>None</td>\n    </tr>\n  </tbody>\n</table>\n<p>121 rows × 11 columns</p>\n</div>"
     },
     "metadata": {},
     "execution_count": 14
    }
   ],
   "source": [
    "results"
   ]
  },
  {
   "cell_type": "markdown",
   "metadata": {},
   "source": [
    "## Use `Query.results` method to add unit"
   ],
   "execution_count": null,
   "outputs": []
  },
  {
   "cell_type": "code",
   "execution_count": 15,
   "metadata": {},
   "outputs": [
    {
     "output_type": "stream",
     "text": "\u001b[1;31mSignature:\u001b[0m\n\u001b[0mq\u001b[0m\u001b[1;33m.\u001b[0m\u001b[0mresults\u001b[0m\u001b[1;33m(\u001b[0m\u001b[1;33m\n\u001b[0m    \u001b[0mverbose_statistics\u001b[0m\u001b[1;33m:\u001b[0m \u001b[0mbool\u001b[0m \u001b[1;33m=\u001b[0m \u001b[1;32mFalse\u001b[0m\u001b[1;33m,\u001b[0m\u001b[1;33m\n\u001b[0m    \u001b[0mverbose_enums\u001b[0m\u001b[1;33m:\u001b[0m \u001b[0mbool\u001b[0m \u001b[1;33m=\u001b[0m \u001b[1;32mFalse\u001b[0m\u001b[1;33m,\u001b[0m\u001b[1;33m\n\u001b[0m    \u001b[0madd_units\u001b[0m\u001b[1;33m:\u001b[0m \u001b[0mbool\u001b[0m \u001b[1;33m=\u001b[0m \u001b[1;32mFalse\u001b[0m\u001b[1;33m,\u001b[0m\u001b[1;33m\n\u001b[0m\u001b[1;33m)\u001b[0m \u001b[1;33m->\u001b[0m \u001b[0mpandas\u001b[0m\u001b[1;33m.\u001b[0m\u001b[0mcore\u001b[0m\u001b[1;33m.\u001b[0m\u001b[0mframe\u001b[0m\u001b[1;33m.\u001b[0m\u001b[0mDataFrame\u001b[0m\u001b[1;33m\u001b[0m\u001b[1;33m\u001b[0m\u001b[0m\n\u001b[1;31mDocstring:\u001b[0m\nRuns the query and returns a Pandas DataFrame with the results.\n   It also fills the instance variable result_meta_data with meta\n   data specific to the query instance.\n\nArguments:\n    verbose_statistics -- Toggles whether statistic column names\n    displayed with their short description in the result data frame\n    verbose_enums -- Toggles whether enum values are displayed\n    with their short description in the result data frame\n\n:raises RuntimeError: If the query fails raise RuntimeError.\n:return: A DataFrame with the queried data.\n:rtype: DataFrame\n\u001b[1;31mFile:\u001b[0m      c:\\users\\kzl465\\documents\\datenguide-python\\datenguidepy\\query_builder.py\n\u001b[1;31mType:\u001b[0m      method\n",
     "metadata": {},
     "execution_count": 15
    }
   ],
   "source": [
    "q.results?"
   ]
  },
  {
   "cell_type": "code",
   "execution_count": 16,
   "metadata": {},
   "outputs": [
    {
     "output_type": "execute_result",
     "data": {
      "text/plain": "     id                name  year  \\\n0    01  Schleswig-Holstein  2009   \n1    01  Schleswig-Holstein  2009   \n2    01  Schleswig-Holstein  2009   \n3    01  Schleswig-Holstein  2009   \n4    01  Schleswig-Holstein  2009   \n..   ..                 ...   ...   \n116  01  Schleswig-Holstein  2019   \n117  01  Schleswig-Holstein  2019   \n118  01  Schleswig-Holstein  2019   \n119  01  Schleswig-Holstein  2019   \n120  01  Schleswig-Holstein  2019   \n\n                                                TIEA05  Tiere (TIE003)  \\\n0               Weibliche Kälber bis einschl. 8 Monate          126776   \n1                                     Rinder insgesamt         1166022   \n2                Männliche Rinder 1 bis unter 2 Jahren          112161   \n3               Männliche Kälber bis einschl. 8 Monate          106534   \n4    Männl. Jungrinder m. als 8 Mon. b. einschl. 1 ...           46616   \n..                                                 ...             ...   \n116                                          Milchkühe          376902   \n117             Männliche Kälber bis einschl. 8 Monate           72270   \n118  Weibl. Jungrinder m. als 8 Mon. b. einschl. 1 ...           56989   \n119  Männl. Jungrinder m. als 8 Mon. b. einschl. 1 ...           27685   \n120             Weibliche Kälber bis einschl. 8 Monate          118951   \n\n    TIE003_unit            TIE003_source_title_de TIE003_source_valid_from  \\\n0        Anzahl  Erhebung über die Rinderbestände      2000-05-03T00:00:00   \n1        Anzahl  Erhebung über die Rinderbestände      2000-05-03T00:00:00   \n2        Anzahl  Erhebung über die Rinderbestände      2000-05-03T00:00:00   \n3        Anzahl  Erhebung über die Rinderbestände      2000-05-03T00:00:00   \n4        Anzahl  Erhebung über die Rinderbestände      2000-05-03T00:00:00   \n..          ...                               ...                      ...   \n116      Anzahl  Erhebung über die Rinderbestände      2000-05-03T00:00:00   \n117      Anzahl  Erhebung über die Rinderbestände      2000-05-03T00:00:00   \n118      Anzahl  Erhebung über die Rinderbestände      2000-05-03T00:00:00   \n119      Anzahl  Erhebung über die Rinderbestände      2000-05-03T00:00:00   \n120      Anzahl  Erhebung über die Rinderbestände      2000-05-03T00:00:00   \n\n    TIE003_source_periodicity TIE003_source_name TIE003_source_url  \n0               HALBJAEHRLICH              41312              None  \n1               HALBJAEHRLICH              41312              None  \n2               HALBJAEHRLICH              41312              None  \n3               HALBJAEHRLICH              41312              None  \n4               HALBJAEHRLICH              41312              None  \n..                        ...                ...               ...  \n116             HALBJAEHRLICH              41312              None  \n117             HALBJAEHRLICH              41312              None  \n118             HALBJAEHRLICH              41312              None  \n119             HALBJAEHRLICH              41312              None  \n120             HALBJAEHRLICH              41312              None  \n\n[121 rows x 11 columns]",
      "text/html": "<div>\n<style scoped>\n    .dataframe tbody tr th:only-of-type {\n        vertical-align: middle;\n    }\n\n    .dataframe tbody tr th {\n        vertical-align: top;\n    }\n\n    .dataframe thead th {\n        text-align: right;\n    }\n</style>\n<table border=\"1\" class=\"dataframe\">\n  <thead>\n    <tr style=\"text-align: right;\">\n      <th></th>\n      <th>id</th>\n      <th>name</th>\n      <th>year</th>\n      <th>TIEA05</th>\n      <th>Tiere (TIE003)</th>\n      <th>TIE003_unit</th>\n      <th>TIE003_source_title_de</th>\n      <th>TIE003_source_valid_from</th>\n      <th>TIE003_source_periodicity</th>\n      <th>TIE003_source_name</th>\n      <th>TIE003_source_url</th>\n    </tr>\n  </thead>\n  <tbody>\n    <tr>\n      <th>0</th>\n      <td>01</td>\n      <td>Schleswig-Holstein</td>\n      <td>2009</td>\n      <td>Weibliche Kälber bis einschl. 8 Monate</td>\n      <td>126776</td>\n      <td>Anzahl</td>\n      <td>Erhebung über die Rinderbestände</td>\n      <td>2000-05-03T00:00:00</td>\n      <td>HALBJAEHRLICH</td>\n      <td>41312</td>\n      <td>None</td>\n    </tr>\n    <tr>\n      <th>1</th>\n      <td>01</td>\n      <td>Schleswig-Holstein</td>\n      <td>2009</td>\n      <td>Rinder insgesamt</td>\n      <td>1166022</td>\n      <td>Anzahl</td>\n      <td>Erhebung über die Rinderbestände</td>\n      <td>2000-05-03T00:00:00</td>\n      <td>HALBJAEHRLICH</td>\n      <td>41312</td>\n      <td>None</td>\n    </tr>\n    <tr>\n      <th>2</th>\n      <td>01</td>\n      <td>Schleswig-Holstein</td>\n      <td>2009</td>\n      <td>Männliche Rinder 1 bis unter 2 Jahren</td>\n      <td>112161</td>\n      <td>Anzahl</td>\n      <td>Erhebung über die Rinderbestände</td>\n      <td>2000-05-03T00:00:00</td>\n      <td>HALBJAEHRLICH</td>\n      <td>41312</td>\n      <td>None</td>\n    </tr>\n    <tr>\n      <th>3</th>\n      <td>01</td>\n      <td>Schleswig-Holstein</td>\n      <td>2009</td>\n      <td>Männliche Kälber bis einschl. 8 Monate</td>\n      <td>106534</td>\n      <td>Anzahl</td>\n      <td>Erhebung über die Rinderbestände</td>\n      <td>2000-05-03T00:00:00</td>\n      <td>HALBJAEHRLICH</td>\n      <td>41312</td>\n      <td>None</td>\n    </tr>\n    <tr>\n      <th>4</th>\n      <td>01</td>\n      <td>Schleswig-Holstein</td>\n      <td>2009</td>\n      <td>Männl. Jungrinder m. als 8 Mon. b. einschl. 1 ...</td>\n      <td>46616</td>\n      <td>Anzahl</td>\n      <td>Erhebung über die Rinderbestände</td>\n      <td>2000-05-03T00:00:00</td>\n      <td>HALBJAEHRLICH</td>\n      <td>41312</td>\n      <td>None</td>\n    </tr>\n    <tr>\n      <th>...</th>\n      <td>...</td>\n      <td>...</td>\n      <td>...</td>\n      <td>...</td>\n      <td>...</td>\n      <td>...</td>\n      <td>...</td>\n      <td>...</td>\n      <td>...</td>\n      <td>...</td>\n      <td>...</td>\n    </tr>\n    <tr>\n      <th>116</th>\n      <td>01</td>\n      <td>Schleswig-Holstein</td>\n      <td>2019</td>\n      <td>Milchkühe</td>\n      <td>376902</td>\n      <td>Anzahl</td>\n      <td>Erhebung über die Rinderbestände</td>\n      <td>2000-05-03T00:00:00</td>\n      <td>HALBJAEHRLICH</td>\n      <td>41312</td>\n      <td>None</td>\n    </tr>\n    <tr>\n      <th>117</th>\n      <td>01</td>\n      <td>Schleswig-Holstein</td>\n      <td>2019</td>\n      <td>Männliche Kälber bis einschl. 8 Monate</td>\n      <td>72270</td>\n      <td>Anzahl</td>\n      <td>Erhebung über die Rinderbestände</td>\n      <td>2000-05-03T00:00:00</td>\n      <td>HALBJAEHRLICH</td>\n      <td>41312</td>\n      <td>None</td>\n    </tr>\n    <tr>\n      <th>118</th>\n      <td>01</td>\n      <td>Schleswig-Holstein</td>\n      <td>2019</td>\n      <td>Weibl. Jungrinder m. als 8 Mon. b. einschl. 1 ...</td>\n      <td>56989</td>\n      <td>Anzahl</td>\n      <td>Erhebung über die Rinderbestände</td>\n      <td>2000-05-03T00:00:00</td>\n      <td>HALBJAEHRLICH</td>\n      <td>41312</td>\n      <td>None</td>\n    </tr>\n    <tr>\n      <th>119</th>\n      <td>01</td>\n      <td>Schleswig-Holstein</td>\n      <td>2019</td>\n      <td>Männl. Jungrinder m. als 8 Mon. b. einschl. 1 ...</td>\n      <td>27685</td>\n      <td>Anzahl</td>\n      <td>Erhebung über die Rinderbestände</td>\n      <td>2000-05-03T00:00:00</td>\n      <td>HALBJAEHRLICH</td>\n      <td>41312</td>\n      <td>None</td>\n    </tr>\n    <tr>\n      <th>120</th>\n      <td>01</td>\n      <td>Schleswig-Holstein</td>\n      <td>2019</td>\n      <td>Weibliche Kälber bis einschl. 8 Monate</td>\n      <td>118951</td>\n      <td>Anzahl</td>\n      <td>Erhebung über die Rinderbestände</td>\n      <td>2000-05-03T00:00:00</td>\n      <td>HALBJAEHRLICH</td>\n      <td>41312</td>\n      <td>None</td>\n    </tr>\n  </tbody>\n</table>\n<p>121 rows × 11 columns</p>\n</div>"
     },
     "metadata": {},
     "execution_count": 16
    }
   ],
   "source": [
    "q.results(verbose_statistics=True, verbose_enums=True, add_units=True)"
   ]
  },
  {
   "cell_type": "markdown",
   "metadata": {},
   "source": [
    "## Two Statistics"
   ],
   "execution_count": null,
   "outputs": []
  },
  {
   "cell_type": "code",
   "execution_count": 17,
   "metadata": {},
   "outputs": [
    {
     "output_type": "execute_result",
     "data": {
      "text/plain": "   id                name  year  AI0203  AI0204  AI0205  AI0206  AI0207  \\\n0  01  Schleswig-Holstein  1995    18.6     7.9    31.1    26.4    16.0   \n1  01  Schleswig-Holstein  2000    19.1     7.2    30.2    26.7    16.8   \n2  01  Schleswig-Holstein  2005    18.6     7.3    28.3    26.0    19.8   \n3  01  Schleswig-Holstein  2006    18.3     7.4    27.7    26.1    20.4   \n4  01  Schleswig-Holstein  2007    18.0     7.6    27.2    26.4    20.8   \n\n   AI1902     AI0203_source_title_de  ...     AI0207_source_title_de  \\\n0     NaN  Regionalatlas Deutschland  ...  Regionalatlas Deutschland   \n1     NaN  Regionalatlas Deutschland  ...  Regionalatlas Deutschland   \n2   231.7  Regionalatlas Deutschland  ...  Regionalatlas Deutschland   \n3   230.9  Regionalatlas Deutschland  ...  Regionalatlas Deutschland   \n4   228.4  Regionalatlas Deutschland  ...  Regionalatlas Deutschland   \n\n  AI0207_source_valid_from AI0207_source_periodicity AI0207_source_name  \\\n0      1995-01-01T00:00:00                 JAEHRLICH              99910   \n1      1995-01-01T00:00:00                 JAEHRLICH              99910   \n2      1995-01-01T00:00:00                 JAEHRLICH              99910   \n3      1995-01-01T00:00:00                 JAEHRLICH              99910   \n4      1995-01-01T00:00:00                 JAEHRLICH              99910   \n\n  AI0207_source_url     AI1902_source_title_de AI1902_source_valid_from  \\\n0              None                        NaN                      NaN   \n1              None                        NaN                      NaN   \n2              None  Regionalatlas Deutschland      1995-01-01T00:00:00   \n3              None  Regionalatlas Deutschland      1995-01-01T00:00:00   \n4              None  Regionalatlas Deutschland      1995-01-01T00:00:00   \n\n  AI1902_source_periodicity AI1902_source_name AI1902_source_url  \n0                       NaN                NaN               NaN  \n1                       NaN                NaN               NaN  \n2                 JAEHRLICH              99910              None  \n3                 JAEHRLICH              99910              None  \n4                 JAEHRLICH              99910              None  \n\n[5 rows x 39 columns]",
      "text/html": "<div>\n<style scoped>\n    .dataframe tbody tr th:only-of-type {\n        vertical-align: middle;\n    }\n\n    .dataframe tbody tr th {\n        vertical-align: top;\n    }\n\n    .dataframe thead th {\n        text-align: right;\n    }\n</style>\n<table border=\"1\" class=\"dataframe\">\n  <thead>\n    <tr style=\"text-align: right;\">\n      <th></th>\n      <th>id</th>\n      <th>name</th>\n      <th>year</th>\n      <th>AI0203</th>\n      <th>AI0204</th>\n      <th>AI0205</th>\n      <th>AI0206</th>\n      <th>AI0207</th>\n      <th>AI1902</th>\n      <th>AI0203_source_title_de</th>\n      <th>...</th>\n      <th>AI0207_source_title_de</th>\n      <th>AI0207_source_valid_from</th>\n      <th>AI0207_source_periodicity</th>\n      <th>AI0207_source_name</th>\n      <th>AI0207_source_url</th>\n      <th>AI1902_source_title_de</th>\n      <th>AI1902_source_valid_from</th>\n      <th>AI1902_source_periodicity</th>\n      <th>AI1902_source_name</th>\n      <th>AI1902_source_url</th>\n    </tr>\n  </thead>\n  <tbody>\n    <tr>\n      <th>0</th>\n      <td>01</td>\n      <td>Schleswig-Holstein</td>\n      <td>1995</td>\n      <td>18.6</td>\n      <td>7.9</td>\n      <td>31.1</td>\n      <td>26.4</td>\n      <td>16.0</td>\n      <td>NaN</td>\n      <td>Regionalatlas Deutschland</td>\n      <td>...</td>\n      <td>Regionalatlas Deutschland</td>\n      <td>1995-01-01T00:00:00</td>\n      <td>JAEHRLICH</td>\n      <td>99910</td>\n      <td>None</td>\n      <td>NaN</td>\n      <td>NaN</td>\n      <td>NaN</td>\n      <td>NaN</td>\n      <td>NaN</td>\n    </tr>\n    <tr>\n      <th>1</th>\n      <td>01</td>\n      <td>Schleswig-Holstein</td>\n      <td>2000</td>\n      <td>19.1</td>\n      <td>7.2</td>\n      <td>30.2</td>\n      <td>26.7</td>\n      <td>16.8</td>\n      <td>NaN</td>\n      <td>Regionalatlas Deutschland</td>\n      <td>...</td>\n      <td>Regionalatlas Deutschland</td>\n      <td>1995-01-01T00:00:00</td>\n      <td>JAEHRLICH</td>\n      <td>99910</td>\n      <td>None</td>\n      <td>NaN</td>\n      <td>NaN</td>\n      <td>NaN</td>\n      <td>NaN</td>\n      <td>NaN</td>\n    </tr>\n    <tr>\n      <th>2</th>\n      <td>01</td>\n      <td>Schleswig-Holstein</td>\n      <td>2005</td>\n      <td>18.6</td>\n      <td>7.3</td>\n      <td>28.3</td>\n      <td>26.0</td>\n      <td>19.8</td>\n      <td>231.7</td>\n      <td>Regionalatlas Deutschland</td>\n      <td>...</td>\n      <td>Regionalatlas Deutschland</td>\n      <td>1995-01-01T00:00:00</td>\n      <td>JAEHRLICH</td>\n      <td>99910</td>\n      <td>None</td>\n      <td>Regionalatlas Deutschland</td>\n      <td>1995-01-01T00:00:00</td>\n      <td>JAEHRLICH</td>\n      <td>99910</td>\n      <td>None</td>\n    </tr>\n    <tr>\n      <th>3</th>\n      <td>01</td>\n      <td>Schleswig-Holstein</td>\n      <td>2006</td>\n      <td>18.3</td>\n      <td>7.4</td>\n      <td>27.7</td>\n      <td>26.1</td>\n      <td>20.4</td>\n      <td>230.9</td>\n      <td>Regionalatlas Deutschland</td>\n      <td>...</td>\n      <td>Regionalatlas Deutschland</td>\n      <td>1995-01-01T00:00:00</td>\n      <td>JAEHRLICH</td>\n      <td>99910</td>\n      <td>None</td>\n      <td>Regionalatlas Deutschland</td>\n      <td>1995-01-01T00:00:00</td>\n      <td>JAEHRLICH</td>\n      <td>99910</td>\n      <td>None</td>\n    </tr>\n    <tr>\n      <th>4</th>\n      <td>01</td>\n      <td>Schleswig-Holstein</td>\n      <td>2007</td>\n      <td>18.0</td>\n      <td>7.6</td>\n      <td>27.2</td>\n      <td>26.4</td>\n      <td>20.8</td>\n      <td>228.4</td>\n      <td>Regionalatlas Deutschland</td>\n      <td>...</td>\n      <td>Regionalatlas Deutschland</td>\n      <td>1995-01-01T00:00:00</td>\n      <td>JAEHRLICH</td>\n      <td>99910</td>\n      <td>None</td>\n      <td>Regionalatlas Deutschland</td>\n      <td>1995-01-01T00:00:00</td>\n      <td>JAEHRLICH</td>\n      <td>99910</td>\n      <td>None</td>\n    </tr>\n  </tbody>\n</table>\n<p>5 rows × 39 columns</p>\n</div>"
     },
     "metadata": {},
     "execution_count": 17
    }
   ],
   "source": [
    "q = Query.region(\"01\")\n",
    "q.add_field('AI0203')\n",
    "q.add_field('AI0204')\n",
    "q.add_field('AI0205')\n",
    "q.add_field('AI0206')\n",
    "q.add_field('AI0207')\n",
    "q.add_field('AI1902')\n",
    "result = q.results()\n",
    "result.head()"
   ]
  },
  {
   "cell_type": "code",
   "execution_count": 18,
   "metadata": {},
   "outputs": [
    {
     "output_type": "execute_result",
     "data": {
      "text/plain": "{'statistics': {'AI0203': 'Bevölkerung 0 bis 17 Jahre',\n  'AI0204': 'Bevölkerung 18 bis 24 Jahre',\n  'AI0205': 'Bevölkerung 25 bis 44 Jahre',\n  'AI0206': 'Bevölkerung 45 bis 64 Jahre',\n  'AI0207': 'Bevölkerung 65 Jahre und älter',\n  'AI1902': 'Haus- und Sperrmüll'},\n 'enums': {},\n 'units': {'AI0203': 'Prozent',\n  'AI0204': 'Prozent',\n  'AI0205': 'Prozent',\n  'AI0206': 'Prozent',\n  'AI0207': 'Prozent',\n  'AI1902': 'kg'}}"
     },
     "metadata": {},
     "execution_count": 18
    }
   ],
   "source": [
    "meta = q.meta_data()\n",
    "meta"
   ]
  },
  {
   "cell_type": "markdown",
   "metadata": {},
   "source": [
    "## Adding units to each statistic\n",
    "\n",
    "For each statistic, a new unit column is added, using the pattern `<statistic>_unit`. This allows to easily append the suffix `_unit` to an entry of `<stastic>`used for retrieving the data. This programtically easier than to rename the statistic column and include a name, e.g. `<statistic> [in <unit>]`. Both options could be provided."
   ],
   "execution_count": null,
   "outputs": []
  },
  {
   "cell_type": "code",
   "execution_count": 19,
   "metadata": {},
   "outputs": [],
   "source": [
    "df = result.copy()"
   ]
  },
  {
   "cell_type": "code",
   "execution_count": 20,
   "metadata": {},
   "outputs": [
    {
     "output_type": "stream",
     "name": "stdout",
     "text": "Statistic: AI0203, unit: Prozent\nStatistic: AI0204, unit: Prozent\nStatistic: AI0205, unit: Prozent\nStatistic: AI0206, unit: Prozent\nStatistic: AI0207, unit: Prozent\nStatistic: AI1902, unit: kg\n"
    },
    {
     "output_type": "execute_result",
     "data": {
      "text/plain": "    id                name  year  AI0203 AI0203_unit  AI0204 AI0204_unit  \\\n0   01  Schleswig-Holstein  1995    18.6     Prozent     7.9     Prozent   \n1   01  Schleswig-Holstein  2000    19.1     Prozent     7.2     Prozent   \n2   01  Schleswig-Holstein  2005    18.6     Prozent     7.3     Prozent   \n3   01  Schleswig-Holstein  2006    18.3     Prozent     7.4     Prozent   \n4   01  Schleswig-Holstein  2007    18.0     Prozent     7.6     Prozent   \n5   01  Schleswig-Holstein  2008    17.7     Prozent     7.7     Prozent   \n6   01  Schleswig-Holstein  2009    17.4     Prozent     7.8     Prozent   \n7   01  Schleswig-Holstein  2010    17.2     Prozent     7.9     Prozent   \n8   01  Schleswig-Holstein  2011    17.0     Prozent     7.7     Prozent   \n9   01  Schleswig-Holstein  2012    16.7     Prozent     7.7     Prozent   \n10  01  Schleswig-Holstein  2013    16.6     Prozent     7.7     Prozent   \n11  01  Schleswig-Holstein  2014    16.4     Prozent     7.7     Prozent   \n12  01  Schleswig-Holstein  2015    16.3     Prozent     7.7     Prozent   \n13  01  Schleswig-Holstein  2016    16.4     Prozent     7.7     Prozent   \n14  01  Schleswig-Holstein  2017    16.3     Prozent     7.7     Prozent   \n\n    AI0205 AI0205_unit  AI0206 AI0206_unit  AI0207 AI0207_unit  AI1902  \\\n0     31.1     Prozent    26.4     Prozent    16.0     Prozent     NaN   \n1     30.2     Prozent    26.7     Prozent    16.8     Prozent     NaN   \n2     28.3     Prozent    26.0     Prozent    19.8     Prozent   231.7   \n3     27.7     Prozent    26.1     Prozent    20.4     Prozent   230.9   \n4     27.2     Prozent    26.4     Prozent    20.8     Prozent   228.4   \n5     26.5     Prozent    26.8     Prozent    21.3     Prozent   224.8   \n6     25.8     Prozent    27.3     Prozent    21.6     Prozent   226.7   \n7     25.2     Prozent    28.2     Prozent    21.6     Prozent   223.4   \n8     24.1     Prozent    29.3     Prozent    21.9     Prozent   233.6   \n9     23.5     Prozent    29.9     Prozent    22.1     Prozent   229.9   \n10    23.1     Prozent    30.3     Prozent    22.3     Prozent   223.6   \n11    22.8     Prozent    30.6     Prozent    22.6     Prozent   234.1   \n12    22.8     Prozent    30.6     Prozent    22.6     Prozent   230.5   \n13    22.6     Prozent    30.5     Prozent    22.7     Prozent   229.1   \n14    22.6     Prozent    30.5     Prozent    22.9     Prozent   227.9   \n\n   AI1902_unit     AI0203_source_title_de  \n0           kg  Regionalatlas Deutschland  \n1           kg  Regionalatlas Deutschland  \n2           kg  Regionalatlas Deutschland  \n3           kg  Regionalatlas Deutschland  \n4           kg  Regionalatlas Deutschland  \n5           kg  Regionalatlas Deutschland  \n6           kg  Regionalatlas Deutschland  \n7           kg  Regionalatlas Deutschland  \n8           kg  Regionalatlas Deutschland  \n9           kg  Regionalatlas Deutschland  \n10          kg  Regionalatlas Deutschland  \n11          kg  Regionalatlas Deutschland  \n12          kg  Regionalatlas Deutschland  \n13          kg  Regionalatlas Deutschland  \n14          kg  Regionalatlas Deutschland  ",
      "text/html": "<div>\n<style scoped>\n    .dataframe tbody tr th:only-of-type {\n        vertical-align: middle;\n    }\n\n    .dataframe tbody tr th {\n        vertical-align: top;\n    }\n\n    .dataframe thead th {\n        text-align: right;\n    }\n</style>\n<table border=\"1\" class=\"dataframe\">\n  <thead>\n    <tr style=\"text-align: right;\">\n      <th></th>\n      <th>id</th>\n      <th>name</th>\n      <th>year</th>\n      <th>AI0203</th>\n      <th>AI0203_unit</th>\n      <th>AI0204</th>\n      <th>AI0204_unit</th>\n      <th>AI0205</th>\n      <th>AI0205_unit</th>\n      <th>AI0206</th>\n      <th>AI0206_unit</th>\n      <th>AI0207</th>\n      <th>AI0207_unit</th>\n      <th>AI1902</th>\n      <th>AI1902_unit</th>\n      <th>AI0203_source_title_de</th>\n    </tr>\n  </thead>\n  <tbody>\n    <tr>\n      <th>0</th>\n      <td>01</td>\n      <td>Schleswig-Holstein</td>\n      <td>1995</td>\n      <td>18.6</td>\n      <td>Prozent</td>\n      <td>7.9</td>\n      <td>Prozent</td>\n      <td>31.1</td>\n      <td>Prozent</td>\n      <td>26.4</td>\n      <td>Prozent</td>\n      <td>16.0</td>\n      <td>Prozent</td>\n      <td>NaN</td>\n      <td>kg</td>\n      <td>Regionalatlas Deutschland</td>\n    </tr>\n    <tr>\n      <th>1</th>\n      <td>01</td>\n      <td>Schleswig-Holstein</td>\n      <td>2000</td>\n      <td>19.1</td>\n      <td>Prozent</td>\n      <td>7.2</td>\n      <td>Prozent</td>\n      <td>30.2</td>\n      <td>Prozent</td>\n      <td>26.7</td>\n      <td>Prozent</td>\n      <td>16.8</td>\n      <td>Prozent</td>\n      <td>NaN</td>\n      <td>kg</td>\n      <td>Regionalatlas Deutschland</td>\n    </tr>\n    <tr>\n      <th>2</th>\n      <td>01</td>\n      <td>Schleswig-Holstein</td>\n      <td>2005</td>\n      <td>18.6</td>\n      <td>Prozent</td>\n      <td>7.3</td>\n      <td>Prozent</td>\n      <td>28.3</td>\n      <td>Prozent</td>\n      <td>26.0</td>\n      <td>Prozent</td>\n      <td>19.8</td>\n      <td>Prozent</td>\n      <td>231.7</td>\n      <td>kg</td>\n      <td>Regionalatlas Deutschland</td>\n    </tr>\n    <tr>\n      <th>3</th>\n      <td>01</td>\n      <td>Schleswig-Holstein</td>\n      <td>2006</td>\n      <td>18.3</td>\n      <td>Prozent</td>\n      <td>7.4</td>\n      <td>Prozent</td>\n      <td>27.7</td>\n      <td>Prozent</td>\n      <td>26.1</td>\n      <td>Prozent</td>\n      <td>20.4</td>\n      <td>Prozent</td>\n      <td>230.9</td>\n      <td>kg</td>\n      <td>Regionalatlas Deutschland</td>\n    </tr>\n    <tr>\n      <th>4</th>\n      <td>01</td>\n      <td>Schleswig-Holstein</td>\n      <td>2007</td>\n      <td>18.0</td>\n      <td>Prozent</td>\n      <td>7.6</td>\n      <td>Prozent</td>\n      <td>27.2</td>\n      <td>Prozent</td>\n      <td>26.4</td>\n      <td>Prozent</td>\n      <td>20.8</td>\n      <td>Prozent</td>\n      <td>228.4</td>\n      <td>kg</td>\n      <td>Regionalatlas Deutschland</td>\n    </tr>\n    <tr>\n      <th>5</th>\n      <td>01</td>\n      <td>Schleswig-Holstein</td>\n      <td>2008</td>\n      <td>17.7</td>\n      <td>Prozent</td>\n      <td>7.7</td>\n      <td>Prozent</td>\n      <td>26.5</td>\n      <td>Prozent</td>\n      <td>26.8</td>\n      <td>Prozent</td>\n      <td>21.3</td>\n      <td>Prozent</td>\n      <td>224.8</td>\n      <td>kg</td>\n      <td>Regionalatlas Deutschland</td>\n    </tr>\n    <tr>\n      <th>6</th>\n      <td>01</td>\n      <td>Schleswig-Holstein</td>\n      <td>2009</td>\n      <td>17.4</td>\n      <td>Prozent</td>\n      <td>7.8</td>\n      <td>Prozent</td>\n      <td>25.8</td>\n      <td>Prozent</td>\n      <td>27.3</td>\n      <td>Prozent</td>\n      <td>21.6</td>\n      <td>Prozent</td>\n      <td>226.7</td>\n      <td>kg</td>\n      <td>Regionalatlas Deutschland</td>\n    </tr>\n    <tr>\n      <th>7</th>\n      <td>01</td>\n      <td>Schleswig-Holstein</td>\n      <td>2010</td>\n      <td>17.2</td>\n      <td>Prozent</td>\n      <td>7.9</td>\n      <td>Prozent</td>\n      <td>25.2</td>\n      <td>Prozent</td>\n      <td>28.2</td>\n      <td>Prozent</td>\n      <td>21.6</td>\n      <td>Prozent</td>\n      <td>223.4</td>\n      <td>kg</td>\n      <td>Regionalatlas Deutschland</td>\n    </tr>\n    <tr>\n      <th>8</th>\n      <td>01</td>\n      <td>Schleswig-Holstein</td>\n      <td>2011</td>\n      <td>17.0</td>\n      <td>Prozent</td>\n      <td>7.7</td>\n      <td>Prozent</td>\n      <td>24.1</td>\n      <td>Prozent</td>\n      <td>29.3</td>\n      <td>Prozent</td>\n      <td>21.9</td>\n      <td>Prozent</td>\n      <td>233.6</td>\n      <td>kg</td>\n      <td>Regionalatlas Deutschland</td>\n    </tr>\n    <tr>\n      <th>9</th>\n      <td>01</td>\n      <td>Schleswig-Holstein</td>\n      <td>2012</td>\n      <td>16.7</td>\n      <td>Prozent</td>\n      <td>7.7</td>\n      <td>Prozent</td>\n      <td>23.5</td>\n      <td>Prozent</td>\n      <td>29.9</td>\n      <td>Prozent</td>\n      <td>22.1</td>\n      <td>Prozent</td>\n      <td>229.9</td>\n      <td>kg</td>\n      <td>Regionalatlas Deutschland</td>\n    </tr>\n    <tr>\n      <th>10</th>\n      <td>01</td>\n      <td>Schleswig-Holstein</td>\n      <td>2013</td>\n      <td>16.6</td>\n      <td>Prozent</td>\n      <td>7.7</td>\n      <td>Prozent</td>\n      <td>23.1</td>\n      <td>Prozent</td>\n      <td>30.3</td>\n      <td>Prozent</td>\n      <td>22.3</td>\n      <td>Prozent</td>\n      <td>223.6</td>\n      <td>kg</td>\n      <td>Regionalatlas Deutschland</td>\n    </tr>\n    <tr>\n      <th>11</th>\n      <td>01</td>\n      <td>Schleswig-Holstein</td>\n      <td>2014</td>\n      <td>16.4</td>\n      <td>Prozent</td>\n      <td>7.7</td>\n      <td>Prozent</td>\n      <td>22.8</td>\n      <td>Prozent</td>\n      <td>30.6</td>\n      <td>Prozent</td>\n      <td>22.6</td>\n      <td>Prozent</td>\n      <td>234.1</td>\n      <td>kg</td>\n      <td>Regionalatlas Deutschland</td>\n    </tr>\n    <tr>\n      <th>12</th>\n      <td>01</td>\n      <td>Schleswig-Holstein</td>\n      <td>2015</td>\n      <td>16.3</td>\n      <td>Prozent</td>\n      <td>7.7</td>\n      <td>Prozent</td>\n      <td>22.8</td>\n      <td>Prozent</td>\n      <td>30.6</td>\n      <td>Prozent</td>\n      <td>22.6</td>\n      <td>Prozent</td>\n      <td>230.5</td>\n      <td>kg</td>\n      <td>Regionalatlas Deutschland</td>\n    </tr>\n    <tr>\n      <th>13</th>\n      <td>01</td>\n      <td>Schleswig-Holstein</td>\n      <td>2016</td>\n      <td>16.4</td>\n      <td>Prozent</td>\n      <td>7.7</td>\n      <td>Prozent</td>\n      <td>22.6</td>\n      <td>Prozent</td>\n      <td>30.5</td>\n      <td>Prozent</td>\n      <td>22.7</td>\n      <td>Prozent</td>\n      <td>229.1</td>\n      <td>kg</td>\n      <td>Regionalatlas Deutschland</td>\n    </tr>\n    <tr>\n      <th>14</th>\n      <td>01</td>\n      <td>Schleswig-Holstein</td>\n      <td>2017</td>\n      <td>16.3</td>\n      <td>Prozent</td>\n      <td>7.7</td>\n      <td>Prozent</td>\n      <td>22.6</td>\n      <td>Prozent</td>\n      <td>30.5</td>\n      <td>Prozent</td>\n      <td>22.9</td>\n      <td>Prozent</td>\n      <td>227.9</td>\n      <td>kg</td>\n      <td>Regionalatlas Deutschland</td>\n    </tr>\n  </tbody>\n</table>\n</div>"
     },
     "metadata": {},
     "execution_count": 20
    }
   ],
   "source": [
    "import numpy\n",
    "\n",
    "results = df.copy()\n",
    "def add_unit(statistic, unit):\n",
    "    \"\"\"uses results dataframe and unit from global namespace. Add to class?\"\"\"\n",
    "    mask = results.columns.str.contains(statistic)\n",
    "    position = int(numpy.argmax(mask))\n",
    "    results.insert(loc=position+1, column=f'{statistic}_unit', value=unit)\n",
    "\n",
    "for statistic, unit in meta['units'].items():\n",
    "    print(f\"Statistic: {statistic}, unit: {unit}\")\n",
    "    add_unit(statistic, unit)\n",
    "  \n",
    "results.iloc[:,:16]    "
   ]
  },
  {
   "cell_type": "code",
   "execution_count": 21,
   "metadata": {},
   "outputs": [
    {
     "output_type": "execute_result",
     "data": {
      "text/plain": "    id                name  year  Bevölkerung 0 bis 17 Jahre (AI0203)  \\\n0   01  Schleswig-Holstein  1995                                 18.6   \n1   01  Schleswig-Holstein  2000                                 19.1   \n2   01  Schleswig-Holstein  2005                                 18.6   \n3   01  Schleswig-Holstein  2006                                 18.3   \n4   01  Schleswig-Holstein  2007                                 18.0   \n5   01  Schleswig-Holstein  2008                                 17.7   \n6   01  Schleswig-Holstein  2009                                 17.4   \n7   01  Schleswig-Holstein  2010                                 17.2   \n8   01  Schleswig-Holstein  2011                                 17.0   \n9   01  Schleswig-Holstein  2012                                 16.7   \n10  01  Schleswig-Holstein  2013                                 16.6   \n11  01  Schleswig-Holstein  2014                                 16.4   \n12  01  Schleswig-Holstein  2015                                 16.3   \n13  01  Schleswig-Holstein  2016                                 16.4   \n14  01  Schleswig-Holstein  2017                                 16.3   \n\n   AI0203_unit  Bevölkerung 18 bis 24 Jahre (AI0204) AI0204_unit  \\\n0      Prozent                                   7.9     Prozent   \n1      Prozent                                   7.2     Prozent   \n2      Prozent                                   7.3     Prozent   \n3      Prozent                                   7.4     Prozent   \n4      Prozent                                   7.6     Prozent   \n5      Prozent                                   7.7     Prozent   \n6      Prozent                                   7.8     Prozent   \n7      Prozent                                   7.9     Prozent   \n8      Prozent                                   7.7     Prozent   \n9      Prozent                                   7.7     Prozent   \n10     Prozent                                   7.7     Prozent   \n11     Prozent                                   7.7     Prozent   \n12     Prozent                                   7.7     Prozent   \n13     Prozent                                   7.7     Prozent   \n14     Prozent                                   7.7     Prozent   \n\n    Bevölkerung 25 bis 44 Jahre (AI0205) AI0205_unit  \\\n0                                   31.1     Prozent   \n1                                   30.2     Prozent   \n2                                   28.3     Prozent   \n3                                   27.7     Prozent   \n4                                   27.2     Prozent   \n5                                   26.5     Prozent   \n6                                   25.8     Prozent   \n7                                   25.2     Prozent   \n8                                   24.1     Prozent   \n9                                   23.5     Prozent   \n10                                  23.1     Prozent   \n11                                  22.8     Prozent   \n12                                  22.8     Prozent   \n13                                  22.6     Prozent   \n14                                  22.6     Prozent   \n\n    Bevölkerung 45 bis 64 Jahre (AI0206)  ...     AI0207_source_title_de  \\\n0                                   26.4  ...  Regionalatlas Deutschland   \n1                                   26.7  ...  Regionalatlas Deutschland   \n2                                   26.0  ...  Regionalatlas Deutschland   \n3                                   26.1  ...  Regionalatlas Deutschland   \n4                                   26.4  ...  Regionalatlas Deutschland   \n5                                   26.8  ...  Regionalatlas Deutschland   \n6                                   27.3  ...  Regionalatlas Deutschland   \n7                                   28.2  ...  Regionalatlas Deutschland   \n8                                   29.3  ...  Regionalatlas Deutschland   \n9                                   29.9  ...  Regionalatlas Deutschland   \n10                                  30.3  ...  Regionalatlas Deutschland   \n11                                  30.6  ...  Regionalatlas Deutschland   \n12                                  30.6  ...  Regionalatlas Deutschland   \n13                                  30.5  ...  Regionalatlas Deutschland   \n14                                  30.5  ...  Regionalatlas Deutschland   \n\n    AI0207_source_valid_from AI0207_source_periodicity  AI0207_source_name  \\\n0        1995-01-01T00:00:00                 JAEHRLICH               99910   \n1        1995-01-01T00:00:00                 JAEHRLICH               99910   \n2        1995-01-01T00:00:00                 JAEHRLICH               99910   \n3        1995-01-01T00:00:00                 JAEHRLICH               99910   \n4        1995-01-01T00:00:00                 JAEHRLICH               99910   \n5        1995-01-01T00:00:00                 JAEHRLICH               99910   \n6        1995-01-01T00:00:00                 JAEHRLICH               99910   \n7        1995-01-01T00:00:00                 JAEHRLICH               99910   \n8        1995-01-01T00:00:00                 JAEHRLICH               99910   \n9        1995-01-01T00:00:00                 JAEHRLICH               99910   \n10       1995-01-01T00:00:00                 JAEHRLICH               99910   \n11       1995-01-01T00:00:00                 JAEHRLICH               99910   \n12       1995-01-01T00:00:00                 JAEHRLICH               99910   \n13       1995-01-01T00:00:00                 JAEHRLICH               99910   \n14       1995-01-01T00:00:00                 JAEHRLICH               99910   \n\n   AI0207_source_url     AI1902_source_title_de AI1902_source_valid_from  \\\n0               None                        NaN                      NaN   \n1               None                        NaN                      NaN   \n2               None  Regionalatlas Deutschland      1995-01-01T00:00:00   \n3               None  Regionalatlas Deutschland      1995-01-01T00:00:00   \n4               None  Regionalatlas Deutschland      1995-01-01T00:00:00   \n5               None  Regionalatlas Deutschland      1995-01-01T00:00:00   \n6               None  Regionalatlas Deutschland      1995-01-01T00:00:00   \n7               None  Regionalatlas Deutschland      1995-01-01T00:00:00   \n8               None  Regionalatlas Deutschland      1995-01-01T00:00:00   \n9               None  Regionalatlas Deutschland      1995-01-01T00:00:00   \n10              None  Regionalatlas Deutschland      1995-01-01T00:00:00   \n11              None  Regionalatlas Deutschland      1995-01-01T00:00:00   \n12              None  Regionalatlas Deutschland      1995-01-01T00:00:00   \n13              None  Regionalatlas Deutschland      1995-01-01T00:00:00   \n14              None  Regionalatlas Deutschland      1995-01-01T00:00:00   \n\n   AI1902_source_periodicity AI1902_source_name AI1902_source_url  \n0                        NaN                NaN               NaN  \n1                        NaN                NaN               NaN  \n2                  JAEHRLICH              99910              None  \n3                  JAEHRLICH              99910              None  \n4                  JAEHRLICH              99910              None  \n5                  JAEHRLICH              99910              None  \n6                  JAEHRLICH              99910              None  \n7                  JAEHRLICH              99910              None  \n8                  JAEHRLICH              99910              None  \n9                  JAEHRLICH              99910              None  \n10                 JAEHRLICH              99910              None  \n11                 JAEHRLICH              99910              None  \n12                 JAEHRLICH              99910              None  \n13                 JAEHRLICH              99910              None  \n14                 JAEHRLICH              99910              None  \n\n[15 rows x 45 columns]",
      "text/html": "<div>\n<style scoped>\n    .dataframe tbody tr th:only-of-type {\n        vertical-align: middle;\n    }\n\n    .dataframe tbody tr th {\n        vertical-align: top;\n    }\n\n    .dataframe thead th {\n        text-align: right;\n    }\n</style>\n<table border=\"1\" class=\"dataframe\">\n  <thead>\n    <tr style=\"text-align: right;\">\n      <th></th>\n      <th>id</th>\n      <th>name</th>\n      <th>year</th>\n      <th>Bevölkerung 0 bis 17 Jahre (AI0203)</th>\n      <th>AI0203_unit</th>\n      <th>Bevölkerung 18 bis 24 Jahre (AI0204)</th>\n      <th>AI0204_unit</th>\n      <th>Bevölkerung 25 bis 44 Jahre (AI0205)</th>\n      <th>AI0205_unit</th>\n      <th>Bevölkerung 45 bis 64 Jahre (AI0206)</th>\n      <th>...</th>\n      <th>AI0207_source_title_de</th>\n      <th>AI0207_source_valid_from</th>\n      <th>AI0207_source_periodicity</th>\n      <th>AI0207_source_name</th>\n      <th>AI0207_source_url</th>\n      <th>AI1902_source_title_de</th>\n      <th>AI1902_source_valid_from</th>\n      <th>AI1902_source_periodicity</th>\n      <th>AI1902_source_name</th>\n      <th>AI1902_source_url</th>\n    </tr>\n  </thead>\n  <tbody>\n    <tr>\n      <th>0</th>\n      <td>01</td>\n      <td>Schleswig-Holstein</td>\n      <td>1995</td>\n      <td>18.6</td>\n      <td>Prozent</td>\n      <td>7.9</td>\n      <td>Prozent</td>\n      <td>31.1</td>\n      <td>Prozent</td>\n      <td>26.4</td>\n      <td>...</td>\n      <td>Regionalatlas Deutschland</td>\n      <td>1995-01-01T00:00:00</td>\n      <td>JAEHRLICH</td>\n      <td>99910</td>\n      <td>None</td>\n      <td>NaN</td>\n      <td>NaN</td>\n      <td>NaN</td>\n      <td>NaN</td>\n      <td>NaN</td>\n    </tr>\n    <tr>\n      <th>1</th>\n      <td>01</td>\n      <td>Schleswig-Holstein</td>\n      <td>2000</td>\n      <td>19.1</td>\n      <td>Prozent</td>\n      <td>7.2</td>\n      <td>Prozent</td>\n      <td>30.2</td>\n      <td>Prozent</td>\n      <td>26.7</td>\n      <td>...</td>\n      <td>Regionalatlas Deutschland</td>\n      <td>1995-01-01T00:00:00</td>\n      <td>JAEHRLICH</td>\n      <td>99910</td>\n      <td>None</td>\n      <td>NaN</td>\n      <td>NaN</td>\n      <td>NaN</td>\n      <td>NaN</td>\n      <td>NaN</td>\n    </tr>\n    <tr>\n      <th>2</th>\n      <td>01</td>\n      <td>Schleswig-Holstein</td>\n      <td>2005</td>\n      <td>18.6</td>\n      <td>Prozent</td>\n      <td>7.3</td>\n      <td>Prozent</td>\n      <td>28.3</td>\n      <td>Prozent</td>\n      <td>26.0</td>\n      <td>...</td>\n      <td>Regionalatlas Deutschland</td>\n      <td>1995-01-01T00:00:00</td>\n      <td>JAEHRLICH</td>\n      <td>99910</td>\n      <td>None</td>\n      <td>Regionalatlas Deutschland</td>\n      <td>1995-01-01T00:00:00</td>\n      <td>JAEHRLICH</td>\n      <td>99910</td>\n      <td>None</td>\n    </tr>\n    <tr>\n      <th>3</th>\n      <td>01</td>\n      <td>Schleswig-Holstein</td>\n      <td>2006</td>\n      <td>18.3</td>\n      <td>Prozent</td>\n      <td>7.4</td>\n      <td>Prozent</td>\n      <td>27.7</td>\n      <td>Prozent</td>\n      <td>26.1</td>\n      <td>...</td>\n      <td>Regionalatlas Deutschland</td>\n      <td>1995-01-01T00:00:00</td>\n      <td>JAEHRLICH</td>\n      <td>99910</td>\n      <td>None</td>\n      <td>Regionalatlas Deutschland</td>\n      <td>1995-01-01T00:00:00</td>\n      <td>JAEHRLICH</td>\n      <td>99910</td>\n      <td>None</td>\n    </tr>\n    <tr>\n      <th>4</th>\n      <td>01</td>\n      <td>Schleswig-Holstein</td>\n      <td>2007</td>\n      <td>18.0</td>\n      <td>Prozent</td>\n      <td>7.6</td>\n      <td>Prozent</td>\n      <td>27.2</td>\n      <td>Prozent</td>\n      <td>26.4</td>\n      <td>...</td>\n      <td>Regionalatlas Deutschland</td>\n      <td>1995-01-01T00:00:00</td>\n      <td>JAEHRLICH</td>\n      <td>99910</td>\n      <td>None</td>\n      <td>Regionalatlas Deutschland</td>\n      <td>1995-01-01T00:00:00</td>\n      <td>JAEHRLICH</td>\n      <td>99910</td>\n      <td>None</td>\n    </tr>\n    <tr>\n      <th>5</th>\n      <td>01</td>\n      <td>Schleswig-Holstein</td>\n      <td>2008</td>\n      <td>17.7</td>\n      <td>Prozent</td>\n      <td>7.7</td>\n      <td>Prozent</td>\n      <td>26.5</td>\n      <td>Prozent</td>\n      <td>26.8</td>\n      <td>...</td>\n      <td>Regionalatlas Deutschland</td>\n      <td>1995-01-01T00:00:00</td>\n      <td>JAEHRLICH</td>\n      <td>99910</td>\n      <td>None</td>\n      <td>Regionalatlas Deutschland</td>\n      <td>1995-01-01T00:00:00</td>\n      <td>JAEHRLICH</td>\n      <td>99910</td>\n      <td>None</td>\n    </tr>\n    <tr>\n      <th>6</th>\n      <td>01</td>\n      <td>Schleswig-Holstein</td>\n      <td>2009</td>\n      <td>17.4</td>\n      <td>Prozent</td>\n      <td>7.8</td>\n      <td>Prozent</td>\n      <td>25.8</td>\n      <td>Prozent</td>\n      <td>27.3</td>\n      <td>...</td>\n      <td>Regionalatlas Deutschland</td>\n      <td>1995-01-01T00:00:00</td>\n      <td>JAEHRLICH</td>\n      <td>99910</td>\n      <td>None</td>\n      <td>Regionalatlas Deutschland</td>\n      <td>1995-01-01T00:00:00</td>\n      <td>JAEHRLICH</td>\n      <td>99910</td>\n      <td>None</td>\n    </tr>\n    <tr>\n      <th>7</th>\n      <td>01</td>\n      <td>Schleswig-Holstein</td>\n      <td>2010</td>\n      <td>17.2</td>\n      <td>Prozent</td>\n      <td>7.9</td>\n      <td>Prozent</td>\n      <td>25.2</td>\n      <td>Prozent</td>\n      <td>28.2</td>\n      <td>...</td>\n      <td>Regionalatlas Deutschland</td>\n      <td>1995-01-01T00:00:00</td>\n      <td>JAEHRLICH</td>\n      <td>99910</td>\n      <td>None</td>\n      <td>Regionalatlas Deutschland</td>\n      <td>1995-01-01T00:00:00</td>\n      <td>JAEHRLICH</td>\n      <td>99910</td>\n      <td>None</td>\n    </tr>\n    <tr>\n      <th>8</th>\n      <td>01</td>\n      <td>Schleswig-Holstein</td>\n      <td>2011</td>\n      <td>17.0</td>\n      <td>Prozent</td>\n      <td>7.7</td>\n      <td>Prozent</td>\n      <td>24.1</td>\n      <td>Prozent</td>\n      <td>29.3</td>\n      <td>...</td>\n      <td>Regionalatlas Deutschland</td>\n      <td>1995-01-01T00:00:00</td>\n      <td>JAEHRLICH</td>\n      <td>99910</td>\n      <td>None</td>\n      <td>Regionalatlas Deutschland</td>\n      <td>1995-01-01T00:00:00</td>\n      <td>JAEHRLICH</td>\n      <td>99910</td>\n      <td>None</td>\n    </tr>\n    <tr>\n      <th>9</th>\n      <td>01</td>\n      <td>Schleswig-Holstein</td>\n      <td>2012</td>\n      <td>16.7</td>\n      <td>Prozent</td>\n      <td>7.7</td>\n      <td>Prozent</td>\n      <td>23.5</td>\n      <td>Prozent</td>\n      <td>29.9</td>\n      <td>...</td>\n      <td>Regionalatlas Deutschland</td>\n      <td>1995-01-01T00:00:00</td>\n      <td>JAEHRLICH</td>\n      <td>99910</td>\n      <td>None</td>\n      <td>Regionalatlas Deutschland</td>\n      <td>1995-01-01T00:00:00</td>\n      <td>JAEHRLICH</td>\n      <td>99910</td>\n      <td>None</td>\n    </tr>\n    <tr>\n      <th>10</th>\n      <td>01</td>\n      <td>Schleswig-Holstein</td>\n      <td>2013</td>\n      <td>16.6</td>\n      <td>Prozent</td>\n      <td>7.7</td>\n      <td>Prozent</td>\n      <td>23.1</td>\n      <td>Prozent</td>\n      <td>30.3</td>\n      <td>...</td>\n      <td>Regionalatlas Deutschland</td>\n      <td>1995-01-01T00:00:00</td>\n      <td>JAEHRLICH</td>\n      <td>99910</td>\n      <td>None</td>\n      <td>Regionalatlas Deutschland</td>\n      <td>1995-01-01T00:00:00</td>\n      <td>JAEHRLICH</td>\n      <td>99910</td>\n      <td>None</td>\n    </tr>\n    <tr>\n      <th>11</th>\n      <td>01</td>\n      <td>Schleswig-Holstein</td>\n      <td>2014</td>\n      <td>16.4</td>\n      <td>Prozent</td>\n      <td>7.7</td>\n      <td>Prozent</td>\n      <td>22.8</td>\n      <td>Prozent</td>\n      <td>30.6</td>\n      <td>...</td>\n      <td>Regionalatlas Deutschland</td>\n      <td>1995-01-01T00:00:00</td>\n      <td>JAEHRLICH</td>\n      <td>99910</td>\n      <td>None</td>\n      <td>Regionalatlas Deutschland</td>\n      <td>1995-01-01T00:00:00</td>\n      <td>JAEHRLICH</td>\n      <td>99910</td>\n      <td>None</td>\n    </tr>\n    <tr>\n      <th>12</th>\n      <td>01</td>\n      <td>Schleswig-Holstein</td>\n      <td>2015</td>\n      <td>16.3</td>\n      <td>Prozent</td>\n      <td>7.7</td>\n      <td>Prozent</td>\n      <td>22.8</td>\n      <td>Prozent</td>\n      <td>30.6</td>\n      <td>...</td>\n      <td>Regionalatlas Deutschland</td>\n      <td>1995-01-01T00:00:00</td>\n      <td>JAEHRLICH</td>\n      <td>99910</td>\n      <td>None</td>\n      <td>Regionalatlas Deutschland</td>\n      <td>1995-01-01T00:00:00</td>\n      <td>JAEHRLICH</td>\n      <td>99910</td>\n      <td>None</td>\n    </tr>\n    <tr>\n      <th>13</th>\n      <td>01</td>\n      <td>Schleswig-Holstein</td>\n      <td>2016</td>\n      <td>16.4</td>\n      <td>Prozent</td>\n      <td>7.7</td>\n      <td>Prozent</td>\n      <td>22.6</td>\n      <td>Prozent</td>\n      <td>30.5</td>\n      <td>...</td>\n      <td>Regionalatlas Deutschland</td>\n      <td>1995-01-01T00:00:00</td>\n      <td>JAEHRLICH</td>\n      <td>99910</td>\n      <td>None</td>\n      <td>Regionalatlas Deutschland</td>\n      <td>1995-01-01T00:00:00</td>\n      <td>JAEHRLICH</td>\n      <td>99910</td>\n      <td>None</td>\n    </tr>\n    <tr>\n      <th>14</th>\n      <td>01</td>\n      <td>Schleswig-Holstein</td>\n      <td>2017</td>\n      <td>16.3</td>\n      <td>Prozent</td>\n      <td>7.7</td>\n      <td>Prozent</td>\n      <td>22.6</td>\n      <td>Prozent</td>\n      <td>30.5</td>\n      <td>...</td>\n      <td>Regionalatlas Deutschland</td>\n      <td>1995-01-01T00:00:00</td>\n      <td>JAEHRLICH</td>\n      <td>99910</td>\n      <td>None</td>\n      <td>Regionalatlas Deutschland</td>\n      <td>1995-01-01T00:00:00</td>\n      <td>JAEHRLICH</td>\n      <td>99910</td>\n      <td>None</td>\n    </tr>\n  </tbody>\n</table>\n<p>15 rows × 45 columns</p>\n</div>"
     },
     "metadata": {},
     "execution_count": 21
    }
   ],
   "source": [
    "q.results(verbose_statistics=True, verbose_enums=True, add_units=True)"
   ]
  }
 ]
}