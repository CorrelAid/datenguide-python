{
 "nbformat": 4,
 "nbformat_minor": 2,
 "metadata": {
  "language_info": {
   "name": "python",
   "codemirror_mode": {
    "name": "ipython",
    "version": 3
   },
   "version": "3.7.7-final"
  },
  "orig_nbformat": 2,
  "file_extension": ".py",
  "mimetype": "text/x-python",
  "name": "python",
  "npconvert_exporter": "python",
  "pygments_lexer": "ipython3",
  "version": 3,
  "kernelspec": {
   "name": "datenguide",
   "display_name": "venv datenguide"
  }
 },
 "cells": [
  {
   "cell_type": "code",
   "execution_count": 1,
   "metadata": {},
   "outputs": [
    {
     "output_type": "execute_result",
     "data": {
      "text/plain": "Empty DataFrame\nColumns: [id, name]\nIndex: []",
      "text/html": "<div>\n<style scoped>\n    .dataframe tbody tr th:only-of-type {\n        vertical-align: middle;\n    }\n\n    .dataframe tbody tr th {\n        vertical-align: top;\n    }\n\n    .dataframe thead th {\n        text-align: right;\n    }\n</style>\n<table border=\"1\" class=\"dataframe\">\n  <thead>\n    <tr style=\"text-align: right;\">\n      <th></th>\n      <th>id</th>\n      <th>name</th>\n    </tr>\n  </thead>\n  <tbody>\n  </tbody>\n</table>\n</div>"
     },
     "metadata": {},
     "execution_count": 1
    }
   ],
   "source": [
    "from datenguidepy import Query\n",
    "q = Query.region(\"01\")\n",
    "field = q.add_field(\"TIE003\")\n",
    "q.results()"
   ]
  },
  {
   "cell_type": "code",
   "execution_count": 2,
   "metadata": {},
   "outputs": [
    {
     "output_type": "execute_result",
     "data": {
      "text/plain": "Empty DataFrame\nColumns: [id, name]\nIndex: []",
      "text/html": "<div>\n<style scoped>\n    .dataframe tbody tr th:only-of-type {\n        vertical-align: middle;\n    }\n\n    .dataframe tbody tr th {\n        vertical-align: top;\n    }\n\n    .dataframe thead th {\n        text-align: right;\n    }\n</style>\n<table border=\"1\" class=\"dataframe\">\n  <thead>\n    <tr style=\"text-align: right;\">\n      <th></th>\n      <th>id</th>\n      <th>name</th>\n    </tr>\n  </thead>\n  <tbody>\n  </tbody>\n</table>\n</div>"
     },
     "metadata": {},
     "execution_count": 2
    }
   ],
   "source": [
    "field.add_field('TIEA05')\n",
    "q.results()"
   ]
  },
  {
   "cell_type": "code",
   "execution_count": 3,
   "metadata": {},
   "outputs": [
    {
     "output_type": "execute_result",
     "data": {
      "text/plain": "     id                name  year           TIEA05   TIE003  \\\n0    01  Schleswig-Holstein  2009   TIERART204141W   126776   \n1    01  Schleswig-Holstein  2009        AGRVART01  1166022   \n2    01  Schleswig-Holstein  2009    TIERART20412M   112161   \n3    01  Schleswig-Holstein  2009   TIERART204141M   106534   \n4    01  Schleswig-Holstein  2009  TIERART204141RM    46616   \n..   ..                 ...   ...              ...      ...   \n116  01  Schleswig-Holstein  2019        AGRVART11   376902   \n117  01  Schleswig-Holstein  2019   TIERART204141M    72270   \n118  01  Schleswig-Holstein  2019  TIERART204141RW    56989   \n119  01  Schleswig-Holstein  2019  TIERART204141RM    27685   \n120  01  Schleswig-Holstein  2019   TIERART204141W   118951   \n\n               TIE003_source_title_de TIE003_source_valid_from  \\\n0    Erhebung über die Rinderbestände      2000-05-03T00:00:00   \n1    Erhebung über die Rinderbestände      2000-05-03T00:00:00   \n2    Erhebung über die Rinderbestände      2000-05-03T00:00:00   \n3    Erhebung über die Rinderbestände      2000-05-03T00:00:00   \n4    Erhebung über die Rinderbestände      2000-05-03T00:00:00   \n..                                ...                      ...   \n116  Erhebung über die Rinderbestände      2000-05-03T00:00:00   \n117  Erhebung über die Rinderbestände      2000-05-03T00:00:00   \n118  Erhebung über die Rinderbestände      2000-05-03T00:00:00   \n119  Erhebung über die Rinderbestände      2000-05-03T00:00:00   \n120  Erhebung über die Rinderbestände      2000-05-03T00:00:00   \n\n    TIE003_source_periodicity TIE003_source_name TIE003_source_url  \n0               HALBJAEHRLICH              41312              None  \n1               HALBJAEHRLICH              41312              None  \n2               HALBJAEHRLICH              41312              None  \n3               HALBJAEHRLICH              41312              None  \n4               HALBJAEHRLICH              41312              None  \n..                        ...                ...               ...  \n116             HALBJAEHRLICH              41312              None  \n117             HALBJAEHRLICH              41312              None  \n118             HALBJAEHRLICH              41312              None  \n119             HALBJAEHRLICH              41312              None  \n120             HALBJAEHRLICH              41312              None  \n\n[121 rows x 10 columns]",
      "text/html": "<div>\n<style scoped>\n    .dataframe tbody tr th:only-of-type {\n        vertical-align: middle;\n    }\n\n    .dataframe tbody tr th {\n        vertical-align: top;\n    }\n\n    .dataframe thead th {\n        text-align: right;\n    }\n</style>\n<table border=\"1\" class=\"dataframe\">\n  <thead>\n    <tr style=\"text-align: right;\">\n      <th></th>\n      <th>id</th>\n      <th>name</th>\n      <th>year</th>\n      <th>TIEA05</th>\n      <th>TIE003</th>\n      <th>TIE003_source_title_de</th>\n      <th>TIE003_source_valid_from</th>\n      <th>TIE003_source_periodicity</th>\n      <th>TIE003_source_name</th>\n      <th>TIE003_source_url</th>\n    </tr>\n  </thead>\n  <tbody>\n    <tr>\n      <th>0</th>\n      <td>01</td>\n      <td>Schleswig-Holstein</td>\n      <td>2009</td>\n      <td>TIERART204141W</td>\n      <td>126776</td>\n      <td>Erhebung über die Rinderbestände</td>\n      <td>2000-05-03T00:00:00</td>\n      <td>HALBJAEHRLICH</td>\n      <td>41312</td>\n      <td>None</td>\n    </tr>\n    <tr>\n      <th>1</th>\n      <td>01</td>\n      <td>Schleswig-Holstein</td>\n      <td>2009</td>\n      <td>AGRVART01</td>\n      <td>1166022</td>\n      <td>Erhebung über die Rinderbestände</td>\n      <td>2000-05-03T00:00:00</td>\n      <td>HALBJAEHRLICH</td>\n      <td>41312</td>\n      <td>None</td>\n    </tr>\n    <tr>\n      <th>2</th>\n      <td>01</td>\n      <td>Schleswig-Holstein</td>\n      <td>2009</td>\n      <td>TIERART20412M</td>\n      <td>112161</td>\n      <td>Erhebung über die Rinderbestände</td>\n      <td>2000-05-03T00:00:00</td>\n      <td>HALBJAEHRLICH</td>\n      <td>41312</td>\n      <td>None</td>\n    </tr>\n    <tr>\n      <th>3</th>\n      <td>01</td>\n      <td>Schleswig-Holstein</td>\n      <td>2009</td>\n      <td>TIERART204141M</td>\n      <td>106534</td>\n      <td>Erhebung über die Rinderbestände</td>\n      <td>2000-05-03T00:00:00</td>\n      <td>HALBJAEHRLICH</td>\n      <td>41312</td>\n      <td>None</td>\n    </tr>\n    <tr>\n      <th>4</th>\n      <td>01</td>\n      <td>Schleswig-Holstein</td>\n      <td>2009</td>\n      <td>TIERART204141RM</td>\n      <td>46616</td>\n      <td>Erhebung über die Rinderbestände</td>\n      <td>2000-05-03T00:00:00</td>\n      <td>HALBJAEHRLICH</td>\n      <td>41312</td>\n      <td>None</td>\n    </tr>\n    <tr>\n      <th>...</th>\n      <td>...</td>\n      <td>...</td>\n      <td>...</td>\n      <td>...</td>\n      <td>...</td>\n      <td>...</td>\n      <td>...</td>\n      <td>...</td>\n      <td>...</td>\n      <td>...</td>\n    </tr>\n    <tr>\n      <th>116</th>\n      <td>01</td>\n      <td>Schleswig-Holstein</td>\n      <td>2019</td>\n      <td>AGRVART11</td>\n      <td>376902</td>\n      <td>Erhebung über die Rinderbestände</td>\n      <td>2000-05-03T00:00:00</td>\n      <td>HALBJAEHRLICH</td>\n      <td>41312</td>\n      <td>None</td>\n    </tr>\n    <tr>\n      <th>117</th>\n      <td>01</td>\n      <td>Schleswig-Holstein</td>\n      <td>2019</td>\n      <td>TIERART204141M</td>\n      <td>72270</td>\n      <td>Erhebung über die Rinderbestände</td>\n      <td>2000-05-03T00:00:00</td>\n      <td>HALBJAEHRLICH</td>\n      <td>41312</td>\n      <td>None</td>\n    </tr>\n    <tr>\n      <th>118</th>\n      <td>01</td>\n      <td>Schleswig-Holstein</td>\n      <td>2019</td>\n      <td>TIERART204141RW</td>\n      <td>56989</td>\n      <td>Erhebung über die Rinderbestände</td>\n      <td>2000-05-03T00:00:00</td>\n      <td>HALBJAEHRLICH</td>\n      <td>41312</td>\n      <td>None</td>\n    </tr>\n    <tr>\n      <th>119</th>\n      <td>01</td>\n      <td>Schleswig-Holstein</td>\n      <td>2019</td>\n      <td>TIERART204141RM</td>\n      <td>27685</td>\n      <td>Erhebung über die Rinderbestände</td>\n      <td>2000-05-03T00:00:00</td>\n      <td>HALBJAEHRLICH</td>\n      <td>41312</td>\n      <td>None</td>\n    </tr>\n    <tr>\n      <th>120</th>\n      <td>01</td>\n      <td>Schleswig-Holstein</td>\n      <td>2019</td>\n      <td>TIERART204141W</td>\n      <td>118951</td>\n      <td>Erhebung über die Rinderbestände</td>\n      <td>2000-05-03T00:00:00</td>\n      <td>HALBJAEHRLICH</td>\n      <td>41312</td>\n      <td>None</td>\n    </tr>\n  </tbody>\n</table>\n<p>121 rows × 10 columns</p>\n</div>"
     },
     "metadata": {},
     "execution_count": 3
    }
   ],
   "source": [
    "field.add_args({'TIEA05' : 'ALL'})\n",
    "q.results()"
   ]
  },
  {
   "cell_type": "code",
   "execution_count": 4,
   "metadata": {},
   "outputs": [
    {
     "output_type": "execute_result",
     "data": {
      "text/plain": "     id                name  year           TIEA05   TIE003  \\\n0    01  Schleswig-Holstein  2009   TIERART204141W   126776   \n1    01  Schleswig-Holstein  2009        AGRVART01  1166022   \n2    01  Schleswig-Holstein  2009    TIERART20412M   112161   \n3    01  Schleswig-Holstein  2009   TIERART204141M   106534   \n4    01  Schleswig-Holstein  2009  TIERART204141RM    46616   \n..   ..                 ...   ...              ...      ...   \n116  01  Schleswig-Holstein  2019        AGRVART11   376902   \n117  01  Schleswig-Holstein  2019   TIERART204141M    72270   \n118  01  Schleswig-Holstein  2019  TIERART204141RW    56989   \n119  01  Schleswig-Holstein  2019  TIERART204141RM    27685   \n120  01  Schleswig-Holstein  2019   TIERART204141W   118951   \n\n               TIE003_source_title_de TIE003_source_valid_from  \\\n0    Erhebung über die Rinderbestände      2000-05-03T00:00:00   \n1    Erhebung über die Rinderbestände      2000-05-03T00:00:00   \n2    Erhebung über die Rinderbestände      2000-05-03T00:00:00   \n3    Erhebung über die Rinderbestände      2000-05-03T00:00:00   \n4    Erhebung über die Rinderbestände      2000-05-03T00:00:00   \n..                                ...                      ...   \n116  Erhebung über die Rinderbestände      2000-05-03T00:00:00   \n117  Erhebung über die Rinderbestände      2000-05-03T00:00:00   \n118  Erhebung über die Rinderbestände      2000-05-03T00:00:00   \n119  Erhebung über die Rinderbestände      2000-05-03T00:00:00   \n120  Erhebung über die Rinderbestände      2000-05-03T00:00:00   \n\n    TIE003_source_periodicity TIE003_source_name TIE003_source_url  \n0               HALBJAEHRLICH              41312              None  \n1               HALBJAEHRLICH              41312              None  \n2               HALBJAEHRLICH              41312              None  \n3               HALBJAEHRLICH              41312              None  \n4               HALBJAEHRLICH              41312              None  \n..                        ...                ...               ...  \n116             HALBJAEHRLICH              41312              None  \n117             HALBJAEHRLICH              41312              None  \n118             HALBJAEHRLICH              41312              None  \n119             HALBJAEHRLICH              41312              None  \n120             HALBJAEHRLICH              41312              None  \n\n[121 rows x 10 columns]",
      "text/html": "<div>\n<style scoped>\n    .dataframe tbody tr th:only-of-type {\n        vertical-align: middle;\n    }\n\n    .dataframe tbody tr th {\n        vertical-align: top;\n    }\n\n    .dataframe thead th {\n        text-align: right;\n    }\n</style>\n<table border=\"1\" class=\"dataframe\">\n  <thead>\n    <tr style=\"text-align: right;\">\n      <th></th>\n      <th>id</th>\n      <th>name</th>\n      <th>year</th>\n      <th>TIEA05</th>\n      <th>TIE003</th>\n      <th>TIE003_source_title_de</th>\n      <th>TIE003_source_valid_from</th>\n      <th>TIE003_source_periodicity</th>\n      <th>TIE003_source_name</th>\n      <th>TIE003_source_url</th>\n    </tr>\n  </thead>\n  <tbody>\n    <tr>\n      <th>0</th>\n      <td>01</td>\n      <td>Schleswig-Holstein</td>\n      <td>2009</td>\n      <td>TIERART204141W</td>\n      <td>126776</td>\n      <td>Erhebung über die Rinderbestände</td>\n      <td>2000-05-03T00:00:00</td>\n      <td>HALBJAEHRLICH</td>\n      <td>41312</td>\n      <td>None</td>\n    </tr>\n    <tr>\n      <th>1</th>\n      <td>01</td>\n      <td>Schleswig-Holstein</td>\n      <td>2009</td>\n      <td>AGRVART01</td>\n      <td>1166022</td>\n      <td>Erhebung über die Rinderbestände</td>\n      <td>2000-05-03T00:00:00</td>\n      <td>HALBJAEHRLICH</td>\n      <td>41312</td>\n      <td>None</td>\n    </tr>\n    <tr>\n      <th>2</th>\n      <td>01</td>\n      <td>Schleswig-Holstein</td>\n      <td>2009</td>\n      <td>TIERART20412M</td>\n      <td>112161</td>\n      <td>Erhebung über die Rinderbestände</td>\n      <td>2000-05-03T00:00:00</td>\n      <td>HALBJAEHRLICH</td>\n      <td>41312</td>\n      <td>None</td>\n    </tr>\n    <tr>\n      <th>3</th>\n      <td>01</td>\n      <td>Schleswig-Holstein</td>\n      <td>2009</td>\n      <td>TIERART204141M</td>\n      <td>106534</td>\n      <td>Erhebung über die Rinderbestände</td>\n      <td>2000-05-03T00:00:00</td>\n      <td>HALBJAEHRLICH</td>\n      <td>41312</td>\n      <td>None</td>\n    </tr>\n    <tr>\n      <th>4</th>\n      <td>01</td>\n      <td>Schleswig-Holstein</td>\n      <td>2009</td>\n      <td>TIERART204141RM</td>\n      <td>46616</td>\n      <td>Erhebung über die Rinderbestände</td>\n      <td>2000-05-03T00:00:00</td>\n      <td>HALBJAEHRLICH</td>\n      <td>41312</td>\n      <td>None</td>\n    </tr>\n    <tr>\n      <th>...</th>\n      <td>...</td>\n      <td>...</td>\n      <td>...</td>\n      <td>...</td>\n      <td>...</td>\n      <td>...</td>\n      <td>...</td>\n      <td>...</td>\n      <td>...</td>\n      <td>...</td>\n    </tr>\n    <tr>\n      <th>116</th>\n      <td>01</td>\n      <td>Schleswig-Holstein</td>\n      <td>2019</td>\n      <td>AGRVART11</td>\n      <td>376902</td>\n      <td>Erhebung über die Rinderbestände</td>\n      <td>2000-05-03T00:00:00</td>\n      <td>HALBJAEHRLICH</td>\n      <td>41312</td>\n      <td>None</td>\n    </tr>\n    <tr>\n      <th>117</th>\n      <td>01</td>\n      <td>Schleswig-Holstein</td>\n      <td>2019</td>\n      <td>TIERART204141M</td>\n      <td>72270</td>\n      <td>Erhebung über die Rinderbestände</td>\n      <td>2000-05-03T00:00:00</td>\n      <td>HALBJAEHRLICH</td>\n      <td>41312</td>\n      <td>None</td>\n    </tr>\n    <tr>\n      <th>118</th>\n      <td>01</td>\n      <td>Schleswig-Holstein</td>\n      <td>2019</td>\n      <td>TIERART204141RW</td>\n      <td>56989</td>\n      <td>Erhebung über die Rinderbestände</td>\n      <td>2000-05-03T00:00:00</td>\n      <td>HALBJAEHRLICH</td>\n      <td>41312</td>\n      <td>None</td>\n    </tr>\n    <tr>\n      <th>119</th>\n      <td>01</td>\n      <td>Schleswig-Holstein</td>\n      <td>2019</td>\n      <td>TIERART204141RM</td>\n      <td>27685</td>\n      <td>Erhebung über die Rinderbestände</td>\n      <td>2000-05-03T00:00:00</td>\n      <td>HALBJAEHRLICH</td>\n      <td>41312</td>\n      <td>None</td>\n    </tr>\n    <tr>\n      <th>120</th>\n      <td>01</td>\n      <td>Schleswig-Holstein</td>\n      <td>2019</td>\n      <td>TIERART204141W</td>\n      <td>118951</td>\n      <td>Erhebung über die Rinderbestände</td>\n      <td>2000-05-03T00:00:00</td>\n      <td>HALBJAEHRLICH</td>\n      <td>41312</td>\n      <td>None</td>\n    </tr>\n  </tbody>\n</table>\n<p>121 rows × 10 columns</p>\n</div>"
     },
     "metadata": {},
     "execution_count": 4
    }
   ],
   "source": [
    "from datenguidepy import Query\n",
    "q = Query.region(\"01\")\n",
    "field = q.add_field(\"TIE003\") # active field returned.\n",
    "field.add_field('TIEA05')\n",
    "field.add_args({'TIEA05' : 'ALL'})\n",
    "q.results()"
   ]
  },
  {
   "cell_type": "code",
   "execution_count": 5,
   "metadata": {},
   "outputs": [
    {
     "output_type": "execute_result",
     "data": {
      "text/plain": "     id                name  year  \\\n0    01  Schleswig-Holstein  2009   \n1    01  Schleswig-Holstein  2009   \n2    01  Schleswig-Holstein  2009   \n3    01  Schleswig-Holstein  2009   \n4    01  Schleswig-Holstein  2009   \n..   ..                 ...   ...   \n116  01  Schleswig-Holstein  2019   \n117  01  Schleswig-Holstein  2019   \n118  01  Schleswig-Holstein  2019   \n119  01  Schleswig-Holstein  2019   \n120  01  Schleswig-Holstein  2019   \n\n                                                TIEA05   TIE003  \\\n0               Weibliche Kälber bis einschl. 8 Monate   126776   \n1                                     Rinder insgesamt  1166022   \n2                Männliche Rinder 1 bis unter 2 Jahren   112161   \n3               Männliche Kälber bis einschl. 8 Monate   106534   \n4    Männl. Jungrinder m. als 8 Mon. b. einschl. 1 ...    46616   \n..                                                 ...      ...   \n116                                          Milchkühe   376902   \n117             Männliche Kälber bis einschl. 8 Monate    72270   \n118  Weibl. Jungrinder m. als 8 Mon. b. einschl. 1 ...    56989   \n119  Männl. Jungrinder m. als 8 Mon. b. einschl. 1 ...    27685   \n120             Weibliche Kälber bis einschl. 8 Monate   118951   \n\n               TIE003_source_title_de TIE003_source_valid_from  \\\n0    Erhebung über die Rinderbestände      2000-05-03T00:00:00   \n1    Erhebung über die Rinderbestände      2000-05-03T00:00:00   \n2    Erhebung über die Rinderbestände      2000-05-03T00:00:00   \n3    Erhebung über die Rinderbestände      2000-05-03T00:00:00   \n4    Erhebung über die Rinderbestände      2000-05-03T00:00:00   \n..                                ...                      ...   \n116  Erhebung über die Rinderbestände      2000-05-03T00:00:00   \n117  Erhebung über die Rinderbestände      2000-05-03T00:00:00   \n118  Erhebung über die Rinderbestände      2000-05-03T00:00:00   \n119  Erhebung über die Rinderbestände      2000-05-03T00:00:00   \n120  Erhebung über die Rinderbestände      2000-05-03T00:00:00   \n\n    TIE003_source_periodicity TIE003_source_name TIE003_source_url  \n0               HALBJAEHRLICH              41312              None  \n1               HALBJAEHRLICH              41312              None  \n2               HALBJAEHRLICH              41312              None  \n3               HALBJAEHRLICH              41312              None  \n4               HALBJAEHRLICH              41312              None  \n..                        ...                ...               ...  \n116             HALBJAEHRLICH              41312              None  \n117             HALBJAEHRLICH              41312              None  \n118             HALBJAEHRLICH              41312              None  \n119             HALBJAEHRLICH              41312              None  \n120             HALBJAEHRLICH              41312              None  \n\n[121 rows x 10 columns]",
      "text/html": "<div>\n<style scoped>\n    .dataframe tbody tr th:only-of-type {\n        vertical-align: middle;\n    }\n\n    .dataframe tbody tr th {\n        vertical-align: top;\n    }\n\n    .dataframe thead th {\n        text-align: right;\n    }\n</style>\n<table border=\"1\" class=\"dataframe\">\n  <thead>\n    <tr style=\"text-align: right;\">\n      <th></th>\n      <th>id</th>\n      <th>name</th>\n      <th>year</th>\n      <th>TIEA05</th>\n      <th>TIE003</th>\n      <th>TIE003_source_title_de</th>\n      <th>TIE003_source_valid_from</th>\n      <th>TIE003_source_periodicity</th>\n      <th>TIE003_source_name</th>\n      <th>TIE003_source_url</th>\n    </tr>\n  </thead>\n  <tbody>\n    <tr>\n      <th>0</th>\n      <td>01</td>\n      <td>Schleswig-Holstein</td>\n      <td>2009</td>\n      <td>Weibliche Kälber bis einschl. 8 Monate</td>\n      <td>126776</td>\n      <td>Erhebung über die Rinderbestände</td>\n      <td>2000-05-03T00:00:00</td>\n      <td>HALBJAEHRLICH</td>\n      <td>41312</td>\n      <td>None</td>\n    </tr>\n    <tr>\n      <th>1</th>\n      <td>01</td>\n      <td>Schleswig-Holstein</td>\n      <td>2009</td>\n      <td>Rinder insgesamt</td>\n      <td>1166022</td>\n      <td>Erhebung über die Rinderbestände</td>\n      <td>2000-05-03T00:00:00</td>\n      <td>HALBJAEHRLICH</td>\n      <td>41312</td>\n      <td>None</td>\n    </tr>\n    <tr>\n      <th>2</th>\n      <td>01</td>\n      <td>Schleswig-Holstein</td>\n      <td>2009</td>\n      <td>Männliche Rinder 1 bis unter 2 Jahren</td>\n      <td>112161</td>\n      <td>Erhebung über die Rinderbestände</td>\n      <td>2000-05-03T00:00:00</td>\n      <td>HALBJAEHRLICH</td>\n      <td>41312</td>\n      <td>None</td>\n    </tr>\n    <tr>\n      <th>3</th>\n      <td>01</td>\n      <td>Schleswig-Holstein</td>\n      <td>2009</td>\n      <td>Männliche Kälber bis einschl. 8 Monate</td>\n      <td>106534</td>\n      <td>Erhebung über die Rinderbestände</td>\n      <td>2000-05-03T00:00:00</td>\n      <td>HALBJAEHRLICH</td>\n      <td>41312</td>\n      <td>None</td>\n    </tr>\n    <tr>\n      <th>4</th>\n      <td>01</td>\n      <td>Schleswig-Holstein</td>\n      <td>2009</td>\n      <td>Männl. Jungrinder m. als 8 Mon. b. einschl. 1 ...</td>\n      <td>46616</td>\n      <td>Erhebung über die Rinderbestände</td>\n      <td>2000-05-03T00:00:00</td>\n      <td>HALBJAEHRLICH</td>\n      <td>41312</td>\n      <td>None</td>\n    </tr>\n    <tr>\n      <th>...</th>\n      <td>...</td>\n      <td>...</td>\n      <td>...</td>\n      <td>...</td>\n      <td>...</td>\n      <td>...</td>\n      <td>...</td>\n      <td>...</td>\n      <td>...</td>\n      <td>...</td>\n    </tr>\n    <tr>\n      <th>116</th>\n      <td>01</td>\n      <td>Schleswig-Holstein</td>\n      <td>2019</td>\n      <td>Milchkühe</td>\n      <td>376902</td>\n      <td>Erhebung über die Rinderbestände</td>\n      <td>2000-05-03T00:00:00</td>\n      <td>HALBJAEHRLICH</td>\n      <td>41312</td>\n      <td>None</td>\n    </tr>\n    <tr>\n      <th>117</th>\n      <td>01</td>\n      <td>Schleswig-Holstein</td>\n      <td>2019</td>\n      <td>Männliche Kälber bis einschl. 8 Monate</td>\n      <td>72270</td>\n      <td>Erhebung über die Rinderbestände</td>\n      <td>2000-05-03T00:00:00</td>\n      <td>HALBJAEHRLICH</td>\n      <td>41312</td>\n      <td>None</td>\n    </tr>\n    <tr>\n      <th>118</th>\n      <td>01</td>\n      <td>Schleswig-Holstein</td>\n      <td>2019</td>\n      <td>Weibl. Jungrinder m. als 8 Mon. b. einschl. 1 ...</td>\n      <td>56989</td>\n      <td>Erhebung über die Rinderbestände</td>\n      <td>2000-05-03T00:00:00</td>\n      <td>HALBJAEHRLICH</td>\n      <td>41312</td>\n      <td>None</td>\n    </tr>\n    <tr>\n      <th>119</th>\n      <td>01</td>\n      <td>Schleswig-Holstein</td>\n      <td>2019</td>\n      <td>Männl. Jungrinder m. als 8 Mon. b. einschl. 1 ...</td>\n      <td>27685</td>\n      <td>Erhebung über die Rinderbestände</td>\n      <td>2000-05-03T00:00:00</td>\n      <td>HALBJAEHRLICH</td>\n      <td>41312</td>\n      <td>None</td>\n    </tr>\n    <tr>\n      <th>120</th>\n      <td>01</td>\n      <td>Schleswig-Holstein</td>\n      <td>2019</td>\n      <td>Weibliche Kälber bis einschl. 8 Monate</td>\n      <td>118951</td>\n      <td>Erhebung über die Rinderbestände</td>\n      <td>2000-05-03T00:00:00</td>\n      <td>HALBJAEHRLICH</td>\n      <td>41312</td>\n      <td>None</td>\n    </tr>\n  </tbody>\n</table>\n<p>121 rows × 10 columns</p>\n</div>"
     },
     "metadata": {},
     "execution_count": 5
    }
   ],
   "source": [
    "q.results(verbose_enums=True)"
   ]
  },
  {
   "cell_type": "code",
   "execution_count": 6,
   "metadata": {},
   "outputs": [
    {
     "output_type": "execute_result",
     "data": {
      "text/plain": "     id                name  year           TIEA05  Tiere (TIE003)  \\\n0    01  Schleswig-Holstein  2009   TIERART204141W          126776   \n1    01  Schleswig-Holstein  2009        AGRVART01         1166022   \n2    01  Schleswig-Holstein  2009    TIERART20412M          112161   \n3    01  Schleswig-Holstein  2009   TIERART204141M          106534   \n4    01  Schleswig-Holstein  2009  TIERART204141RM           46616   \n..   ..                 ...   ...              ...             ...   \n116  01  Schleswig-Holstein  2019        AGRVART11          376902   \n117  01  Schleswig-Holstein  2019   TIERART204141M           72270   \n118  01  Schleswig-Holstein  2019  TIERART204141RW           56989   \n119  01  Schleswig-Holstein  2019  TIERART204141RM           27685   \n120  01  Schleswig-Holstein  2019   TIERART204141W          118951   \n\n               TIE003_source_title_de TIE003_source_valid_from  \\\n0    Erhebung über die Rinderbestände      2000-05-03T00:00:00   \n1    Erhebung über die Rinderbestände      2000-05-03T00:00:00   \n2    Erhebung über die Rinderbestände      2000-05-03T00:00:00   \n3    Erhebung über die Rinderbestände      2000-05-03T00:00:00   \n4    Erhebung über die Rinderbestände      2000-05-03T00:00:00   \n..                                ...                      ...   \n116  Erhebung über die Rinderbestände      2000-05-03T00:00:00   \n117  Erhebung über die Rinderbestände      2000-05-03T00:00:00   \n118  Erhebung über die Rinderbestände      2000-05-03T00:00:00   \n119  Erhebung über die Rinderbestände      2000-05-03T00:00:00   \n120  Erhebung über die Rinderbestände      2000-05-03T00:00:00   \n\n    TIE003_source_periodicity TIE003_source_name TIE003_source_url  \n0               HALBJAEHRLICH              41312              None  \n1               HALBJAEHRLICH              41312              None  \n2               HALBJAEHRLICH              41312              None  \n3               HALBJAEHRLICH              41312              None  \n4               HALBJAEHRLICH              41312              None  \n..                        ...                ...               ...  \n116             HALBJAEHRLICH              41312              None  \n117             HALBJAEHRLICH              41312              None  \n118             HALBJAEHRLICH              41312              None  \n119             HALBJAEHRLICH              41312              None  \n120             HALBJAEHRLICH              41312              None  \n\n[121 rows x 10 columns]",
      "text/html": "<div>\n<style scoped>\n    .dataframe tbody tr th:only-of-type {\n        vertical-align: middle;\n    }\n\n    .dataframe tbody tr th {\n        vertical-align: top;\n    }\n\n    .dataframe thead th {\n        text-align: right;\n    }\n</style>\n<table border=\"1\" class=\"dataframe\">\n  <thead>\n    <tr style=\"text-align: right;\">\n      <th></th>\n      <th>id</th>\n      <th>name</th>\n      <th>year</th>\n      <th>TIEA05</th>\n      <th>Tiere (TIE003)</th>\n      <th>TIE003_source_title_de</th>\n      <th>TIE003_source_valid_from</th>\n      <th>TIE003_source_periodicity</th>\n      <th>TIE003_source_name</th>\n      <th>TIE003_source_url</th>\n    </tr>\n  </thead>\n  <tbody>\n    <tr>\n      <th>0</th>\n      <td>01</td>\n      <td>Schleswig-Holstein</td>\n      <td>2009</td>\n      <td>TIERART204141W</td>\n      <td>126776</td>\n      <td>Erhebung über die Rinderbestände</td>\n      <td>2000-05-03T00:00:00</td>\n      <td>HALBJAEHRLICH</td>\n      <td>41312</td>\n      <td>None</td>\n    </tr>\n    <tr>\n      <th>1</th>\n      <td>01</td>\n      <td>Schleswig-Holstein</td>\n      <td>2009</td>\n      <td>AGRVART01</td>\n      <td>1166022</td>\n      <td>Erhebung über die Rinderbestände</td>\n      <td>2000-05-03T00:00:00</td>\n      <td>HALBJAEHRLICH</td>\n      <td>41312</td>\n      <td>None</td>\n    </tr>\n    <tr>\n      <th>2</th>\n      <td>01</td>\n      <td>Schleswig-Holstein</td>\n      <td>2009</td>\n      <td>TIERART20412M</td>\n      <td>112161</td>\n      <td>Erhebung über die Rinderbestände</td>\n      <td>2000-05-03T00:00:00</td>\n      <td>HALBJAEHRLICH</td>\n      <td>41312</td>\n      <td>None</td>\n    </tr>\n    <tr>\n      <th>3</th>\n      <td>01</td>\n      <td>Schleswig-Holstein</td>\n      <td>2009</td>\n      <td>TIERART204141M</td>\n      <td>106534</td>\n      <td>Erhebung über die Rinderbestände</td>\n      <td>2000-05-03T00:00:00</td>\n      <td>HALBJAEHRLICH</td>\n      <td>41312</td>\n      <td>None</td>\n    </tr>\n    <tr>\n      <th>4</th>\n      <td>01</td>\n      <td>Schleswig-Holstein</td>\n      <td>2009</td>\n      <td>TIERART204141RM</td>\n      <td>46616</td>\n      <td>Erhebung über die Rinderbestände</td>\n      <td>2000-05-03T00:00:00</td>\n      <td>HALBJAEHRLICH</td>\n      <td>41312</td>\n      <td>None</td>\n    </tr>\n    <tr>\n      <th>...</th>\n      <td>...</td>\n      <td>...</td>\n      <td>...</td>\n      <td>...</td>\n      <td>...</td>\n      <td>...</td>\n      <td>...</td>\n      <td>...</td>\n      <td>...</td>\n      <td>...</td>\n    </tr>\n    <tr>\n      <th>116</th>\n      <td>01</td>\n      <td>Schleswig-Holstein</td>\n      <td>2019</td>\n      <td>AGRVART11</td>\n      <td>376902</td>\n      <td>Erhebung über die Rinderbestände</td>\n      <td>2000-05-03T00:00:00</td>\n      <td>HALBJAEHRLICH</td>\n      <td>41312</td>\n      <td>None</td>\n    </tr>\n    <tr>\n      <th>117</th>\n      <td>01</td>\n      <td>Schleswig-Holstein</td>\n      <td>2019</td>\n      <td>TIERART204141M</td>\n      <td>72270</td>\n      <td>Erhebung über die Rinderbestände</td>\n      <td>2000-05-03T00:00:00</td>\n      <td>HALBJAEHRLICH</td>\n      <td>41312</td>\n      <td>None</td>\n    </tr>\n    <tr>\n      <th>118</th>\n      <td>01</td>\n      <td>Schleswig-Holstein</td>\n      <td>2019</td>\n      <td>TIERART204141RW</td>\n      <td>56989</td>\n      <td>Erhebung über die Rinderbestände</td>\n      <td>2000-05-03T00:00:00</td>\n      <td>HALBJAEHRLICH</td>\n      <td>41312</td>\n      <td>None</td>\n    </tr>\n    <tr>\n      <th>119</th>\n      <td>01</td>\n      <td>Schleswig-Holstein</td>\n      <td>2019</td>\n      <td>TIERART204141RM</td>\n      <td>27685</td>\n      <td>Erhebung über die Rinderbestände</td>\n      <td>2000-05-03T00:00:00</td>\n      <td>HALBJAEHRLICH</td>\n      <td>41312</td>\n      <td>None</td>\n    </tr>\n    <tr>\n      <th>120</th>\n      <td>01</td>\n      <td>Schleswig-Holstein</td>\n      <td>2019</td>\n      <td>TIERART204141W</td>\n      <td>118951</td>\n      <td>Erhebung über die Rinderbestände</td>\n      <td>2000-05-03T00:00:00</td>\n      <td>HALBJAEHRLICH</td>\n      <td>41312</td>\n      <td>None</td>\n    </tr>\n  </tbody>\n</table>\n<p>121 rows × 10 columns</p>\n</div>"
     },
     "metadata": {},
     "execution_count": 6
    }
   ],
   "source": [
    "results = q.results(verbose_statistics=True)\n",
    "results"
   ]
  },
  {
   "cell_type": "code",
   "execution_count": 7,
   "metadata": {},
   "outputs": [
    {
     "output_type": "execute_result",
     "data": {
      "text/plain": "{'statistics': {'stat1': 'name1', 'stat2': 'name2'},\n 'enums': {'TIEA05': {'AGRVART01': 'Rinder insgesamt',\n   'AGRVART11': 'Milchkühe',\n   'TIERART03A': 'sonstige Kühe',\n   'TIERART20412M': 'Männliche Rinder 1 bis unter 2 Jahren',\n   'TIERART20412W': 'Weibl. Rinder 1 bis unter 2 J. (nicht abgekalbt)',\n   'TIERART20413M': 'Männliche Rinder 2 Jahre und älter',\n   'TIERART20413W': 'Weibl. Rinder 2 J. und älter (nicht abgekalbt)',\n   'TIERART204141M': 'Männliche Kälber bis einschl. 8 Monate',\n   'TIERART204141RM': 'Männl. Jungrinder m. als 8 Mon. b. einschl. 1 Jahr',\n   'TIERART204141RW': 'Weibl. Jungrinder m. als 8 Mon. b. einschl. 1 Jahr',\n   'TIERART204141W': 'Weibliche Kälber bis einschl. 8 Monate',\n   'GESAMT': 'Gesamt'}},\n 'units': {'TIE003': 'Anzahl'}}"
     },
     "metadata": {},
     "execution_count": 7
    }
   ],
   "source": [
    "_meta_data = q.meta_data()\n",
    "_meta_data['statistics'] = {'stat1': 'name1', 'stat2': 'name2'}\n",
    "_meta_data"
   ]
  },
  {
   "cell_type": "code",
   "execution_count": 8,
   "metadata": {},
   "outputs": [
    {
     "output_type": "error",
     "ename": "NotImplementedError",
     "evalue": "More than one statistic is not supported. Provided statisitcs: stat1, stat2",
     "traceback": [
      "\u001b[1;31m---------------------------------------------------------------------------\u001b[0m",
      "\u001b[1;31mNotImplementedError\u001b[0m                       Traceback (most recent call last)",
      "\u001b[1;32m<ipython-input-8-c2959f7b526d>\u001b[0m in \u001b[0;36m<module>\u001b[1;34m\u001b[0m\n\u001b[0;32m      3\u001b[0m     \u001b[1;33m[\u001b[0m\u001b[0mvalue\u001b[0m\u001b[1;33m]\u001b[0m \u001b[1;33m=\u001b[0m \u001b[0m_statistics\u001b[0m\u001b[1;33m\u001b[0m\u001b[1;33m\u001b[0m\u001b[0m\n\u001b[0;32m      4\u001b[0m \u001b[1;32melse\u001b[0m\u001b[1;33m:\u001b[0m\u001b[1;33m\u001b[0m\u001b[1;33m\u001b[0m\u001b[0m\n\u001b[1;32m----> 5\u001b[1;33m     \u001b[1;32mraise\u001b[0m \u001b[0mNotImplementedError\u001b[0m\u001b[1;33m(\u001b[0m\u001b[1;34m'More than one statistic is not supported. Provided statisitcs: {}'\u001b[0m\u001b[1;33m.\u001b[0m\u001b[0mformat\u001b[0m\u001b[1;33m(\u001b[0m\u001b[1;34m', '\u001b[0m\u001b[1;33m.\u001b[0m\u001b[0mjoin\u001b[0m\u001b[1;33m(\u001b[0m\u001b[0m_statistics\u001b[0m\u001b[1;33m)\u001b[0m\u001b[1;33m)\u001b[0m\u001b[1;33m)\u001b[0m\u001b[1;33m\u001b[0m\u001b[1;33m\u001b[0m\u001b[0m\n\u001b[0m",
      "\u001b[1;31mNotImplementedError\u001b[0m: More than one statistic is not supported. Provided statisitcs: stat1, stat2"
     ]
    }
   ],
   "source": [
    "_statistics = _meta_data['statistics'].keys()\n",
    "if len(_statistics)==1:\n",
    "    [value] = _statistics\n",
    "else: \n",
    "    raise NotImplementedError('More than one statistic is not supported. Provided statisitcs: {}'.format(', '.join(_statistics)))"
   ]
  },
  {
   "cell_type": "code",
   "execution_count": 15,
   "metadata": {},
   "outputs": [],
   "source": [
    "_meta_data = q.meta_data()\n",
    "_statistics = _meta_data['statistics'].keys()\n",
    "if len(_statistics)==1:\n",
    "    [value] = _statistics\n",
    "else: \n",
    "    raise NotImplementedError('More than one statistic is not supported. Provided statisitcs: {}'.format(', '.join(_statistics)))"
   ]
  },
  {
   "cell_type": "code",
   "execution_count": 16,
   "metadata": {},
   "outputs": [
    {
     "output_type": "execute_result",
     "data": {
      "text/plain": "'TIE003'"
     },
     "metadata": {},
     "execution_count": 16
    }
   ],
   "source": [
    "value"
   ]
  },
  {
   "cell_type": "code",
   "execution_count": 17,
   "metadata": {},
   "outputs": [
    {
     "output_type": "execute_result",
     "data": {
      "text/plain": "4"
     },
     "metadata": {},
     "execution_count": 17
    }
   ],
   "source": [
    "mask = results.columns.str.contains(value)\n",
    "import numpy\n",
    "position = int(numpy.argmax(mask))\n",
    "position"
   ]
  },
  {
   "cell_type": "code",
   "execution_count": 18,
   "metadata": {},
   "outputs": [
    {
     "output_type": "execute_result",
     "data": {
      "text/plain": "'Anzahl'"
     },
     "metadata": {},
     "execution_count": 18
    }
   ],
   "source": [
    "_meta_data['units'][value]"
   ]
  },
  {
   "cell_type": "code",
   "execution_count": 19,
   "metadata": {},
   "outputs": [],
   "source": [
    "results.insert(loc=position, column='unit', value=_meta_data['units'][value])"
   ]
  },
  {
   "cell_type": "markdown",
   "metadata": {},
   "source": []
  },
  {
   "cell_type": "code",
   "execution_count": 20,
   "metadata": {},
   "outputs": [
    {
     "output_type": "execute_result",
     "data": {
      "text/plain": "     id                name  year           TIEA05    unit  Tiere (TIE003)  \\\n0    01  Schleswig-Holstein  2009   TIERART204141W  Anzahl          126776   \n1    01  Schleswig-Holstein  2009        AGRVART01  Anzahl         1166022   \n2    01  Schleswig-Holstein  2009    TIERART20412M  Anzahl          112161   \n3    01  Schleswig-Holstein  2009   TIERART204141M  Anzahl          106534   \n4    01  Schleswig-Holstein  2009  TIERART204141RM  Anzahl           46616   \n..   ..                 ...   ...              ...     ...             ...   \n116  01  Schleswig-Holstein  2019        AGRVART11  Anzahl          376902   \n117  01  Schleswig-Holstein  2019   TIERART204141M  Anzahl           72270   \n118  01  Schleswig-Holstein  2019  TIERART204141RW  Anzahl           56989   \n119  01  Schleswig-Holstein  2019  TIERART204141RM  Anzahl           27685   \n120  01  Schleswig-Holstein  2019   TIERART204141W  Anzahl          118951   \n\n               TIE003_source_title_de TIE003_source_valid_from  \\\n0    Erhebung über die Rinderbestände      2000-05-03T00:00:00   \n1    Erhebung über die Rinderbestände      2000-05-03T00:00:00   \n2    Erhebung über die Rinderbestände      2000-05-03T00:00:00   \n3    Erhebung über die Rinderbestände      2000-05-03T00:00:00   \n4    Erhebung über die Rinderbestände      2000-05-03T00:00:00   \n..                                ...                      ...   \n116  Erhebung über die Rinderbestände      2000-05-03T00:00:00   \n117  Erhebung über die Rinderbestände      2000-05-03T00:00:00   \n118  Erhebung über die Rinderbestände      2000-05-03T00:00:00   \n119  Erhebung über die Rinderbestände      2000-05-03T00:00:00   \n120  Erhebung über die Rinderbestände      2000-05-03T00:00:00   \n\n    TIE003_source_periodicity TIE003_source_name TIE003_source_url  \n0               HALBJAEHRLICH              41312              None  \n1               HALBJAEHRLICH              41312              None  \n2               HALBJAEHRLICH              41312              None  \n3               HALBJAEHRLICH              41312              None  \n4               HALBJAEHRLICH              41312              None  \n..                        ...                ...               ...  \n116             HALBJAEHRLICH              41312              None  \n117             HALBJAEHRLICH              41312              None  \n118             HALBJAEHRLICH              41312              None  \n119             HALBJAEHRLICH              41312              None  \n120             HALBJAEHRLICH              41312              None  \n\n[121 rows x 11 columns]",
      "text/html": "<div>\n<style scoped>\n    .dataframe tbody tr th:only-of-type {\n        vertical-align: middle;\n    }\n\n    .dataframe tbody tr th {\n        vertical-align: top;\n    }\n\n    .dataframe thead th {\n        text-align: right;\n    }\n</style>\n<table border=\"1\" class=\"dataframe\">\n  <thead>\n    <tr style=\"text-align: right;\">\n      <th></th>\n      <th>id</th>\n      <th>name</th>\n      <th>year</th>\n      <th>TIEA05</th>\n      <th>unit</th>\n      <th>Tiere (TIE003)</th>\n      <th>TIE003_source_title_de</th>\n      <th>TIE003_source_valid_from</th>\n      <th>TIE003_source_periodicity</th>\n      <th>TIE003_source_name</th>\n      <th>TIE003_source_url</th>\n    </tr>\n  </thead>\n  <tbody>\n    <tr>\n      <th>0</th>\n      <td>01</td>\n      <td>Schleswig-Holstein</td>\n      <td>2009</td>\n      <td>TIERART204141W</td>\n      <td>Anzahl</td>\n      <td>126776</td>\n      <td>Erhebung über die Rinderbestände</td>\n      <td>2000-05-03T00:00:00</td>\n      <td>HALBJAEHRLICH</td>\n      <td>41312</td>\n      <td>None</td>\n    </tr>\n    <tr>\n      <th>1</th>\n      <td>01</td>\n      <td>Schleswig-Holstein</td>\n      <td>2009</td>\n      <td>AGRVART01</td>\n      <td>Anzahl</td>\n      <td>1166022</td>\n      <td>Erhebung über die Rinderbestände</td>\n      <td>2000-05-03T00:00:00</td>\n      <td>HALBJAEHRLICH</td>\n      <td>41312</td>\n      <td>None</td>\n    </tr>\n    <tr>\n      <th>2</th>\n      <td>01</td>\n      <td>Schleswig-Holstein</td>\n      <td>2009</td>\n      <td>TIERART20412M</td>\n      <td>Anzahl</td>\n      <td>112161</td>\n      <td>Erhebung über die Rinderbestände</td>\n      <td>2000-05-03T00:00:00</td>\n      <td>HALBJAEHRLICH</td>\n      <td>41312</td>\n      <td>None</td>\n    </tr>\n    <tr>\n      <th>3</th>\n      <td>01</td>\n      <td>Schleswig-Holstein</td>\n      <td>2009</td>\n      <td>TIERART204141M</td>\n      <td>Anzahl</td>\n      <td>106534</td>\n      <td>Erhebung über die Rinderbestände</td>\n      <td>2000-05-03T00:00:00</td>\n      <td>HALBJAEHRLICH</td>\n      <td>41312</td>\n      <td>None</td>\n    </tr>\n    <tr>\n      <th>4</th>\n      <td>01</td>\n      <td>Schleswig-Holstein</td>\n      <td>2009</td>\n      <td>TIERART204141RM</td>\n      <td>Anzahl</td>\n      <td>46616</td>\n      <td>Erhebung über die Rinderbestände</td>\n      <td>2000-05-03T00:00:00</td>\n      <td>HALBJAEHRLICH</td>\n      <td>41312</td>\n      <td>None</td>\n    </tr>\n    <tr>\n      <th>...</th>\n      <td>...</td>\n      <td>...</td>\n      <td>...</td>\n      <td>...</td>\n      <td>...</td>\n      <td>...</td>\n      <td>...</td>\n      <td>...</td>\n      <td>...</td>\n      <td>...</td>\n      <td>...</td>\n    </tr>\n    <tr>\n      <th>116</th>\n      <td>01</td>\n      <td>Schleswig-Holstein</td>\n      <td>2019</td>\n      <td>AGRVART11</td>\n      <td>Anzahl</td>\n      <td>376902</td>\n      <td>Erhebung über die Rinderbestände</td>\n      <td>2000-05-03T00:00:00</td>\n      <td>HALBJAEHRLICH</td>\n      <td>41312</td>\n      <td>None</td>\n    </tr>\n    <tr>\n      <th>117</th>\n      <td>01</td>\n      <td>Schleswig-Holstein</td>\n      <td>2019</td>\n      <td>TIERART204141M</td>\n      <td>Anzahl</td>\n      <td>72270</td>\n      <td>Erhebung über die Rinderbestände</td>\n      <td>2000-05-03T00:00:00</td>\n      <td>HALBJAEHRLICH</td>\n      <td>41312</td>\n      <td>None</td>\n    </tr>\n    <tr>\n      <th>118</th>\n      <td>01</td>\n      <td>Schleswig-Holstein</td>\n      <td>2019</td>\n      <td>TIERART204141RW</td>\n      <td>Anzahl</td>\n      <td>56989</td>\n      <td>Erhebung über die Rinderbestände</td>\n      <td>2000-05-03T00:00:00</td>\n      <td>HALBJAEHRLICH</td>\n      <td>41312</td>\n      <td>None</td>\n    </tr>\n    <tr>\n      <th>119</th>\n      <td>01</td>\n      <td>Schleswig-Holstein</td>\n      <td>2019</td>\n      <td>TIERART204141RM</td>\n      <td>Anzahl</td>\n      <td>27685</td>\n      <td>Erhebung über die Rinderbestände</td>\n      <td>2000-05-03T00:00:00</td>\n      <td>HALBJAEHRLICH</td>\n      <td>41312</td>\n      <td>None</td>\n    </tr>\n    <tr>\n      <th>120</th>\n      <td>01</td>\n      <td>Schleswig-Holstein</td>\n      <td>2019</td>\n      <td>TIERART204141W</td>\n      <td>Anzahl</td>\n      <td>118951</td>\n      <td>Erhebung über die Rinderbestände</td>\n      <td>2000-05-03T00:00:00</td>\n      <td>HALBJAEHRLICH</td>\n      <td>41312</td>\n      <td>None</td>\n    </tr>\n  </tbody>\n</table>\n<p>121 rows × 11 columns</p>\n</div>"
     },
     "metadata": {},
     "execution_count": 20
    }
   ],
   "source": [
    "results"
   ]
  },
  {
   "cell_type": "markdown",
   "metadata": {},
   "source": [
    "## Use `Query.results` method to add unit"
   ]
  },
  {
   "cell_type": "code",
   "execution_count": 21,
   "metadata": {},
   "outputs": [
    {
     "output_type": "stream",
     "text": "\u001b[1;31mSignature:\u001b[0m\n\u001b[0mq\u001b[0m\u001b[1;33m.\u001b[0m\u001b[0mresults\u001b[0m\u001b[1;33m(\u001b[0m\u001b[1;33m\n\u001b[0m    \u001b[0mverbose_statistics\u001b[0m\u001b[1;33m:\u001b[0m \u001b[0mbool\u001b[0m \u001b[1;33m=\u001b[0m \u001b[1;32mFalse\u001b[0m\u001b[1;33m,\u001b[0m\u001b[1;33m\n\u001b[0m    \u001b[0mverbose_enums\u001b[0m\u001b[1;33m:\u001b[0m \u001b[0mbool\u001b[0m \u001b[1;33m=\u001b[0m \u001b[1;32mFalse\u001b[0m\u001b[1;33m,\u001b[0m\u001b[1;33m\n\u001b[0m    \u001b[0madd_units\u001b[0m\u001b[1;33m:\u001b[0m \u001b[0mbool\u001b[0m \u001b[1;33m=\u001b[0m \u001b[1;32mFalse\u001b[0m\u001b[1;33m,\u001b[0m\u001b[1;33m\n\u001b[0m\u001b[1;33m)\u001b[0m \u001b[1;33m->\u001b[0m \u001b[0mpandas\u001b[0m\u001b[1;33m.\u001b[0m\u001b[0mcore\u001b[0m\u001b[1;33m.\u001b[0m\u001b[0mframe\u001b[0m\u001b[1;33m.\u001b[0m\u001b[0mDataFrame\u001b[0m\u001b[1;33m\u001b[0m\u001b[1;33m\u001b[0m\u001b[0m\n\u001b[1;31mDocstring:\u001b[0m\nRuns the query and returns a Pandas DataFrame with the results.\n   It also fills the instance variable result_meta_data with meta\n   data specific to the query instance.\n\nArguments:\n    verbose_statistics -- Toggles whether statistic column names\n    displayed with their short description in the result data frame\n    verbose_enums -- Toggles whether enum values are displayed\n    with their short description in the result data frame\n\n:raises RuntimeError: If the query fails raise RuntimeError.\n:return: A DataFrame with the queried data.\n:rtype: DataFrame\n\u001b[1;31mFile:\u001b[0m      c:\\users\\kzl465\\documents\\datenguide-python\\datenguidepy\\query_builder.py\n\u001b[1;31mType:\u001b[0m      method\n",
     "metadata": {},
     "execution_count": 21
    }
   ],
   "source": [
    "q.results?"
   ]
  },
  {
   "cell_type": "code",
   "execution_count": 23,
   "metadata": {},
   "outputs": [
    {
     "output_type": "execute_result",
     "data": {
      "text/plain": "     id                name  year  \\\n0    01  Schleswig-Holstein  2009   \n1    01  Schleswig-Holstein  2009   \n2    01  Schleswig-Holstein  2009   \n3    01  Schleswig-Holstein  2009   \n4    01  Schleswig-Holstein  2009   \n..   ..                 ...   ...   \n116  01  Schleswig-Holstein  2019   \n117  01  Schleswig-Holstein  2019   \n118  01  Schleswig-Holstein  2019   \n119  01  Schleswig-Holstein  2019   \n120  01  Schleswig-Holstein  2019   \n\n                                                TIEA05    unit  \\\n0               Weibliche Kälber bis einschl. 8 Monate  Anzahl   \n1                                     Rinder insgesamt  Anzahl   \n2                Männliche Rinder 1 bis unter 2 Jahren  Anzahl   \n3               Männliche Kälber bis einschl. 8 Monate  Anzahl   \n4    Männl. Jungrinder m. als 8 Mon. b. einschl. 1 ...  Anzahl   \n..                                                 ...     ...   \n116                                          Milchkühe  Anzahl   \n117             Männliche Kälber bis einschl. 8 Monate  Anzahl   \n118  Weibl. Jungrinder m. als 8 Mon. b. einschl. 1 ...  Anzahl   \n119  Männl. Jungrinder m. als 8 Mon. b. einschl. 1 ...  Anzahl   \n120             Weibliche Kälber bis einschl. 8 Monate  Anzahl   \n\n     Tiere (TIE003)            TIE003_source_title_de  \\\n0            126776  Erhebung über die Rinderbestände   \n1           1166022  Erhebung über die Rinderbestände   \n2            112161  Erhebung über die Rinderbestände   \n3            106534  Erhebung über die Rinderbestände   \n4             46616  Erhebung über die Rinderbestände   \n..              ...                               ...   \n116          376902  Erhebung über die Rinderbestände   \n117           72270  Erhebung über die Rinderbestände   \n118           56989  Erhebung über die Rinderbestände   \n119           27685  Erhebung über die Rinderbestände   \n120          118951  Erhebung über die Rinderbestände   \n\n    TIE003_source_valid_from TIE003_source_periodicity TIE003_source_name  \\\n0        2000-05-03T00:00:00             HALBJAEHRLICH              41312   \n1        2000-05-03T00:00:00             HALBJAEHRLICH              41312   \n2        2000-05-03T00:00:00             HALBJAEHRLICH              41312   \n3        2000-05-03T00:00:00             HALBJAEHRLICH              41312   \n4        2000-05-03T00:00:00             HALBJAEHRLICH              41312   \n..                       ...                       ...                ...   \n116      2000-05-03T00:00:00             HALBJAEHRLICH              41312   \n117      2000-05-03T00:00:00             HALBJAEHRLICH              41312   \n118      2000-05-03T00:00:00             HALBJAEHRLICH              41312   \n119      2000-05-03T00:00:00             HALBJAEHRLICH              41312   \n120      2000-05-03T00:00:00             HALBJAEHRLICH              41312   \n\n    TIE003_source_url  \n0                None  \n1                None  \n2                None  \n3                None  \n4                None  \n..                ...  \n116              None  \n117              None  \n118              None  \n119              None  \n120              None  \n\n[121 rows x 11 columns]",
      "text/html": "<div>\n<style scoped>\n    .dataframe tbody tr th:only-of-type {\n        vertical-align: middle;\n    }\n\n    .dataframe tbody tr th {\n        vertical-align: top;\n    }\n\n    .dataframe thead th {\n        text-align: right;\n    }\n</style>\n<table border=\"1\" class=\"dataframe\">\n  <thead>\n    <tr style=\"text-align: right;\">\n      <th></th>\n      <th>id</th>\n      <th>name</th>\n      <th>year</th>\n      <th>TIEA05</th>\n      <th>unit</th>\n      <th>Tiere (TIE003)</th>\n      <th>TIE003_source_title_de</th>\n      <th>TIE003_source_valid_from</th>\n      <th>TIE003_source_periodicity</th>\n      <th>TIE003_source_name</th>\n      <th>TIE003_source_url</th>\n    </tr>\n  </thead>\n  <tbody>\n    <tr>\n      <th>0</th>\n      <td>01</td>\n      <td>Schleswig-Holstein</td>\n      <td>2009</td>\n      <td>Weibliche Kälber bis einschl. 8 Monate</td>\n      <td>Anzahl</td>\n      <td>126776</td>\n      <td>Erhebung über die Rinderbestände</td>\n      <td>2000-05-03T00:00:00</td>\n      <td>HALBJAEHRLICH</td>\n      <td>41312</td>\n      <td>None</td>\n    </tr>\n    <tr>\n      <th>1</th>\n      <td>01</td>\n      <td>Schleswig-Holstein</td>\n      <td>2009</td>\n      <td>Rinder insgesamt</td>\n      <td>Anzahl</td>\n      <td>1166022</td>\n      <td>Erhebung über die Rinderbestände</td>\n      <td>2000-05-03T00:00:00</td>\n      <td>HALBJAEHRLICH</td>\n      <td>41312</td>\n      <td>None</td>\n    </tr>\n    <tr>\n      <th>2</th>\n      <td>01</td>\n      <td>Schleswig-Holstein</td>\n      <td>2009</td>\n      <td>Männliche Rinder 1 bis unter 2 Jahren</td>\n      <td>Anzahl</td>\n      <td>112161</td>\n      <td>Erhebung über die Rinderbestände</td>\n      <td>2000-05-03T00:00:00</td>\n      <td>HALBJAEHRLICH</td>\n      <td>41312</td>\n      <td>None</td>\n    </tr>\n    <tr>\n      <th>3</th>\n      <td>01</td>\n      <td>Schleswig-Holstein</td>\n      <td>2009</td>\n      <td>Männliche Kälber bis einschl. 8 Monate</td>\n      <td>Anzahl</td>\n      <td>106534</td>\n      <td>Erhebung über die Rinderbestände</td>\n      <td>2000-05-03T00:00:00</td>\n      <td>HALBJAEHRLICH</td>\n      <td>41312</td>\n      <td>None</td>\n    </tr>\n    <tr>\n      <th>4</th>\n      <td>01</td>\n      <td>Schleswig-Holstein</td>\n      <td>2009</td>\n      <td>Männl. Jungrinder m. als 8 Mon. b. einschl. 1 ...</td>\n      <td>Anzahl</td>\n      <td>46616</td>\n      <td>Erhebung über die Rinderbestände</td>\n      <td>2000-05-03T00:00:00</td>\n      <td>HALBJAEHRLICH</td>\n      <td>41312</td>\n      <td>None</td>\n    </tr>\n    <tr>\n      <th>...</th>\n      <td>...</td>\n      <td>...</td>\n      <td>...</td>\n      <td>...</td>\n      <td>...</td>\n      <td>...</td>\n      <td>...</td>\n      <td>...</td>\n      <td>...</td>\n      <td>...</td>\n      <td>...</td>\n    </tr>\n    <tr>\n      <th>116</th>\n      <td>01</td>\n      <td>Schleswig-Holstein</td>\n      <td>2019</td>\n      <td>Milchkühe</td>\n      <td>Anzahl</td>\n      <td>376902</td>\n      <td>Erhebung über die Rinderbestände</td>\n      <td>2000-05-03T00:00:00</td>\n      <td>HALBJAEHRLICH</td>\n      <td>41312</td>\n      <td>None</td>\n    </tr>\n    <tr>\n      <th>117</th>\n      <td>01</td>\n      <td>Schleswig-Holstein</td>\n      <td>2019</td>\n      <td>Männliche Kälber bis einschl. 8 Monate</td>\n      <td>Anzahl</td>\n      <td>72270</td>\n      <td>Erhebung über die Rinderbestände</td>\n      <td>2000-05-03T00:00:00</td>\n      <td>HALBJAEHRLICH</td>\n      <td>41312</td>\n      <td>None</td>\n    </tr>\n    <tr>\n      <th>118</th>\n      <td>01</td>\n      <td>Schleswig-Holstein</td>\n      <td>2019</td>\n      <td>Weibl. Jungrinder m. als 8 Mon. b. einschl. 1 ...</td>\n      <td>Anzahl</td>\n      <td>56989</td>\n      <td>Erhebung über die Rinderbestände</td>\n      <td>2000-05-03T00:00:00</td>\n      <td>HALBJAEHRLICH</td>\n      <td>41312</td>\n      <td>None</td>\n    </tr>\n    <tr>\n      <th>119</th>\n      <td>01</td>\n      <td>Schleswig-Holstein</td>\n      <td>2019</td>\n      <td>Männl. Jungrinder m. als 8 Mon. b. einschl. 1 ...</td>\n      <td>Anzahl</td>\n      <td>27685</td>\n      <td>Erhebung über die Rinderbestände</td>\n      <td>2000-05-03T00:00:00</td>\n      <td>HALBJAEHRLICH</td>\n      <td>41312</td>\n      <td>None</td>\n    </tr>\n    <tr>\n      <th>120</th>\n      <td>01</td>\n      <td>Schleswig-Holstein</td>\n      <td>2019</td>\n      <td>Weibliche Kälber bis einschl. 8 Monate</td>\n      <td>Anzahl</td>\n      <td>118951</td>\n      <td>Erhebung über die Rinderbestände</td>\n      <td>2000-05-03T00:00:00</td>\n      <td>HALBJAEHRLICH</td>\n      <td>41312</td>\n      <td>None</td>\n    </tr>\n  </tbody>\n</table>\n<p>121 rows × 11 columns</p>\n</div>"
     },
     "metadata": {},
     "execution_count": 23
    }
   ],
   "source": [
    "q.results(verbose_statistics=True, verbose_enums=True, add_units=True)"
   ]
  },
  {
   "cell_type": "code",
   "execution_count": null,
   "metadata": {},
   "outputs": [],
   "source": []
  }
 ]
}