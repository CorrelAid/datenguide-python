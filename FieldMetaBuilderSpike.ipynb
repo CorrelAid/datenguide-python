{
 "cells": [
  {
   "cell_type": "code",
   "execution_count": 55,
   "metadata": {},
   "outputs": [],
   "source": [
    "from datenguide_python.query_execution import QueryExecutioner\n",
    "import re\n",
    "from functools import partial"
   ]
  },
  {
   "cell_type": "code",
   "execution_count": 73,
   "metadata": {},
   "outputs": [],
   "source": [
    "class Field(object):\n",
    "    internal_exec = QueryExecutioner()\n",
    "    \n",
    "    def __init__(self,name,return_Type,args=dict()):\n",
    "        self.name = name\n",
    "        self.subfields = []\n",
    "        self.args = args\n",
    "        self._returnType = return_Type\n",
    "        \n",
    "    def __str__(self):\n",
    "        arg_str = str(self.args) if len(self.args) > 0 else ''\n",
    "        return '\\n'.join([self.name + arg_str] \n",
    "                         + [re.sub(r'(^|\\n)',r'\\1   ',str(sf))\n",
    "                            for sf in self.subfields])\n",
    "    \n",
    "    def __getattr__(self,k):\n",
    "        meta = self.internal_exec._get_type_info(self._returnType)\n",
    "        return partial(self.add_subfield,k)\n",
    "    \n",
    "    def __dir__(self):\n",
    "        meta = self.internal_exec._get_type_info(self._returnType)\n",
    "        return (super().__dir__() + list(meta.keys()))\n",
    "            \n",
    "        \n",
    "    @classmethod\n",
    "    def toplevel(cls):\n",
    "        return cls('query','Query')\n",
    "    \n",
    "    def info(self):\n",
    "        return self.internal_exec._get_type_info(self._returnType)\n",
    "        \n",
    "    def add_subfield(self,field,args = {}):\n",
    "        possible_fields = self.internal_exec._get_type_info(self._returnType)\n",
    "        return_type = possible_fields[field].get_return_type()\n",
    "        f = Field(field,return_type,args)\n",
    "        self.subfields.append(f)\n",
    "        return f\n",
    "    "
   ]
  },
  {
   "cell_type": "markdown",
   "metadata": {},
   "source": [
    "## .add_subfield style adding"
   ]
  },
  {
   "cell_type": "code",
   "execution_count": 76,
   "metadata": {},
   "outputs": [
    {
     "name": "stdout",
     "output_type": "stream",
     "text": [
      "query\n",
      "   region{'id': '01'}\n",
      "      name\n",
      "      AENW01\n",
      "         year\n",
      "      AENW06\n",
      "         year\n"
     ]
    }
   ],
   "source": [
    "query = Field.toplevel()\n",
    "region = query.add_subfield('region',{'id':'01'})\n",
    "n = region.add_subfield('name')\n",
    "statistic = region.add_subfield('AENW01')\n",
    "statistic2 = region.add_subfield('AENW06')\n",
    "# Scalar fields don't need to be bound to variables as nothing can be done with them\n",
    "y = statistic.add_subfield('year')\n",
    "statistic2.add_subfield('year')\n",
    "print(query)"
   ]
  },
  {
   "cell_type": "markdown",
   "metadata": {},
   "source": [
    "## `__getattr__` style adding\n",
    "This is also supported by the `__dir__` implementation of the class"
   ]
  },
  {
   "cell_type": "code",
   "execution_count": 77,
   "metadata": {},
   "outputs": [
    {
     "name": "stdout",
     "output_type": "stream",
     "text": [
      "query\n",
      "   region{'id': '01'}\n",
      "      name\n",
      "      AENW01\n",
      "         year\n",
      "      AENW06\n",
      "         year\n"
     ]
    }
   ],
   "source": [
    "query2 = Field.toplevel()\n",
    "region2 = query2.region({'id':'01'})\n",
    "n = region2.add_subfield('name') #namin conflict with attribute name of the field\n",
    "statistic_2 = region2.AENW01()\n",
    "statistic2_2 = region2.AENW06()\n",
    "# Scalar fields don't need to be bound to variables as nothing can be done with them\n",
    "y = statistic_2.year()\n",
    "statistic2_2.year()\n",
    "print(query2)"
   ]
  }
 ],
 "metadata": {
  "kernelspec": {
   "display_name": "datenguide",
   "language": "python",
   "name": "datenguide"
  },
  "language_info": {
   "codemirror_mode": {
    "name": "ipython",
    "version": 3
   },
   "file_extension": ".py",
   "mimetype": "text/x-python",
   "name": "python",
   "nbconvert_exporter": "python",
   "pygments_lexer": "ipython3",
   "version": "3.7.3rc1"
  }
 },
 "nbformat": 4,
 "nbformat_minor": 2
}
