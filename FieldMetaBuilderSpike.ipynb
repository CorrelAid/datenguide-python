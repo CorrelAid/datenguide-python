{
 "cells": [
  {
   "cell_type": "code",
   "execution_count": 9,
   "metadata": {},
   "outputs": [],
   "source": [
    "from datenguide_python.query_execution import QueryExecutioner\n",
    "import re"
   ]
  },
  {
   "cell_type": "code",
   "execution_count": 11,
   "metadata": {},
   "outputs": [],
   "source": [
    "class Field():\n",
    "    internal_exec = QueryExecutioner()\n",
    "    \n",
    "    def __init__(self,name,return_Type,args=dict()):\n",
    "        self.name = name\n",
    "        self.subfields = []\n",
    "        self.args = args\n",
    "        self._returnType = return_Type\n",
    "        \n",
    "    def __str__(self):\n",
    "        arg_str = str(self.args) if len(self.args) > 0 else ''\n",
    "        return '\\n'.join([self.name + arg_str] \n",
    "                         + [re.sub(r'(^|\\n)',r'\\1   ',str(sf))\n",
    "                            for sf in self.subfields])\n",
    "        \n",
    "    @classmethod\n",
    "    def toplevel(cls):\n",
    "        return cls('query','Query')\n",
    "    \n",
    "    def info(self):\n",
    "        return self.internal_exec._get_type_info(self._returnType)\n",
    "        \n",
    "    def add_subfield(self,field,args = {}):\n",
    "        possible_fields = self.internal_exec._get_type_info(self._returnType)\n",
    "        return_type = possible_fields[field].get_return_type()\n",
    "        f = Field(field,return_type,args)\n",
    "        self.subfields.append(f)\n",
    "        return f\n",
    "    "
   ]
  },
  {
   "cell_type": "code",
   "execution_count": 12,
   "metadata": {},
   "outputs": [
    {
     "data": {
      "text/plain": [
       "<__main__.Field at 0x7f7611465be0>"
      ]
     },
     "execution_count": 12,
     "metadata": {},
     "output_type": "execute_result"
    }
   ],
   "source": [
    "query = Field.toplevel()\n",
    "region = query.add_subfield('region',{'id':'01'})\n",
    "n = region.add_subfield('name')\n",
    "statistic = region.add_subfield('AENW01')\n",
    "statistic2 = region.add_subfield('AENW06')\n",
    "# Scalar fields don't need to be bound to variables as nothing can be done with them\n",
    "y = statistic.add_subfield('year')\n",
    "statistic2.add_subfield('year')"
   ]
  },
  {
   "cell_type": "code",
   "execution_count": 13,
   "metadata": {},
   "outputs": [
    {
     "name": "stdout",
     "output_type": "stream",
     "text": [
      "query\n",
      "   region{'id': '01'}\n",
      "      name\n",
      "      AENW01\n",
      "         year\n",
      "      AENW06\n",
      "         year\n"
     ]
    }
   ],
   "source": [
    "print(query)"
   ]
  },
  {
   "cell_type": "code",
   "execution_count": null,
   "metadata": {},
   "outputs": [],
   "source": []
  }
 ],
 "metadata": {
  "kernelspec": {
   "display_name": "datenguide",
   "language": "python",
   "name": "datenguide"
  },
  "language_info": {
   "codemirror_mode": {
    "name": "ipython",
    "version": 3
   },
   "file_extension": ".py",
   "mimetype": "text/x-python",
   "name": "python",
   "nbconvert_exporter": "python",
   "pygments_lexer": "ipython3",
   "version": "3.7.3rc1"
  }
 },
 "nbformat": 4,
 "nbformat_minor": 2
}
