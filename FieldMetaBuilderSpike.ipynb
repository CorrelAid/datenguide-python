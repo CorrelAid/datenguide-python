{
 "cells": [
  {
   "cell_type": "code",
   "execution_count": 2,
   "metadata": {},
   "outputs": [],
   "source": [
    "from datenguide_python.query_execution import QueryExecutioner\n",
    "import re\n",
    "from functools import partial"
   ]
  },
  {
   "cell_type": "code",
   "execution_count": 5,
   "metadata": {},
   "outputs": [],
   "source": [
    "class Field(object):\n",
    "    internal_exec = QueryExecutioner()\n",
    "    \n",
    "    def __init__(self,name,return_Type,args=dict()):\n",
    "        self.name = name\n",
    "        self.subfields = []\n",
    "        self.args = args\n",
    "        self._returnType = return_Type\n",
    "        \n",
    "    def __str__(self):\n",
    "        arg_str = str(self.args) if len(self.args) > 0 else ''\n",
    "        return '\\n'.join([self.name + arg_str] \n",
    "                         + [re.sub(r'(^|\\n)',r'\\1   ',str(sf))\n",
    "                            for sf in self.subfields])\n",
    "    \n",
    "    def __getattr__(self,k):\n",
    "        return partial(self.add_subfield,k)\n",
    "    \n",
    "    def __dir__(self):\n",
    "        meta = self.internal_exec.get_type_info(self._returnType)\n",
    "        return (super().__dir__() + list(meta.fields.keys()))\n",
    "            \n",
    "        \n",
    "    @classmethod\n",
    "    def toplevel(cls):\n",
    "        return cls('query','Query')\n",
    "    \n",
    "    def info(self):\n",
    "        return self.internal_exec._get_type_info(self._returnType)\n",
    "        \n",
    "    def add_subfield(self,field,args = {}):\n",
    "        possible_fields = self.internal_exec.get_type_info(self._returnType).fields\n",
    "        return_type = possible_fields[field].get_return_type()\n",
    "        f = Field(field,return_type,args)\n",
    "        self.subfields.append(f)\n",
    "        return f\n",
    "    "
   ]
  },
  {
   "cell_type": "markdown",
   "metadata": {},
   "source": [
    "## .add_subfield style adding"
   ]
  },
  {
   "cell_type": "code",
   "execution_count": 6,
   "metadata": {},
   "outputs": [
    {
     "name": "stdout",
     "output_type": "stream",
     "text": [
      "query\n",
      "   region{'id': '01'}\n",
      "      name\n",
      "      AENW01\n",
      "         year\n",
      "      AENW06\n",
      "         year\n"
     ]
    }
   ],
   "source": [
    "query = Field.toplevel()\n",
    "region = query.add_subfield('region',{'id':'01'})\n",
    "n = region.add_subfield('name')\n",
    "statistic = region.add_subfield('AENW01')\n",
    "statistic2 = region.add_subfield('AENW06')\n",
    "# Scalar fields don't need to be bound to variables as nothing can be done with them\n",
    "y = statistic.add_subfield('year')\n",
    "statistic2.add_subfield('year')\n",
    "print(query)"
   ]
  },
  {
   "cell_type": "markdown",
   "metadata": {},
   "source": [
    "## `__getattr__` style adding\n",
    "This is also supported by the `__dir__` implementation of the class"
   ]
  },
  {
   "cell_type": "code",
   "execution_count": 7,
   "metadata": {},
   "outputs": [
    {
     "name": "stdout",
     "output_type": "stream",
     "text": [
      "query\n",
      "   region{'id': '01'}\n",
      "      name\n",
      "      AENW01\n",
      "         year\n",
      "      AENW06\n",
      "         year\n"
     ]
    }
   ],
   "source": [
    "query2 = Field.toplevel()\n",
    "region2 = query2.region({'id':'01'})\n",
    "n = region2.add_subfield('name') #namin conflict with attribute name of the field\n",
    "statistic_2 = region2.AENW01()\n",
    "statistic2_2 = region2.AENW06()\n",
    "# Scalar fields don't need to be bound to variables as nothing can be done with them\n",
    "y = statistic_2.year()\n",
    "statistic2_2.year()\n",
    "print(query2)"
   ]
  },
  {
   "cell_type": "markdown",
   "metadata": {},
   "source": [
    "## Usefull executioner functionality\n",
    "To build a complex query builder Field class using meta data the query executioner proveds the  `.get_type_info` method which returns a named tuple."
   ]
  },
  {
   "cell_type": "code",
   "execution_count": 12,
   "metadata": {},
   "outputs": [],
   "source": [
    "ex = QueryExecutioner()\n",
    "stat_info = ex.get_type_info('AENW01')"
   ]
  },
  {
   "cell_type": "code",
   "execution_count": 14,
   "metadata": {},
   "outputs": [
    {
     "data": {
      "text/plain": [
       "'OBJECT'"
      ]
     },
     "execution_count": 14,
     "metadata": {},
     "output_type": "execute_result"
    }
   ],
   "source": [
    "stat_info.kind"
   ]
  },
  {
   "cell_type": "code",
   "execution_count": 15,
   "metadata": {},
   "outputs": [
    {
     "data": {
      "text/plain": [
       "{'id': {'name': 'id',\n",
       "  'type': {'ofType': None,\n",
       "   'kind': 'SCALAR',\n",
       "   'name': 'String',\n",
       "   'description': 'The `String` scalar type represents textual data, represented as UTF-8 character sequences. The String type is most often used by GraphQL to represent free-form human-readable text.'},\n",
       "  'description': 'Interne eindeutige ID',\n",
       "  'args': []},\n",
       " 'year': {'name': 'year',\n",
       "  'type': {'ofType': None,\n",
       "   'kind': 'SCALAR',\n",
       "   'name': 'Int',\n",
       "   'description': 'The `Int` scalar type represents non-fractional signed whole numeric values. Int can represent values between -(2^31) and 2^31 - 1. '},\n",
       "  'description': 'Jahr des Stichtages',\n",
       "  'args': []},\n",
       " 'value': {'name': 'value',\n",
       "  'type': {'ofType': None,\n",
       "   'kind': 'SCALAR',\n",
       "   'name': 'Float',\n",
       "   'description': 'The `Float` scalar type represents signed double-precision fractional values as specified by [IEEE 754](https://en.wikipedia.org/wiki/IEEE_floating_point). '},\n",
       "  'description': 'Wert',\n",
       "  'args': []},\n",
       " 'source': {'name': 'source',\n",
       "  'type': {'ofType': None,\n",
       "   'kind': 'OBJECT',\n",
       "   'name': 'Source',\n",
       "   'description': ''},\n",
       "  'description': 'Quellenverweis zur GENESIS Regionaldatenbank',\n",
       "  'args': []}}"
      ]
     },
     "execution_count": 15,
     "metadata": {},
     "output_type": "execute_result"
    }
   ],
   "source": [
    "stat_info.fields"
   ]
  },
  {
   "cell_type": "code",
   "execution_count": 16,
   "metadata": {},
   "outputs": [],
   "source": [
    "stat_info.enum_values"
   ]
  },
  {
   "cell_type": "code",
   "execution_count": 26,
   "metadata": {},
   "outputs": [],
   "source": [
    "enum_info = ex.get_type_info('WHGGR1')"
   ]
  },
  {
   "cell_type": "code",
   "execution_count": 27,
   "metadata": {},
   "outputs": [
    {
     "data": {
      "text/plain": [
       "('ENUM', None)"
      ]
     },
     "execution_count": 27,
     "metadata": {},
     "output_type": "execute_result"
    }
   ],
   "source": [
    "enum_info.kind,enum_info.fields"
   ]
  },
  {
   "cell_type": "code",
   "execution_count": 28,
   "metadata": {},
   "outputs": [
    {
     "data": {
      "text/plain": [
       "{'WHGRME01': 'Wohnungen mit 1 Raum',\n",
       " 'WHGRME02': 'Wohnungen mit 2 Räumen',\n",
       " 'WHGRME03': 'Wohnungen mit 3 Räumen',\n",
       " 'WHGRME04': 'Wohnungen mit 4 Räumen',\n",
       " 'WHGRME05': 'Wohnungen mit 5 Räumen',\n",
       " 'WHGRME06': 'Wohnungen mit 6 Räumen',\n",
       " 'WHGRME07UM': 'Wohnungen mit 7 Räumen oder mehr',\n",
       " 'GESAMT': 'Gesamt'}"
      ]
     },
     "execution_count": 28,
     "metadata": {},
     "output_type": "execute_result"
    }
   ],
   "source": [
    "enum_info.enum_values"
   ]
  },
  {
   "cell_type": "markdown",
   "metadata": {},
   "source": [
    "## FieldMetaDict\n",
    "In order to improve internal readbility and usability the individual subdicts of the named tuples `.fields` position, are FieldMetaDicts. This is a custom Subclass of Dict that addtionally provides two methods to obtain certain meta information. One is `.get_return_type()` and the second is `.get_arguments`. These are supposed to help with implementations while still keeping all the regular dicitonary functionality in place to cover edge cases and similar.\n",
    "\n",
    "### Note on testing with inheritance\n",
    "Due to subclassing `dict` and the is the following distinction in testing the class of a `FieldMetaDict` instance `x`.\n",
    "```python\n",
    "type(x) == dict  #returns false\n",
    "isinstance(x,dict)  #returns still true\n",
    "```"
   ]
  },
  {
   "cell_type": "markdown",
   "metadata": {},
   "source": [
    "### Return types\n",
    "`.get_return_type()` type modifiers of the return type like returning a list or elements for instance and always returns only the name of the underlying type of whatever is returned."
   ]
  },
  {
   "cell_type": "code",
   "execution_count": 17,
   "metadata": {},
   "outputs": [],
   "source": [
    "region_info = ex.get_type_info('Region')\n",
    "query_info = ex.get_type_info('Query')"
   ]
  },
  {
   "cell_type": "code",
   "execution_count": 30,
   "metadata": {},
   "outputs": [
    {
     "data": {
      "text/plain": [
       "'WOHNY1'"
      ]
     },
     "execution_count": 30,
     "metadata": {},
     "output_type": "execute_result"
    }
   ],
   "source": [
    "region_info.fields['WOHNY1'].get_return_type()"
   ]
  },
  {
   "cell_type": "code",
   "execution_count": 39,
   "metadata": {},
   "outputs": [
    {
     "data": {
      "text/plain": [
       "('Region', 'RegionsResult')"
      ]
     },
     "execution_count": 39,
     "metadata": {},
     "output_type": "execute_result"
    }
   ],
   "source": [
    "(query_info.fields['region'].get_return_type()\n",
    " ,query_info.fields['allRegions'].get_return_type())"
   ]
  },
  {
   "cell_type": "code",
   "execution_count": 40,
   "metadata": {},
   "outputs": [
    {
     "data": {
      "text/plain": [
       "'String'"
      ]
     },
     "execution_count": 40,
     "metadata": {},
     "output_type": "execute_result"
    }
   ],
   "source": [
    "region_info.fields['id'].get_return_type()"
   ]
  },
  {
   "cell_type": "markdown",
   "metadata": {},
   "source": [
    "### Argument Examples\n",
    "`.get_arguments` returns a dict of all the arguments as well as some information about them. The information make take a different form depending on the argument being a LIST, NON_NULL or  having no special property. Currently the focus was on simply presenting this information to get a feling for it. Accessing it more systematically and providing more of an interface may come at a later point."
   ]
  },
  {
   "cell_type": "code",
   "execution_count": 21,
   "metadata": {},
   "outputs": [
    {
     "data": {
      "text/plain": [
       "{'year': ('LIST', None, 'Int', 'SCALAR'),\n",
       " 'statistics': ('LIST', None, 'WOHNY1Statistics', 'ENUM'),\n",
       " 'WHGGR1': ('LIST', None, 'WHGGR1', 'ENUM'),\n",
       " 'filter': ('INPUT_OBJECT', 'WOHNY1Filter', None, None)}"
      ]
     },
     "execution_count": 21,
     "metadata": {},
     "output_type": "execute_result"
    }
   ],
   "source": [
    "region_info.fields['WOHNY1'].get_arguments()"
   ]
  },
  {
   "cell_type": "code",
   "execution_count": 35,
   "metadata": {},
   "outputs": [
    {
     "data": {
      "text/plain": [
       "{'year': ('LIST', None, 'Int', 'SCALAR'),\n",
       " 'statistics': ('LIST', None, 'AENW01Statistics', 'ENUM')}"
      ]
     },
     "execution_count": 35,
     "metadata": {},
     "output_type": "execute_result"
    }
   ],
   "source": [
    "region_info.fields['AENW01'].get_arguments()"
   ]
  },
  {
   "cell_type": "code",
   "execution_count": 24,
   "metadata": {},
   "outputs": [
    {
     "data": {
      "text/plain": [
       "{'id': ('NON_NULL', None, 'String', 'SCALAR')}"
      ]
     },
     "execution_count": 24,
     "metadata": {},
     "output_type": "execute_result"
    }
   ],
   "source": [
    "query_info.fields['region'].get_arguments()"
   ]
  },
  {
   "cell_type": "code",
   "execution_count": 25,
   "metadata": {},
   "outputs": [
    {
     "data": {
      "text/plain": [
       "{'page': ('SCALAR', 'Int', None, None),\n",
       " 'itemsPerPage': ('SCALAR', 'Int', None, None)}"
      ]
     },
     "execution_count": 25,
     "metadata": {},
     "output_type": "execute_result"
    }
   ],
   "source": [
    "query_info.fields['allRegions'].get_arguments()"
   ]
  }
 ],
 "metadata": {
  "kernelspec": {
   "display_name": "datenguide",
   "language": "python",
   "name": "datenguide"
  },
  "language_info": {
   "codemirror_mode": {
    "name": "ipython",
    "version": 3
   },
   "file_extension": ".py",
   "mimetype": "text/x-python",
   "name": "python",
   "nbconvert_exporter": "python",
   "pygments_lexer": "ipython3",
   "version": "3.7.4"
  }
 },
 "nbformat": 4,
 "nbformat_minor": 2
}
